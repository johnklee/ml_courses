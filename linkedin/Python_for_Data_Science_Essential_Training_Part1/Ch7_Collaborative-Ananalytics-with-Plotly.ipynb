{
 "cells": [
  {
   "cell_type": "markdown",
   "id": "359b35b7",
   "metadata": {},
   "source": [
    "<a id='sect0'></a>\n",
    "## <font color='darkblue'>Collaborative Analytics with Plotly</font>\n",
    "([course link](https://www.linkedin.com/learning/python-for-data-science-essential-training-part-1/introduction-to-plotly?autoplay=true&resume=false&u=56685617))\n",
    "* <font size='3ptx'><b><a href='#sect1'>Introduction to Plotly</a></b></font>\n",
    "* <font size='3ptx'><b><a href='#sect2'>Create statistic charts</a></b></font>\n",
    "* <font size='3ptx'><b><a href='#sect3'>Line charts in Plotly</a></b></font>\n",
    "* <font size='3ptx'><b><a href='#sect4'>Bar charts and pie charts in Plotly</a></b></font>\n",
    "* <font size='3ptx'><b><a href='#sect5'>Create statistical charts</a></b></font>"
   ]
  },
  {
   "cell_type": "markdown",
   "id": "dd6e1b0b",
   "metadata": {},
   "source": [
    "<a id='sect1'></a>\n",
    "### <font color='darkgreen'>Introduction to Plotly</font>\n",
    "([course link](https://www.linkedin.com/learning/python-for-data-science-essential-training-part-1/introduction-to-plotly?autoplay=true&resume=false&u=56685617)) The [**Plotly library**](https://plotly.com/python/) is very useful because it allows you to use Python to quickly create beautiful and web-friendly interactive charts, dashboards, and reports that you can easily share across the internet.\n",
    "\n",
    "To generate Plotly plots from NumPy objects, you use the following Plotly attributes:\n",
    "* <b>Traces</b>. These are objects that describe a single variable of data in a graph; for example, a scatter plot or heatmap.\n",
    "* <b>Layouts</b>. You use these attributes to set layout elements for your plot; for example, the title, x-axis, or annotations."
   ]
  },
  {
   "cell_type": "markdown",
   "id": "bc4415ff",
   "metadata": {},
   "source": [
    "<a id='sect2'></a>\n",
    "### <font color='darkgreen'>Create statistic charts</font>\n",
    "([course link](https://www.linkedin.com/learning/python-for-data-science-essential-training-part-1/create-statistical-charts?autoSkip=true&autoplay=true&resume=false&u=56685617))"
   ]
  },
  {
   "cell_type": "code",
   "execution_count": 34,
   "id": "35c28275",
   "metadata": {},
   "outputs": [],
   "source": [
    "#!pip install plotly\n",
    "#!pip install cufflinks\n",
    "#!pip install chart-studio\n",
    "#!pip install sklearn"
   ]
  },
  {
   "cell_type": "code",
   "execution_count": 35,
   "id": "c3a82b45",
   "metadata": {},
   "outputs": [],
   "source": [
    "import numpy as np\n",
    "import pandas as pd\n",
    "import chart_studio\n",
    "import cufflinks as cf\n",
    "from chart_studio import plotly as py\n",
    "#import plotly.plotly as py\n",
    "import plotly.tools as tls\n",
    "import plotly.graph_objs as go\n",
    "\n",
    "from sklearn.preprocessing import StandardScaler"
   ]
  },
  {
   "cell_type": "code",
   "execution_count": 8,
   "id": "c97d7f86",
   "metadata": {},
   "outputs": [],
   "source": [
    "# https://chart-studio.plotly.com/settings/api#/\n",
    "chart_studio.tools.set_credentials_file(username='johnkclee', api_key='TohG4U3ESj5uTjQs4EOt')"
   ]
  },
  {
   "cell_type": "markdown",
   "id": "c60857c6",
   "metadata": {},
   "source": [
    "<a id='sect3'></a>\n",
    "### <font color='darkgreen'>Line charts in Plotly</font> ([back](#sect0))\n",
    "([course link](https://www.linkedin.com/learning/python-for-data-science-essential-training-part-1/line-charts-in-plotly?autoSkip=true&autoplay=true&resume=false&u=56685617))"
   ]
  },
  {
   "cell_type": "code",
   "execution_count": 54,
   "id": "d2bb1551",
   "metadata": {},
   "outputs": [
    {
     "data": {
      "text/html": [
       "\n",
       "        <iframe\n",
       "            width=\"100%\"\n",
       "            height=\"525px\"\n",
       "            src=\"https://plotly.com/~johnkclee/1.embed\"\n",
       "            frameborder=\"0\"\n",
       "            allowfullscreen\n",
       "            \n",
       "        ></iframe>\n",
       "        "
      ],
      "text/plain": [
       "<IPython.lib.display.IFrame at 0x7f9d810fe6a0>"
      ]
     },
     "execution_count": 54,
     "metadata": {},
     "output_type": "execute_result"
    }
   ],
   "source": [
    "a = np.linspace(start=0, stop=36, num=36)\n",
    "np.random.seed(25)\n",
    "b = np.random.uniform(low=0.0, high=1.0, size=36)\n",
    "trace = go.Scatter(x=a, y=b)\n",
    "data = [trace]\n",
    "py.iplot(data, filename='basic-line-chart')"
   ]
  },
  {
   "cell_type": "markdown",
   "id": "5d95a947",
   "metadata": {},
   "source": [
    "#### A line chart from a pandas dataframe"
   ]
  },
  {
   "cell_type": "code",
   "execution_count": 27,
   "id": "1f60bd3a",
   "metadata": {},
   "outputs": [
    {
     "data": {
      "text/html": [
       "<div>\n",
       "<style scoped>\n",
       "    .dataframe tbody tr th:only-of-type {\n",
       "        vertical-align: middle;\n",
       "    }\n",
       "\n",
       "    .dataframe tbody tr th {\n",
       "        vertical-align: top;\n",
       "    }\n",
       "\n",
       "    .dataframe thead th {\n",
       "        text-align: right;\n",
       "    }\n",
       "</style>\n",
       "<table border=\"1\" class=\"dataframe\">\n",
       "  <thead>\n",
       "    <tr style=\"text-align: right;\">\n",
       "      <th></th>\n",
       "      <th>model</th>\n",
       "      <th>mpg</th>\n",
       "      <th>cyl</th>\n",
       "      <th>disp</th>\n",
       "      <th>hp</th>\n",
       "      <th>drat</th>\n",
       "      <th>wt</th>\n",
       "      <th>qsec</th>\n",
       "      <th>vs</th>\n",
       "      <th>am</th>\n",
       "      <th>gear</th>\n",
       "      <th>carb</th>\n",
       "    </tr>\n",
       "  </thead>\n",
       "  <tbody>\n",
       "    <tr>\n",
       "      <th>0</th>\n",
       "      <td>Mazda RX4</td>\n",
       "      <td>21.0</td>\n",
       "      <td>6</td>\n",
       "      <td>160.0</td>\n",
       "      <td>110</td>\n",
       "      <td>3.90</td>\n",
       "      <td>2.620</td>\n",
       "      <td>16.46</td>\n",
       "      <td>0</td>\n",
       "      <td>1</td>\n",
       "      <td>4</td>\n",
       "      <td>4</td>\n",
       "    </tr>\n",
       "    <tr>\n",
       "      <th>1</th>\n",
       "      <td>Mazda RX4 Wag</td>\n",
       "      <td>21.0</td>\n",
       "      <td>6</td>\n",
       "      <td>160.0</td>\n",
       "      <td>110</td>\n",
       "      <td>3.90</td>\n",
       "      <td>2.875</td>\n",
       "      <td>17.02</td>\n",
       "      <td>0</td>\n",
       "      <td>1</td>\n",
       "      <td>4</td>\n",
       "      <td>4</td>\n",
       "    </tr>\n",
       "    <tr>\n",
       "      <th>2</th>\n",
       "      <td>Datsun 710</td>\n",
       "      <td>22.8</td>\n",
       "      <td>4</td>\n",
       "      <td>108.0</td>\n",
       "      <td>93</td>\n",
       "      <td>3.85</td>\n",
       "      <td>2.320</td>\n",
       "      <td>18.61</td>\n",
       "      <td>1</td>\n",
       "      <td>1</td>\n",
       "      <td>4</td>\n",
       "      <td>1</td>\n",
       "    </tr>\n",
       "    <tr>\n",
       "      <th>3</th>\n",
       "      <td>Hornet 4 Drive</td>\n",
       "      <td>21.4</td>\n",
       "      <td>6</td>\n",
       "      <td>258.0</td>\n",
       "      <td>110</td>\n",
       "      <td>3.08</td>\n",
       "      <td>3.215</td>\n",
       "      <td>19.44</td>\n",
       "      <td>1</td>\n",
       "      <td>0</td>\n",
       "      <td>3</td>\n",
       "      <td>1</td>\n",
       "    </tr>\n",
       "    <tr>\n",
       "      <th>4</th>\n",
       "      <td>Hornet Sportabout</td>\n",
       "      <td>18.7</td>\n",
       "      <td>8</td>\n",
       "      <td>360.0</td>\n",
       "      <td>175</td>\n",
       "      <td>3.15</td>\n",
       "      <td>3.440</td>\n",
       "      <td>17.02</td>\n",
       "      <td>0</td>\n",
       "      <td>0</td>\n",
       "      <td>3</td>\n",
       "      <td>2</td>\n",
       "    </tr>\n",
       "  </tbody>\n",
       "</table>\n",
       "</div>"
      ],
      "text/plain": [
       "               model   mpg  cyl   disp   hp  drat     wt   qsec  vs  am  gear  \\\n",
       "0          Mazda RX4  21.0    6  160.0  110  3.90  2.620  16.46   0   1     4   \n",
       "1      Mazda RX4 Wag  21.0    6  160.0  110  3.90  2.875  17.02   0   1     4   \n",
       "2         Datsun 710  22.8    4  108.0   93  3.85  2.320  18.61   1   1     4   \n",
       "3     Hornet 4 Drive  21.4    6  258.0  110  3.08  3.215  19.44   1   0     3   \n",
       "4  Hornet Sportabout  18.7    8  360.0  175  3.15  3.440  17.02   0   0     3   \n",
       "\n",
       "   carb  \n",
       "0     4  \n",
       "1     4  \n",
       "2     1  \n",
       "3     1  \n",
       "4     2  "
      ]
     },
     "execution_count": 27,
     "metadata": {},
     "output_type": "execute_result"
    }
   ],
   "source": [
    "mt_cars_url = 'https://gist.githubusercontent.com/seankross/a412dfbd88b3db70b74b/raw/5f23f993cd87c283ce766e7ac6b329ee7cc2e1d1/mtcars.csv'\n",
    "df = pd.read_csv(mt_cars_url)\n",
    "df.head(n=5)"
   ]
  },
  {
   "cell_type": "code",
   "execution_count": 16,
   "id": "1bece0f7",
   "metadata": {},
   "outputs": [
    {
     "data": {
      "text/html": [
       "\n",
       "        <iframe\n",
       "            width=\"100%\"\n",
       "            height=\"525px\"\n",
       "            src=\"https://plotly.com/~johnkclee/3.embed\"\n",
       "            frameborder=\"0\"\n",
       "            allowfullscreen\n",
       "            \n",
       "        ></iframe>\n",
       "        "
      ],
      "text/plain": [
       "<IPython.lib.display.IFrame at 0x7f9dac7d4a30>"
      ]
     },
     "execution_count": 16,
     "metadata": {},
     "output_type": "execute_result"
    }
   ],
   "source": [
    "sub_df = df[['cyl', 'wt', 'mpg']]\n",
    "layout = dict(\n",
    "  title='Chart from Pandas DataFrame', \n",
    "  xaxis=dict(title='x-axis'),\n",
    "  yaxis=dict(title='y-axis'))\n",
    "\n",
    "sub_df.iplot(filename='cf-simple-line-chart', layout=layout)"
   ]
  },
  {
   "cell_type": "markdown",
   "id": "afd6a4f7",
   "metadata": {},
   "source": [
    "<a id='sect4'></a>\n",
    "### <font color='darkgreen'>Bar charts and pie charts in Plotly</font> ([back](#sect0))\n",
    "([course link](https://www.linkedin.com/learning/python-for-data-science-essential-training-part-1/bar-charts-and-pie-charts-in-plotly?autoSkip=true&autoplay=true&resume=false&u=56685617))"
   ]
  },
  {
   "cell_type": "code",
   "execution_count": 19,
   "id": "5d5d770e",
   "metadata": {},
   "outputs": [
    {
     "name": "stdout",
     "output_type": "stream",
     "text": [
      "[Bar({\n",
      "    'x': [1, 2, 3, 4, 5, 6, 7, 8, 9, 10], 'y': [1, 2, 3, 4, 0, 5, 4, 3, 2, 1]\n",
      "})]\n"
     ]
    }
   ],
   "source": [
    "data = [go.Bar(x=list(range(1, 11)), y=[1,2,3,4,0,5,4,3,2,1])]\n",
    "print(data)"
   ]
  },
  {
   "cell_type": "code",
   "execution_count": 22,
   "id": "25f924e6",
   "metadata": {},
   "outputs": [
    {
     "data": {
      "text/html": [
       "\n",
       "        <iframe\n",
       "            width=\"100%\"\n",
       "            height=\"525px\"\n",
       "            src=\"https://plotly.com/~johnkclee/6.embed\"\n",
       "            frameborder=\"0\"\n",
       "            allowfullscreen\n",
       "            \n",
       "        ></iframe>\n",
       "        "
      ],
      "text/plain": [
       "<IPython.lib.display.IFrame at 0x7f9dace08970>"
      ]
     },
     "execution_count": 22,
     "metadata": {},
     "output_type": "execute_result"
    }
   ],
   "source": [
    "layout = dict(\n",
    "  title='Simple Bar Chart',\n",
    "  xaxis=dict(title='x-axis'),\n",
    "  yaxis=dict(title='y-axis'))\n",
    "\n",
    "py.iplot(data, filename='basic-bar-chart', layout=layout)"
   ]
  },
  {
   "cell_type": "markdown",
   "id": "69af70c3",
   "metadata": {},
   "source": [
    "#### Creating Pie charts"
   ]
  },
  {
   "cell_type": "code",
   "execution_count": 26,
   "id": "74fea0d8",
   "metadata": {},
   "outputs": [
    {
     "data": {
      "text/html": [
       "\n",
       "        <iframe\n",
       "            width=\"100%\"\n",
       "            height=\"525px\"\n",
       "            src=\"https://plotly.com/~johnkclee/11.embed\"\n",
       "            frameborder=\"0\"\n",
       "            allowfullscreen\n",
       "            \n",
       "        ></iframe>\n",
       "        "
      ],
      "text/plain": [
       "<IPython.lib.display.IFrame at 0x7f9dace0fcd0>"
      ]
     },
     "execution_count": 26,
     "metadata": {},
     "output_type": "execute_result"
    }
   ],
   "source": [
    "fig = {\n",
    "  'data': [{\n",
    "    'labels': ['bicycle', 'motocycle', 'car', 'van', 'stroller'],\n",
    "    'values': [1, 2, 3, 4, 0, 5],\n",
    "    'type': 'pie',\n",
    "    }],\n",
    "  'layout': {\n",
    "    'title': 'Simple Pie Chart',\n",
    "  }}\n",
    "\n",
    "py.iplot(fig)"
   ]
  },
  {
   "cell_type": "markdown",
   "id": "fa571b02",
   "metadata": {},
   "source": [
    "<a id='sect5'></a>\n",
    "### <font color='darkgreen'>Create statistical charts</font> ([back](#sect0))\n",
    "([course link](https://www.linkedin.com/learning/python-for-data-science-essential-training-part-1/create-statistical-charts-2?autoSkip=true&autoplay=true&resume=false&u=56685617))\n",
    "* **Simple histogram chart** - A series object plotted as a simple interactive histogram\n",
    "* **Multiple histogram charts** - A DataFrame object plotted out in overlapping, transparent, interactive histograms.\n",
    "* **Subplot histograms** - A DataFrame object plotted out in separate, clear, interactive subplots"
   ]
  },
  {
   "cell_type": "markdown",
   "id": "6e9e8853",
   "metadata": {},
   "source": [
    "#### Creating histograms"
   ]
  },
  {
   "cell_type": "code",
   "execution_count": 28,
   "id": "8985b34d",
   "metadata": {},
   "outputs": [
    {
     "data": {
      "text/html": [
       "\n",
       "        <iframe\n",
       "            width=\"100%\"\n",
       "            height=\"525px\"\n",
       "            src=\"https://plotly.com/~johnkclee/13.embed\"\n",
       "            frameborder=\"0\"\n",
       "            allowfullscreen\n",
       "            \n",
       "        ></iframe>\n",
       "        "
      ],
      "text/plain": [
       "<IPython.lib.display.IFrame at 0x7f9d81147970>"
      ]
     },
     "execution_count": 28,
     "metadata": {},
     "output_type": "execute_result"
    }
   ],
   "source": [
    "# Make a histogram from a pandas Series object\n",
    "mpg = df.mpg\n",
    "mpg.iplot(kind='histogram', filename='simple-histogram-chart')"
   ]
  },
  {
   "cell_type": "code",
   "execution_count": 41,
   "id": "d61aa364",
   "metadata": {},
   "outputs": [],
   "source": [
    "target_column_names = ['mpg', 'disp', 'hp']\n",
    "sub_df = df[target_column_names]\n",
    "transformed_column_names = ['norm_mpg', 'norm_disp', 'norm_hp']\n",
    "sub_df[transformed_column_names] = StandardScaler().fit_transform(sub_df)"
   ]
  },
  {
   "cell_type": "code",
   "execution_count": 43,
   "id": "ff4a6efa",
   "metadata": {},
   "outputs": [
    {
     "data": {
      "text/html": [
       "<div>\n",
       "<style scoped>\n",
       "    .dataframe tbody tr th:only-of-type {\n",
       "        vertical-align: middle;\n",
       "    }\n",
       "\n",
       "    .dataframe tbody tr th {\n",
       "        vertical-align: top;\n",
       "    }\n",
       "\n",
       "    .dataframe thead th {\n",
       "        text-align: right;\n",
       "    }\n",
       "</style>\n",
       "<table border=\"1\" class=\"dataframe\">\n",
       "  <thead>\n",
       "    <tr style=\"text-align: right;\">\n",
       "      <th></th>\n",
       "      <th>mpg</th>\n",
       "      <th>disp</th>\n",
       "      <th>hp</th>\n",
       "      <th>norm_mpg</th>\n",
       "      <th>norm_disp</th>\n",
       "      <th>norm_hp</th>\n",
       "    </tr>\n",
       "  </thead>\n",
       "  <tbody>\n",
       "    <tr>\n",
       "      <th>6</th>\n",
       "      <td>14.3</td>\n",
       "      <td>360.0</td>\n",
       "      <td>245</td>\n",
       "      <td>-0.976163</td>\n",
       "      <td>1.059772</td>\n",
       "      <td>1.456847</td>\n",
       "    </tr>\n",
       "    <tr>\n",
       "      <th>28</th>\n",
       "      <td>15.8</td>\n",
       "      <td>351.0</td>\n",
       "      <td>264</td>\n",
       "      <td>-0.723298</td>\n",
       "      <td>0.985993</td>\n",
       "      <td>1.738399</td>\n",
       "    </tr>\n",
       "    <tr>\n",
       "      <th>1</th>\n",
       "      <td>21.0</td>\n",
       "      <td>160.0</td>\n",
       "      <td>110</td>\n",
       "      <td>0.153299</td>\n",
       "      <td>-0.579750</td>\n",
       "      <td>-0.543655</td>\n",
       "    </tr>\n",
       "    <tr>\n",
       "      <th>9</th>\n",
       "      <td>19.2</td>\n",
       "      <td>167.6</td>\n",
       "      <td>123</td>\n",
       "      <td>-0.150138</td>\n",
       "      <td>-0.517448</td>\n",
       "      <td>-0.351014</td>\n",
       "    </tr>\n",
       "    <tr>\n",
       "      <th>0</th>\n",
       "      <td>21.0</td>\n",
       "      <td>160.0</td>\n",
       "      <td>110</td>\n",
       "      <td>0.153299</td>\n",
       "      <td>-0.579750</td>\n",
       "      <td>-0.543655</td>\n",
       "    </tr>\n",
       "  </tbody>\n",
       "</table>\n",
       "</div>"
      ],
      "text/plain": [
       "     mpg   disp   hp  norm_mpg  norm_disp   norm_hp\n",
       "6   14.3  360.0  245 -0.976163   1.059772  1.456847\n",
       "28  15.8  351.0  264 -0.723298   0.985993  1.738399\n",
       "1   21.0  160.0  110  0.153299  -0.579750 -0.543655\n",
       "9   19.2  167.6  123 -0.150138  -0.517448 -0.351014\n",
       "0   21.0  160.0  110  0.153299  -0.579750 -0.543655"
      ]
     },
     "execution_count": 43,
     "metadata": {},
     "output_type": "execute_result"
    }
   ],
   "source": [
    "sub_df.sample(n=5)"
   ]
  },
  {
   "cell_type": "code",
   "execution_count": 44,
   "id": "0d350792",
   "metadata": {},
   "outputs": [
    {
     "data": {
      "text/html": [
       "\n",
       "        <iframe\n",
       "            width=\"100%\"\n",
       "            height=\"525px\"\n",
       "            src=\"https://plotly.com/~johnkclee/15.embed\"\n",
       "            frameborder=\"0\"\n",
       "            allowfullscreen\n",
       "            \n",
       "        ></iframe>\n",
       "        "
      ],
      "text/plain": [
       "<IPython.lib.display.IFrame at 0x7f9d81147fd0>"
      ]
     },
     "execution_count": 44,
     "metadata": {},
     "output_type": "execute_result"
    }
   ],
   "source": [
    "sub_df[transformed_column_names].iplot(kind='histogram', filename='multiple-histogram-chart')"
   ]
  },
  {
   "cell_type": "code",
   "execution_count": 46,
   "id": "020076ca",
   "metadata": {},
   "outputs": [
    {
     "data": {
      "text/html": [
       "\n",
       "        <iframe\n",
       "            width=\"100%\"\n",
       "            height=\"525px\"\n",
       "            src=\"https://plotly.com/~johnkclee/17.embed\"\n",
       "            frameborder=\"0\"\n",
       "            allowfullscreen\n",
       "            \n",
       "        ></iframe>\n",
       "        "
      ],
      "text/plain": [
       "<IPython.lib.display.IFrame at 0x7f9d5a9ea640>"
      ]
     },
     "execution_count": 46,
     "metadata": {},
     "output_type": "execute_result"
    }
   ],
   "source": [
    "sub_df[transformed_column_names].iplot(\n",
    "  kind='histogram', \n",
    "  subplots=True,\n",
    "  filename='subplot-histogram-chart')"
   ]
  },
  {
   "cell_type": "code",
   "execution_count": 47,
   "id": "791ace21",
   "metadata": {},
   "outputs": [
    {
     "data": {
      "text/html": [
       "\n",
       "        <iframe\n",
       "            width=\"100%\"\n",
       "            height=\"525px\"\n",
       "            src=\"https://plotly.com/~johnkclee/17.embed\"\n",
       "            frameborder=\"0\"\n",
       "            allowfullscreen\n",
       "            \n",
       "        ></iframe>\n",
       "        "
      ],
      "text/plain": [
       "<IPython.lib.display.IFrame at 0x7f9d5a4cab20>"
      ]
     },
     "execution_count": 47,
     "metadata": {},
     "output_type": "execute_result"
    }
   ],
   "source": [
    "sub_df[transformed_column_names].iplot(\n",
    "  kind='histogram', \n",
    "  subplots=True,\n",
    "  shape=(3,1),\n",
    "  filename='subplot-histogram-chart')"
   ]
  },
  {
   "cell_type": "markdown",
   "id": "3e3ae79e",
   "metadata": {},
   "source": [
    "#### Creating box plots"
   ]
  },
  {
   "cell_type": "code",
   "execution_count": 49,
   "id": "9acbf366",
   "metadata": {},
   "outputs": [
    {
     "data": {
      "text/html": [
       "\n",
       "        <iframe\n",
       "            width=\"100%\"\n",
       "            height=\"525px\"\n",
       "            src=\"https://plotly.com/~johnkclee/21.embed\"\n",
       "            frameborder=\"0\"\n",
       "            allowfullscreen\n",
       "            \n",
       "        ></iframe>\n",
       "        "
      ],
      "text/plain": [
       "<IPython.lib.display.IFrame at 0x7f9d5cedc9a0>"
      ]
     },
     "execution_count": 49,
     "metadata": {},
     "output_type": "execute_result"
    }
   ],
   "source": [
    "sub_df[transformed_column_names].iplot(\n",
    "  kind='box', \n",
    "  filename='box-plots')"
   ]
  },
  {
   "cell_type": "markdown",
   "id": "efcd82a3",
   "metadata": {},
   "source": [
    "#### Creating scatter plots"
   ]
  },
  {
   "cell_type": "code",
   "execution_count": 53,
   "id": "8e10f998",
   "metadata": {},
   "outputs": [
    {
     "data": {
      "text/html": [
       "\n",
       "        <iframe\n",
       "            width=\"100%\"\n",
       "            height=\"525px\"\n",
       "            src=\"https://plotly.com/~johnkclee/24.embed\"\n",
       "            frameborder=\"0\"\n",
       "            allowfullscreen\n",
       "            \n",
       "        ></iframe>\n",
       "        "
      ],
      "text/plain": [
       "<IPython.lib.display.IFrame at 0x7f9d5aa1aca0>"
      ]
     },
     "execution_count": 53,
     "metadata": {},
     "output_type": "execute_result"
    }
   ],
   "source": [
    "fig = {\n",
    "  'data': [{\n",
    "    'x': sub_df.norm_mpg,\n",
    "    'y': sub_df.norm_disp,\n",
    "    'mode': 'markers',\n",
    "    'name': 'mpg',\n",
    "    }, {\n",
    "    'x': sub_df.norm_hp,\n",
    "    'y': sub_df.norm_disp,\n",
    "    'mode': 'markers',\n",
    "    'name': 'hp',\n",
    "    }],\n",
    "  'layout': {\n",
    "    'xaxis': {\n",
    "      'title': '',\n",
    "    },\n",
    "    'yaxis': {\n",
    "      'title': 'Standardized Displacement',\n",
    "    },\n",
    "    'title': 'Simple Pie Chart',\n",
    "  }}\n",
    "\n",
    "py.iplot(fig, filename='grouped-scatter-plot')"
   ]
  }
 ],
 "metadata": {
  "kernelspec": {
   "display_name": "Python 3 (ipykernel)",
   "language": "python",
   "name": "python3"
  },
  "language_info": {
   "codemirror_mode": {
    "name": "ipython",
    "version": 3
   },
   "file_extension": ".py",
   "mimetype": "text/x-python",
   "name": "python",
   "nbconvert_exporter": "python",
   "pygments_lexer": "ipython3",
   "version": "3.9.10"
  }
 },
 "nbformat": 4,
 "nbformat_minor": 5
}
