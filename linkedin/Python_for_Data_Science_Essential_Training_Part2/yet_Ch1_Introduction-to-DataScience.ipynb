{
 "cells": [
  {
   "cell_type": "markdown",
   "id": "67c73505",
   "metadata": {},
   "source": [
    "## <font color='darkblue'>Introduction to Data Science</font>\n",
    "([course link](https://www.linkedin.com/learning/python-for-data-science-essential-training-part-2/defining-data-science?autoSkip=true&autoplay=true&resume=false&u=56685617))"
   ]
  },
  {
   "cell_type": "markdown",
   "id": "94f4d758",
   "metadata": {},
   "source": [
    "### <font color='darkgreen'>Defining Data Science</font>\n",
    "([course link](https://www.linkedin.com/learning/python-for-data-science-essential-training-part-2/defining-data-science?autoSkip=true&autoplay=true&resume=false&u=56685617))\n",
    "* **Programming skills:** Python\n",
    "* **Math and statistics knowledge:** Just the basics\n",
    "* **Subject matter expertise:** Optional\n",
    "\n",
    "![datascience definition venn](images/datascience_definition_venn.png)"
   ]
  },
  {
   "cell_type": "markdown",
   "id": "54a573ba",
   "metadata": {},
   "source": [
    "### <font color='darkgreen'>Why use Python for data science?</font>\n",
    "([course link](https://www.linkedin.com/learning/python-for-data-science-essential-training-part-2/why-use-python-for-data-science?autoSkip=true&autoplay=true&resume=false&u=56685617))"
   ]
  },
  {
   "cell_type": "markdown",
   "id": "d73eae73",
   "metadata": {},
   "source": [
    "### <font color='darkgreen'>Where does AI fit in?</font>\n",
    "([course link](https://www.linkedin.com/learning/python-for-data-science-essential-training-part-2/where-does-ai-fit-in?autoSkip=true&autoplay=true&resume=false&u=56685617))"
   ]
  }
 ],
 "metadata": {
  "kernelspec": {
   "display_name": "Python 3 (ipykernel)",
   "language": "python",
   "name": "python3"
  },
  "language_info": {
   "codemirror_mode": {
    "name": "ipython",
    "version": 3
   },
   "file_extension": ".py",
   "mimetype": "text/x-python",
   "name": "python",
   "nbconvert_exporter": "python",
   "pygments_lexer": "ipython3",
   "version": "3.9.10"
  }
 },
 "nbformat": 4,
 "nbformat_minor": 5
}
