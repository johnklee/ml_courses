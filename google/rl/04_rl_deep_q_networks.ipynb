{
 "cells": [
  {
   "cell_type": "markdown",
   "metadata": {
    "id": "9EjQt_o9Xf_L"
   },
   "source": [
    "## Copyright 2019 Google LLC."
   ]
  },
  {
   "cell_type": "code",
   "execution_count": null,
   "metadata": {
    "cellView": "both",
    "id": "oXzTW-CnXf_Q"
   },
   "outputs": [],
   "source": [
    "#@title\n",
    "# Licensed under the Apache License, Version 2.0 (the \"License\");\n",
    "# you may not use this file except in compliance with the License.\n",
    "# You may obtain a copy of the License at\n",
    "#\n",
    "# https://www.apache.org/licenses/LICENSE-2.0\n",
    "#\n",
    "# Unless required by applicable law or agreed to in writing, software\n",
    "# distributed under the License is distributed on an \"AS IS\" BASIS,\n",
    "# WITHOUT WARRANTIES OR CONDITIONS OF ANY KIND, either express or implied.\n",
    "# See the License for the specific language governing permissions and\n",
    "# limitations under the License."
   ]
  },
  {
   "cell_type": "markdown",
   "metadata": {
    "id": "ONq0GBqct2J-"
   },
   "source": [
    "<a id='sect0'></a>\n",
    "## <font color='darkblue'>4. Deep Q-Learning</font>\n",
    "* <font size='3ptx'><b><a href='#sect1'>Define Neural Network</a></b></font>\n",
    "* <font size='3ptx'><b><a href='#sect2'>Calculate Q-Values from Neural Network</a></b></font>\n",
    "* <font size='3ptx'><b><a href='#sect3'>Implement Framework to Solve Frozen Lake</a></b></font>\n",
    "* <font size='3ptx'><b><a href='#sect4'>Train Agent to Solve Frozen Lake</a></b></font>\n",
    "* <font size='3ptx'><b><a href='#sect5'>Visualize Performance of Trained Model</a></b></font>\n",
    "* <font size='3ptx'><b><a href='#sect6'>Conclusion and Next Steps</a></b></font>"
   ]
  },
  {
   "cell_type": "markdown",
   "metadata": {
    "id": "E_lZYMFUuHJT"
   },
   "source": [
    "In this Colab, you will combine Q-learning with neural networks to create a powerful technique, called Deep Q-Learning (DQN)."
   ]
  },
  {
   "cell_type": "markdown",
   "metadata": {
    "id": "W_Y-7HdxuFTV"
   },
   "source": [
    "### <font color='darkgreen'>Motivation</font>"
   ]
  },
  {
   "cell_type": "markdown",
   "metadata": {
    "id": "xwbwfeFot15w"
   },
   "source": [
    "In the last Colab, you learned tabular Q-learning. Your Q-table required an entry for every combination of state and action. However, <b>for complex environments that have many states and actions, the Q table's size becomes massive. Instead of a Q-table, you can predict Q-values using a neural network. This application of deep learning to Q-learning is called <font color='darkblue'>DQN</font>.</b>"
   ]
  },
  {
   "cell_type": "markdown",
   "metadata": {
    "id": "pqf2mYg2kM3j"
   },
   "source": [
    "### <font color='darkgreen'>Setup</font>"
   ]
  },
  {
   "cell_type": "markdown",
   "metadata": {
    "id": "urxZETIjO0c4"
   },
   "source": [
    "Run the following cell to set up Google Analytics for the Colab. Data from  Google Analytics helps improve the Colab."
   ]
  },
  {
   "cell_type": "code",
   "execution_count": 1,
   "metadata": {
    "cellView": "form",
    "id": "ngfeEbGgO3rN"
   },
   "outputs": [],
   "source": [
    "#@title Set up Google Analytics for Colab\n",
    "%reset -f\n",
    "import uuid\n",
    "client_id = uuid.uuid4()\n",
    "\n",
    "import requests\n",
    "\n",
    "# Bundle up reporting into a function.\n",
    "def report_execution():\n",
    "  requests.post('https://www.google-analytics.com/collect', \n",
    "                data=('v=1'\n",
    "                      '&tid=UA-48865479-3'\n",
    "                      '&cid={}'\n",
    "                      '&t=event'\n",
    "                      '&ec=cell'            # <-- event type\n",
    "                      '&ea=execute'         # <-- event action\n",
    "                      '&el=rl-deep-q-learning'   # <-- event label\n",
    "                      '&ev=1'               # <-- event value\n",
    "                      '&an=bundled'.format(client_id)))\n",
    "\n",
    "from IPython import get_ipython\n",
    "get_ipython().events.register('post_execute', report_execution)"
   ]
  },
  {
   "cell_type": "code",
   "execution_count": 3,
   "metadata": {},
   "outputs": [],
   "source": [
    "#!pip install tensorflow"
   ]
  },
  {
   "cell_type": "markdown",
   "metadata": {
    "id": "67cvduNXkOvl"
   },
   "source": [
    "Run the following cell to import libraries and set up the environment:"
   ]
  },
  {
   "cell_type": "code",
   "execution_count": 36,
   "metadata": {
    "id": "nksx4wVs0Dro"
   },
   "outputs": [],
   "source": [
    "import gym\n",
    "import time\n",
    "import numpy as np\n",
    "import matplotlib.pyplot as plt\n",
    "from tensorflow import keras\n",
    "\n",
    "EPSILON_MIN = 0.01\n",
    "CHECK_SUCCESS_INTERVAL = 20\n",
    "\n",
    "env = gym.make('FrozenLake-v0')\n",
    "\n",
    "num_states = env.observation_space.n\n",
    "num_actions = env.action_space.n"
   ]
  },
  {
   "cell_type": "markdown",
   "metadata": {
    "id": "TC93YAHtMUTp"
   },
   "source": [
    "<a id='sect1'></a>\n",
    "## <font color='darkblue'>Define Neural Network</font>"
   ]
  },
  {
   "cell_type": "markdown",
   "metadata": {
    "id": "SrkGBnRVMUuK"
   },
   "source": [
    "You will implement the same epsilon-greedy policy environment. However, **instead of storing Q-values in a table, you will use a neural network to generate the Q-values**."
   ]
  },
  {
   "cell_type": "markdown",
   "metadata": {
    "id": "Ig3VKjezKyD2"
   },
   "source": [
    "The input to the neural net is the state. In FrozenLake, represent the state using [one-hot encoding](https://developers.google.com/machine-learning/crash-course/representation/feature-engineering). For example, encode the state `10` by running the following code (<a href='https://numpy.org/doc/stable/reference/generated/numpy.identity.html'><b>numpy</b>.identity</a>):"
   ]
  },
  {
   "cell_type": "code",
   "execution_count": 3,
   "metadata": {},
   "outputs": [
    {
     "data": {
      "text/plain": [
       "array([[1., 0., 0.],\n",
       "       [0., 1., 0.],\n",
       "       [0., 0., 1.]])"
      ]
     },
     "execution_count": 3,
     "metadata": {},
     "output_type": "execute_result"
    }
   ],
   "source": [
    "np.identity(3)"
   ]
  },
  {
   "cell_type": "code",
   "execution_count": 4,
   "metadata": {},
   "outputs": [
    {
     "data": {
      "text/plain": [
       "array([[0., 0., 1.]])"
      ]
     },
     "execution_count": 4,
     "metadata": {},
     "output_type": "execute_result"
    }
   ],
   "source": [
    "np.identity(3)[2:3]"
   ]
  },
  {
   "cell_type": "code",
   "execution_count": 5,
   "metadata": {
    "id": "QKw7aGg6N7ve"
   },
   "outputs": [
    {
     "data": {
      "text/plain": [
       "array([[0., 0., 0., 0., 0., 0., 0., 0., 0., 0., 1., 0., 0., 0., 0., 0.]])"
      ]
     },
     "execution_count": 5,
     "metadata": {},
     "output_type": "execute_result"
    }
   ],
   "source": [
    "np.identity(num_states)[10:10+1]"
   ]
  },
  {
   "cell_type": "markdown",
   "metadata": {
    "id": "lmWVcBGh78Fn"
   },
   "source": [
    "Define a function to create encode states as one-hot vectors:"
   ]
  },
  {
   "cell_type": "code",
   "execution_count": 6,
   "metadata": {
    "id": "1quifpKJ8Bk8"
   },
   "outputs": [],
   "source": [
    "def one_hot_encode_state(state):\n",
    "    \"\"\"One hot encoding for given state\n",
    "  \n",
    "    Args:\n",
    "        state: An integer representing the agent's state.\n",
    "\n",
    "    Returns:\n",
    "        A one-hot encoded vector of the input `state`.\n",
    "    \"\"\"\n",
    "    return(np.identity(num_states)[state:state+1])"
   ]
  },
  {
   "cell_type": "markdown",
   "metadata": {
    "id": "28yX_0-LN2tk"
   },
   "source": [
    "The input to the neural net is a vector of length 16. The output is a vector of Q-values for each action. Since there are 4 actions, the output is a vector of length 4.\n",
    "\n",
    "Define a nonlinear neural net with 16 inputs and 4 outputs by using the <a href='https://www.tensorflow.org/api_docs/python/tf/keras'><b>TF Keras API</b></a>. The neural net has these characteristics:\n",
    "\n",
    "* Uses <a href='https://keras.io/api/layers/activations/#relu-function'><b>`relu`</b></a> activation function.\n",
    "* Is initialized with small positive weights. Ideally, you should use known good initial values for the weights. The initialization with positive values is a workaround.\n",
    "* Does not use biases. To understand why, suppose you used biases. Now, for an input $s_1$, the neural network predicts $Q(s_1,a_1)$ by transforming $s_1$ to $f(s_1)$. Then the output neuron for $a_1$ adds a bias, $b_{a_{1}}$,  as follows:\n",
    "$$Q(s_1,a_1) = f(s_1) + b_{a_{1}}$$\n",
    "Similarly, for state $s_2$, the prediction $Q(s_2,a_1)$ adds the same bias $b_{a_{1}}$ because the action (and thus the output neuron) remains the same:\n",
    "$$Q(s_2,a_1) = f(s_2) + b_{a_{1}}$$\n",
    "Therefore, for the same action, Q-value predictions depend on the same bias, even if the input state varies. Training to predict the Q-value for $(s_1,a_1)$ will change $b_{a_1}$. However, changing $b_{a_1}$ will change the predicted Q-values for $(s_2,a_1)$, resulting in wrong Q-values. Therefore, do not use biases.\n",
    "\n",
    "Complete the neural net definition in the following cell as described. Then run the cell. For the solution, view the next cell."
   ]
  },
  {
   "cell_type": "code",
   "execution_count": 7,
   "metadata": {
    "cellView": "form",
    "id": "aI4jUM14oCTN"
   },
   "outputs": [
    {
     "name": "stdout",
     "output_type": "stream",
     "text": [
      "Model: \"sequential\"\n",
      "_________________________________________________________________\n",
      "Layer (type)                 Output Shape              Param #   \n",
      "=================================================================\n",
      "dense (Dense)                (None, 4)                 64        \n",
      "=================================================================\n",
      "Total params: 64\n",
      "Trainable params: 64\n",
      "Non-trainable params: 0\n",
      "_________________________________________________________________\n"
     ]
    },
    {
     "name": "stderr",
     "output_type": "stream",
     "text": [
      "2021-09-20 20:13:59.878194: W tensorflow/stream_executor/platform/default/dso_loader.cc:64] Could not load dynamic library 'libcuda.so.1'; dlerror: libcuda.so.1: cannot open shared object file: No such file or directory\n",
      "2021-09-20 20:13:59.878235: W tensorflow/stream_executor/cuda/cuda_driver.cc:269] failed call to cuInit: UNKNOWN ERROR (303)\n",
      "2021-09-20 20:13:59.878262: I tensorflow/stream_executor/cuda/cuda_diagnostics.cc:156] kernel driver does not appear to be running on this host (ubuntu): /proc/driver/nvidia/version does not exist\n",
      "2021-09-20 20:13:59.878482: I tensorflow/core/platform/cpu_feature_guard.cc:142] This TensorFlow binary is optimized with oneAPI Deep Neural Network Library (oneDNN) to use the following CPU instructions in performance-critical operations:  AVX2 FMA\n",
      "To enable them in other operations, rebuild TensorFlow with the appropriate compiler flags.\n",
      "/root/Github/ml_courses/env/lib/python3.8/site-packages/keras/optimizer_v2/optimizer_v2.py:355: UserWarning: The `lr` argument is deprecated, use `learning_rate` instead.\n",
      "  warnings.warn(\n"
     ]
    }
   ],
   "source": [
    "#@title Solution (double-click to view code)\n",
    "def define_model(learning_rate, num_actions, num_states):\n",
    "    '''Returns a shallow neural net defined using tf.keras.\n",
    "    Args:\n",
    "        learning_rate: optimizer learning rate\n",
    "        num_actions: number of action available\n",
    "        num_states: number of states\n",
    "        \n",
    "    Returns:\n",
    "        model: A shallow neural net defined using tf.keras input dimension equal to\n",
    "            num_states and output dimension equal to num_actions.\n",
    "    '''\n",
    "    model = keras.Sequential()\n",
    "    model.add(keras.layers.Dense(\n",
    "                units = num_actions,\n",
    "                input_dim = num_states,\n",
    "                activation = 'relu',\n",
    "                use_bias = False,\n",
    "                kernel_initializer = keras.initializers.RandomUniform(minval=1e-5, maxval=0.05)))\n",
    "    \n",
    "    model.compile(optimizer = keras.optimizers.SGD(lr = learning_rate), loss = 'mse')\n",
    "    return(model)\n",
    "\n",
    "learning_rate = 0.1\n",
    "model = define_model(learning_rate, num_actions, num_states)\n",
    "model.summary()"
   ]
  },
  {
   "cell_type": "markdown",
   "metadata": {
    "id": "9uKEl0omCt_x"
   },
   "source": [
    "<a id='sect2'></a>\n",
    "## <font color='darkblue'>Calculate Q-Values from Neural Network</font>"
   ]
  },
  {
   "cell_type": "markdown",
   "metadata": {
    "id": "hFezuuVFQ9MZ"
   },
   "source": [
    "You can use your neural network to predict Q-values for any state. For example, predict Q-values for state 5 by running the following cell. Since your neural network has not been trained, these predicted Q-values are inaccurate."
   ]
  },
  {
   "cell_type": "code",
   "execution_count": 8,
   "metadata": {
    "id": "SMQLS88-Q8Sk"
   },
   "outputs": [
    {
     "name": "stderr",
     "output_type": "stream",
     "text": [
      "2021-09-20 20:14:04.686835: I tensorflow/compiler/mlir/mlir_graph_optimization_pass.cc:185] None of the MLIR Optimization Passes are enabled (registered 2)\n"
     ]
    },
    {
     "data": {
      "text/plain": [
       "array([[0.0276859 , 0.02281187, 0.02484266, 0.02436265]], dtype=float32)"
      ]
     },
     "execution_count": 8,
     "metadata": {},
     "output_type": "execute_result"
    }
   ],
   "source": [
    "action_prediction = model.predict(one_hot_encode_state(5))\n",
    "action_prediction"
   ]
  },
  {
   "cell_type": "code",
   "execution_count": 9,
   "metadata": {},
   "outputs": [
    {
     "data": {
      "text/plain": [
       "0"
      ]
     },
     "execution_count": 9,
     "metadata": {},
     "output_type": "execute_result"
    }
   ],
   "source": [
    "np.argmax(action_prediction)"
   ]
  },
  {
   "cell_type": "markdown",
   "metadata": {
    "id": "Y8ujOc1lkkgy"
   },
   "source": [
    "Complete the following cell to implement a function (<font color='brown'>identical to the previous Colab</font>) that returns an action using an epsilon greedy policy. Then run the cell. For the solution, view the next cell."
   ]
  },
  {
   "cell_type": "code",
   "execution_count": 10,
   "metadata": {
    "cellView": "form",
    "id": "pMoJimVLpSlQ"
   },
   "outputs": [],
   "source": [
    "#@title Solution (to view code, from cell's menu, select Form -> Show Code)\n",
    "def policy_eps_greedy(env, q_values, epsilon):\n",
    "    \"\"\"Select action given Q-values using epsilon-greedy algorithm.\n",
    "    Args:\n",
    "        q_values: q_values for all possible actions from a state.\n",
    "        epsilon: Current value of epsilon used to select action using epsilon-greedy algorithm.\n",
    "        \n",
    "    Returns:\n",
    "        action: action to take from the state.\n",
    "    \"\"\"\n",
    "    if(np.random.rand() < epsilon):\n",
    "        action = env.action_space.sample()\n",
    "    else:\n",
    "        action = np.argmax(q_values)\n",
    "    return action"
   ]
  },
  {
   "cell_type": "markdown",
   "metadata": {
    "id": "XdYfD-PSRsWB"
   },
   "source": [
    "<b>In deep Q-learning, the neural network replaces the Q-table.</b> To demonstrate how, run a full training step using the neural network.\n",
    "\n",
    "First, reset the environment and calculate Q-values for the starting state:"
   ]
  },
  {
   "cell_type": "code",
   "execution_count": 11,
   "metadata": {
    "id": "Yv3eTPKESFDg"
   },
   "outputs": [
    {
     "name": "stdout",
     "output_type": "stream",
     "text": [
      "Q-values for state 0 :\n",
      "[[0.01103142 0.04524688 0.01235563 0.03179582]]\n"
     ]
    }
   ],
   "source": [
    "state = env.reset()\n",
    "q_values = model.predict(one_hot_encode_state(state))\n",
    "\n",
    "print(\"Q-values for state \" + str(state) + \" :\\n\" + str(q_values))"
   ]
  },
  {
   "cell_type": "markdown",
   "metadata": {
    "id": "euFA4Rs0DU6i"
   },
   "source": [
    "Each Q-value represents the approximated return from taking the corresponding action and then following a greedy policy. Therefore, when Q-values are accurate, choosing the action with the highest Q-value will maximize return.\n",
    "\n",
    "Using the Q-values, select an action using an epsilon-greedy policy. Take the action and record the next state and reward."
   ]
  },
  {
   "cell_type": "code",
   "execution_count": 12,
   "metadata": {
    "id": "9WpRbnLzDQdL"
   },
   "outputs": [
    {
     "name": "stdout",
     "output_type": "stream",
     "text": [
      "action: 1 , next state: 4 , reward: 0.0\n"
     ]
    }
   ],
   "source": [
    "epsilon = 0.5 # assume some value of epsilon\n",
    "\n",
    "action = policy_eps_greedy(env, q_values, epsilon)\n",
    "state_new, reward, _, _ = env.step(action)\n",
    "\n",
    "print(\"action:\", action, \", next state:\", state_new, \", reward:\", reward)"
   ]
  },
  {
   "cell_type": "markdown",
   "metadata": {
    "id": "_carvIRkXDpB"
   },
   "source": [
    "Calculate the target Q-value by completing the following cell to define a function. The formula for the returned Q-value is:\n",
    "\n",
    "$$\n",
    "  r(s,a)\n",
    "      + \\gamma \\displaystyle \\max_{\\substack{a_1}} Q(s_1,a_1)\n",
    "$$\n",
    "\n",
    "This function is similar to the Bellman update in the previous Colab, except for the use of a neural network."
   ]
  },
  {
   "cell_type": "code",
   "execution_count": 13,
   "metadata": {
    "cellView": "form",
    "id": "vc4WCwaLpyNI"
   },
   "outputs": [],
   "source": [
    "#@title Solution (to view code, from cell's menu, select Form -> Show Code)\n",
    "def bellman_update(reward, discount_factor, model, state_new):\n",
    "    return reward + discount_factor * np.max(model.predict(one_hot_encode_state(state_new)))"
   ]
  },
  {
   "cell_type": "markdown",
   "metadata": {
    "id": "sEAOTJ5TEURA"
   },
   "source": [
    "Calculate target Q-values by calling the function `bellman_update`:"
   ]
  },
  {
   "cell_type": "code",
   "execution_count": 14,
   "metadata": {
    "id": "-dqiXnSDEUhH"
   },
   "outputs": [
    {
     "name": "stdout",
     "output_type": "stream",
     "text": [
      "Q-values before update for state 0 :\n",
      "[[0.01103142 0.04524688 0.01235563 0.03179582]]\n",
      "Q-values after update for state 0 :\n",
      "[[0.01103142 0.04307545 0.01235563 0.03179582]]\n"
     ]
    }
   ],
   "source": [
    "discount_factor = 0.99\n",
    "\n",
    "print(\"Q-values before update for state \" + str(state) + \" :\\n\" + str(q_values))\n",
    "target_q_values = q_values\n",
    "target_q_values[0, action] = bellman_update(reward, discount_factor, model, state_new)\n",
    "\n",
    "print(\"Q-values after update for state \" + str(state) + \" :\\n\" + str(target_q_values))"
   ]
  },
  {
   "cell_type": "markdown",
   "metadata": {
    "id": "jxck8BVVFFIo"
   },
   "source": [
    "Notice that only the Q-value corresponding to the action taken changes after the update. The updated Q-values become the \"target\" label that the neural network uses to train.\n",
    "\n",
    "Train the neural network to predict the target Q-values:"
   ]
  },
  {
   "cell_type": "code",
   "execution_count": 15,
   "metadata": {
    "id": "KRBdtUtWFFS7"
   },
   "outputs": [
    {
     "name": "stdout",
     "output_type": "stream",
     "text": [
      "1/1 [==============================] - 0s 135ms/step - loss: 1.1788e-06\n"
     ]
    },
    {
     "data": {
      "text/plain": [
       "<keras.callbacks.History at 0x7f57b6fcd520>"
      ]
     },
     "execution_count": 15,
     "metadata": {},
     "output_type": "execute_result"
    }
   ],
   "source": [
    "model.fit(one_hot_encode_state(state), target_q_values, verbose = True)"
   ]
  },
  {
   "cell_type": "markdown",
   "metadata": {
    "id": "CgNxvZRG1GQy"
   },
   "source": [
    "To summarize, in each state, train the neural network by following these steps:\n",
    "\n",
    "1. Choose an action using an epsilon-greedy policy, using the neural network to predict Q-values.\n",
    "1. Take the action and record the next state and reward.\n",
    "1. Calculate a target Q-value for the $(s,a)$ pair using the Bellman update.\n",
    "1. Train the neural network to predict the target Q-value.\n",
    "\n",
    "Over many transitions, your neural network will learn to approximate the Q-values for every state-action pair. Using these Q-values, the epsilon-greedy policy can solve the `FrozenLake-v0` environment. <b>This approach is called <font color='darkblue'>online DQN</font> because the agent trains on the state transitions generated when it is running</b> (<font color='brown'>online</font>)."
   ]
  },
  {
   "cell_type": "markdown",
   "metadata": {
    "id": "FGAcY2or2GgH"
   },
   "source": [
    "<a id='sect3'></a>\n",
    "## <font color='darkblue'>Implement Framework to Solve Frozen Lake</font> ([back](#sect0))"
   ]
  },
  {
   "cell_type": "markdown",
   "metadata": {
    "id": "E_eGZasYqhmM"
   },
   "source": [
    "Define the functions you need to train your agent. Start by completing the following code cell to define a function that runs one training episode by repeating the steps described previously."
   ]
  },
  {
   "cell_type": "code",
   "execution_count": 26,
   "metadata": {
    "cellView": "form",
    "id": "4jT0xfzNqXii"
   },
   "outputs": [],
   "source": [
    "#@title Solution (to view code, from cell's menu, select Form -> Show Code)\n",
    "def collect_one_episode_and_train_model(env, model, epsilon, discount_factor):\n",
    "    '''Runs one episode and trains the model on every state transition.\n",
    "\n",
    "    Runs one episode. On every state transition in the episode, collects the\n",
    "    tuple s, a, r, s'. Then performs Bellman update on Q-values using the tuple\n",
    "    and trains the agent to predict the updated Q-values.\n",
    "\n",
    "    Args:\n",
    "        env: environment that the agent is learning.\n",
    "        model: neural network used to predict Q-values of (state, action) pairs\n",
    "        discount_factor: factor by which to reduce return from next state when\n",
    "            updating Q-values using Bellman update.\n",
    "            \n",
    "    Returns:\n",
    "        episode_length: number of states visited during episode\n",
    "        episode_reward: total reward earned by agent during episode\n",
    "        model: updated model after training during episode\n",
    "    '''\n",
    "    state = env.reset()\n",
    "    episode_reward = 0\n",
    "    done = False\n",
    "    episode_length = 0\n",
    "\n",
    "    while not done:\n",
    "        episode_length += 1\n",
    "        q_values = model.predict(one_hot_encode_state(state))\n",
    "        action = policy_eps_greedy(env, q_values, epsilon)\n",
    "        state_new, reward, done, _ = env.step(action)\n",
    "        q_values[0, action] = bellman_update(reward, discount_factor, model, state_new)\n",
    "        model.fit(one_hot_encode_state(state), q_values, verbose=False)\n",
    "        episode_reward += reward\n",
    "        state = state_new\n",
    "\n",
    "    return(episode_length, episode_reward, model)"
   ]
  },
  {
   "cell_type": "markdown",
   "metadata": {
    "id": "uouvJy-TrIbD"
   },
   "source": [
    "Define a function to test the agent's performance for a given success threshold. You will use this function to detect whether the agent has solved the enviroment."
   ]
  },
  {
   "cell_type": "code",
   "execution_count": 21,
   "metadata": {
    "cellView": "both",
    "id": "OHLJZ4OIfw3B"
   },
   "outputs": [],
   "source": [
    "def check_success(episode, reward_history, length_history, epsilon, \n",
    "                  success_percent_threshold):\n",
    "    \"\"\"Returns 1 if agent has crossed success threshold.\n",
    "\n",
    "    For a fixed number of episodes, calculates and prints metrics summarizing\n",
    "    agent's training over those episodes. Then checks and returns 1 if agent\n",
    "    has crossed the defined success threshold. Otherwise, returns 0.\n",
    "\n",
    "    Args:\n",
    "        episode: episode number of agent's training\n",
    "        reward_history: list containing rewards for every episode\n",
    "        length_history: list containing length of every episode, where length is\n",
    "          the number of states visited during the episode\n",
    "        epsilon: current value of epsilon\n",
    "        success_percent_threshold: percent of episodes that the agent must solve\n",
    "          to prove that it is successfully learning the environment\n",
    "          \n",
    "    Returns:\n",
    "        1 if the agent crossed the success threshold, 0 otherwise.\n",
    "    \"\"\"\n",
    "    if((episode+1) % CHECK_SUCCESS_INTERVAL == 0):\n",
    "        # Check the success % in the last 100 episodes\n",
    "        success_percent = np.sum(reward_history[-100:-1])\n",
    "        length_avg = int(np.sum(length_history[-100:-1])/100.0)\n",
    "        print(\"Episode: \" + f\"{episode+1:0>4d}\" + \\\n",
    "              \", Success: \" + f\"{success_percent:2.0f}\" + \"%\" + \\\n",
    "              \", Avg length: \" + f\"{length_avg:0>2d}\" + \\\n",
    "              \", Epsilon: \" + f\"{epsilon:.2f}\")\n",
    "        if(success_percent > success_percent_threshold):\n",
    "            print(\"Agent crossed success threshold of \" + \\\n",
    "                str(success_percent_threshold) + '%.')\n",
    "            return(1)\n",
    "    return(0)"
   ]
  },
  {
   "cell_type": "markdown",
   "metadata": {
    "id": "rzKmi11OzaLF"
   },
   "source": [
    "Using the functions `collect_one_episode_and_train_model` and `check_success`, define a function to train the agent until the agent crosses the success threshold:"
   ]
  },
  {
   "cell_type": "code",
   "execution_count": 22,
   "metadata": {
    "id": "Scp6WgDEziQg"
   },
   "outputs": [],
   "source": [
    "#### Plotting functions ####\n",
    "def visualize_training(reward_history):\n",
    "    plt.rcParams['figure.figsize'] = [10, 5]\n",
    "    plt.plot(range(len(reward_history)), reward_history)\n",
    "    plt.xlabel('Episodes')\n",
    "    plt.ylabel('Reward')\n",
    "    plt.title('Reward during Training')\n",
    "    plt.show()\n",
    "\n",
    "    \n",
    "#### Training function ####\n",
    "def train_agent(env, model, episodes, epsilon, discount_factor, eps_decay,\n",
    "               success_percent_threshold):\n",
    "    \"\"\"Trains the agent by running episodes while checking for successful learning.\n",
    "    \n",
    "    Args:\n",
    "        env: environment to train the agent on\n",
    "        model: neural network representing agent used to learn Q-values of\n",
    "          environment\n",
    "        epsilon: starting value of epsilon\n",
    "        discount_factor: factor by which to reduce return from next state when\n",
    "          updating Q-values using Bellman update.\n",
    "        eps_decay: factor to reduce value of epsilon by, on every episode\n",
    "        episodes: number of episodes to train agent for\n",
    "        learning_rate: learning rate used by model\n",
    "    \"\"\"\n",
    "    length_history = []     # Record agent's episode length\n",
    "    reward_history = []     # Record agent's episode reward\n",
    "    timeStart = time.time() # Track training time\n",
    "\n",
    "    for episode in range(episodes):                    \n",
    "        episode_length, episode_reward, model = \\\n",
    "            collect_one_episode_and_train_model(env, model, epsilon, discount_factor)\n",
    "        length_history.append(episode_length)\n",
    "        reward_history.append(episode_reward)\n",
    "        if epsilon > EPSILON_MIN:\n",
    "            epsilon *= eps_decay\n",
    "            \n",
    "        if(check_success(episode, reward_history, length_history, epsilon, success_percent_threshold)):\n",
    "            break\n",
    "\n",
    "    timeEnd = time.time()\n",
    "    print(\"Training time (min): \" + f'{(timeEnd - timeStart)/60:.2f}')\n",
    "    visualize_training(reward_history)\n",
    "    env.close() # Close environment"
   ]
  },
  {
   "cell_type": "markdown",
   "metadata": {
    "id": "eKk1kXThRMpX"
   },
   "source": [
    "<a id='sect4'></a>\n",
    "## <font color='darkblue'>Train Agent to Solve Frozen Lake</font> ([back](#sect0))"
   ]
  },
  {
   "cell_type": "markdown",
   "metadata": {
    "id": "-bQtaEcKv6nV"
   },
   "source": [
    "Run the code below to solve `FrozenLake-v0` using DQN. To solve Frozen Lake, you must play with hyperparameter values. In doing so, your goal is to develop intuition for how hyperparameters interact to affect the training outcome. \n",
    "\n",
    "Consider the following advice on adjusting hyperparameter values:\n",
    "\n",
    "* Journey length begins increasing before success rate. Hence, journey length is a leading indicator of improvement. Further, journey length is a more stable metric than success percent.\n",
    "* Aim to prioritize quick experimentation. For example, stop training if journey length doesn't begin increasing within 2000 episodes and try again.\n",
    "* The agent should solve the environment in <5000 episodes.\n",
    "* The output plot should show the incidence of successful episodes increasing.\n",
    "* Frozen Lake is slightly more complex than NChain. Adjust `learning_rate` accordingly. \n",
    "* The reward from the final state must propagate back to the initial state's Q-values. The higher the `discount_factor`, the greater the fraction of the reward that propagates back. Hence, keep `discount_factor` high.\n",
    "\n",
    "For the solution, expand the following section."
   ]
  },
  {
   "cell_type": "code",
   "execution_count": 23,
   "metadata": {
    "cellView": "both",
    "id": "TxQr2GAMGD8B"
   },
   "outputs": [
    {
     "name": "stdout",
     "output_type": "stream",
     "text": [
      "Episode: 0100, Success:  2%, Avg length: 07, Epsilon: 0.37\n",
      "Episode: 0200, Success:  3%, Avg length: 10, Epsilon: 0.13\n",
      "Training time (min): 2.57\n"
     ]
    },
    {
     "data": {
      "image/png": "[encoded data removed]",
      "text/plain": [
       "<Figure size 720x360 with 1 Axes>"
      ]
     },
     "metadata": {
      "needs_background": "light"
     },
     "output_type": "display_data"
    }
   ],
   "source": [
    "##### Experimental setup #####\n",
    "episodes = 200\n",
    "epsilon = 1.0\n",
    "eps_decay = 0.99\n",
    "learning_rate = 0.01\n",
    "discount_factor = 0.999\n",
    "success_percent_threshold = 20 # in percent, so 60 = 60%\n",
    "\n",
    "model = define_model(learning_rate, num_actions, num_states)\n",
    "\n",
    "#### TRAINING #####\n",
    "train_agent(env, model, episodes, epsilon, discount_factor, eps_decay,\n",
    "            success_percent_threshold)"
   ]
  },
  {
   "cell_type": "markdown",
   "metadata": {
    "id": "3_HCbNWf3RPP"
   },
   "source": [
    "### <font color='darkgreen'>Solution (expand to view code)</font>"
   ]
  },
  {
   "cell_type": "markdown",
   "metadata": {
    "id": "nZOrUw8d3R5K"
   },
   "source": [
    "The following code typically crosses a success rate of 20% in <2000 episodes. In the next cell, you'll visualize the trained agent solving the environment."
   ]
  },
  {
   "cell_type": "code",
   "execution_count": 37,
   "metadata": {
    "id": "B0-Utan63TuQ"
   },
   "outputs": [
    {
     "name": "stdout",
     "output_type": "stream",
     "text": [
      "Episode: 0020, Success:  9%, Avg length: 07, Epsilon: 0.01\n",
      "Episode: 0040, Success: 23%, Avg length: 15, Epsilon: 0.01\n",
      "Episode: 0060, Success: 36%, Avg length: 25, Epsilon: 0.01\n",
      "Episode: 0080, Success: 49%, Avg length: 33, Epsilon: 0.01\n",
      "Episode: 0100, Success: 65%, Avg length: 40, Epsilon: 0.01\n",
      "Agent crossed success threshold of 50%.\n",
      "Training time (min): 6.36\n"
     ]
    },
    {
     "data": {
      "image/png": "[encoded data removed]",
      "text/plain": [
       "<Figure size 720x360 with 1 Axes>"
      ]
     },
     "metadata": {
      "needs_background": "light"
     },
     "output_type": "display_data"
    }
   ],
   "source": [
    "##### Proposed setup #####\n",
    "episodes = 3000\n",
    "epsilon = 1.0\n",
    "eps_decay = 0.9\n",
    "learning_rate = 0.2\n",
    "discount_factor = 0.99\n",
    "success_percent_threshold = 50 # in percent, so 60 = 60%\n",
    "\n",
    "# model = define_model(learning_rate, num_actions, num_states)\n",
    "\n",
    "#### TRAINING #####\n",
    "train_agent(env, model, episodes, epsilon, discount_factor, eps_decay,\n",
    "            success_percent_threshold)"
   ]
  },
  {
   "cell_type": "markdown",
   "metadata": {
    "id": "Bn-1xnkeHU1q"
   },
   "source": [
    "While Frozen Lake is a more complex environment than NChain, it is simple in comparison to environments such as Pong and Breakout. When solving more and more complex environments, apply the intuition gained from solving simpler environments by using the following guidelines:\n",
    "\n",
    "* The agent will take longer to find a successful path through random exploration. Therefore, epsilon must decay slower so that the agent explores for longer.\n",
    "* The agent must use a deeper and wider neural network to approximate the increased complexity.\n",
    "* The agent must train at a lower learning rate to adapt to the increased complexity.\n"
   ]
  },
  {
   "cell_type": "markdown",
   "metadata": {
    "id": "BrYPnH2EGNRX"
   },
   "source": [
    "<a id='sect5'></a>\n",
    "## <font color='darkblue'>Visualize Performance of Trained Model</font> ([back](#sect0))"
   ]
  },
  {
   "cell_type": "markdown",
   "metadata": {
    "id": "hiKRXasI6_NR"
   },
   "source": [
    "Seeing the metrics plots is one thing, but visualizing your agent succeed at retrieving the frisbee is another. Run the following code to visualize your agent solve `FrozenLake`:"
   ]
  },
  {
   "cell_type": "code",
   "execution_count": 33,
   "metadata": {
    "cellView": "code",
    "id": "LY9Gje9Q4N6J"
   },
   "outputs": [
    {
     "name": "stdout",
     "output_type": "stream",
     "text": [
      "  (Down)\n",
      "SFFF\n",
      "FHFH\n",
      "FFFH\n",
      "HFF\u001b[41mG\u001b[0m\n"
     ]
    }
   ],
   "source": [
    "from IPython.display import clear_output # to clear output on every episode run\n",
    "\n",
    "state = env.reset()\n",
    "done = False\n",
    "while(not(done)):\n",
    "    q_values = model.predict(np.identity(num_states)[state:state+1])\n",
    "    action = np.argmax(q_values)\n",
    "    state_new, reward, done,_ = env.step(action)\n",
    "    state = state_new\n",
    "    clear_output()\n",
    "    env.render()\n",
    "    time.sleep(0.5)"
   ]
  },
  {
   "cell_type": "markdown",
   "metadata": {
    "id": "iiv8fmR27U32"
   },
   "source": [
    "<a id='sect6'></a>\n",
    "## <font color='darkblue'>Conclusion and Next Steps</font> ([back](#sect0))"
   ]
  },
  {
   "cell_type": "markdown",
   "metadata": {
    "id": "_xqjRz8e7Vdt"
   },
   "source": [
    "You learned how to combine neural networks with traditional reinforcement learning approaches to solve a simple environment.\n",
    "\n",
    "Move onto the next Colab: [Experience Replay and Target Networks](https://colab.research.google.com/drive/1DEv8FSjMvsgCDPlOGQrUFoJeAf67cFSo#forceEdit=true&sandboxMode=true?utm_source=ss-reinforcement-learning&utm_campaign=colab-external&utm_medium=referral&utm_content=rl-experience-replay-and-target-networks).\n",
    "\n",
    "For reference, the sequence of course Colabs is as follows:\n",
    "\n",
    "1. [Problem Framing in Reinforcement Learning](https://colab.research.google.com/drive/1sUYro4ZyiHuuKfy6KXFSdWjNlb98ZROd#forceEdit=true&sandboxMode=true?utm_source=ss-reinforcement-learning&utm_campaign=colab-external&utm_medium=referral&utm_content=rl-problem-framing)\n",
    "1. [Q-learning Framework](https://colab.research.google.com/drive/1ZPsEEu30SH1BUqUSxNsz0xeXL2Aalqfa#forceEdit=true&sandboxMode=true?utm_source=ss-reinforcement-learning&utm_campaign=colab-external&utm_medium=referral&utm_content=rl-q-learning)\n",
    "1. [Tabular Q-Learning](https://colab.research.google.com/drive/1sX2kO_RA1DckhCwX25OqjUVBATmOLgs2#forceEdit=true&sandboxMode=true?utm_source=ss-reinforcement-learning&utm_campaign=colab-external&utm_medium=referral&utm_content=rl-tabular-q-learning)\n",
    "1. [Deep Q-Learning](https://colab.research.google.com/drive/1XnFxIE882ptpO83mcAz7Zg8PxijJOsUs#forceEdit=true&sandboxMode=true?utm_source=ss-reinforcement-learning&utm_campaign=colab-external&utm_medium=referral&utm_content=rl-deep-q-learning)\n",
    "1. [Experience Replay and Target Networks](https://colab.research.google.com/drive/1DEv8FSjMvsgCDPlOGQrUFoJeAf67cFSo#forceEdit=true&sandboxMode=true?utm_source=ss-reinforcement-learning&utm_campaign=colab-external&utm_medium=referral&utm_content=rl-experience-replay-and-target-networks)"
   ]
  }
 ],
 "metadata": {
  "colab": {
   "collapsed_sections": [
    "9EjQt_o9Xf_L",
    "3_HCbNWf3RPP"
   ],
   "name": "Copy of rl-deep-q-networks.ipynb",
   "provenance": []
  },
  "kernelspec": {
   "display_name": "Python 3 (ipykernel)",
   "language": "python",
   "name": "python3"
  },
  "language_info": {
   "codemirror_mode": {
    "name": "ipython",
    "version": 3
   },
   "file_extension": ".py",
   "mimetype": "text/x-python",
   "name": "python",
   "nbconvert_exporter": "python",
   "pygments_lexer": "ipython3",
   "version": "3.8.10"
  }
 },
 "nbformat": 4,
 "nbformat_minor": 1
}
