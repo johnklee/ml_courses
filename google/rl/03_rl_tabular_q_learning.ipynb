{
 "cells": [
  {
   "cell_type": "markdown",
   "metadata": {
    "id": "9sEgulqSOWOs"
   },
   "source": [
    "# <font color='darkblue'>3. Tabular Q-Learning with Policy Algorithms</font>\n",
    "\n",
    "In the previous Colab, you used Q-learning to build a table of rewards. In this Colab, you'll learn to exploit the table of Q-values. **Tabular Q-Learning** refers to implementing Q-learning by using a table of Q-values."
   ]
  },
  {
   "cell_type": "markdown",
   "metadata": {
    "id": "9EjQt_o9Xf_L"
   },
   "source": [
    "## <font color='darkblue'>Copyright 2019 Google LLC.</font>"
   ]
  },
  {
   "cell_type": "code",
   "execution_count": null,
   "metadata": {
    "cellView": "both",
    "id": "oXzTW-CnXf_Q"
   },
   "outputs": [],
   "source": [
    "#@title\n",
    "# Licensed under the Apache License, Version 2.0 (the \"License\");\n",
    "# you may not use this file except in compliance with the License.\n",
    "# You may obtain a copy of the License at\n",
    "#\n",
    "# https://www.apache.org/licenses/LICENSE-2.0\n",
    "#\n",
    "# Unless required by applicable law or agreed to in writing, software\n",
    "# distributed under the License is distributed on an \"AS IS\" BASIS,\n",
    "# WITHOUT WARRANTIES OR CONDITIONS OF ANY KIND, either express or implied.\n",
    "# See the License for the specific language governing permissions and\n",
    "# limitations under the License."
   ]
  },
  {
   "cell_type": "markdown",
   "metadata": {},
   "source": [
    "<a id='sect0'></a>\n",
    "### <font color='darkgreen'>Agenda</font>\n",
    "* <font size='3ptx'><b>[Understand the Environment](#sect1)</b></font>\n",
    "* <font size='3ptx'><b>[Random & Greedy Policies](#sect2)</b></font>\n",
    "* <font size='3ptx'><b>[Balancing Exploitation with Exploration](#sect3)</b></font>\n",
    "* <font size='3ptx'><b>[Implement Epsilon Greedy Policy](#sect4)</b></font>\n",
    "* <font size='3ptx'><b>[Train Agent to Solve Frozen Lake](#sect5)</b></font>\n",
    "* <font size='3ptx'><b>[Conclusion and Next Steps](#sect6)</b></font>"
   ]
  },
  {
   "cell_type": "markdown",
   "metadata": {
    "id": "bbY8Lfsyd17L"
   },
   "source": [
    "## <font color='darkblue'>Setup</font>"
   ]
  },
  {
   "cell_type": "markdown",
   "metadata": {
    "id": "urxZETIjO0c4"
   },
   "source": [
    "Run the following cell to setup Google Analytics for the Colab. Data from  Google Analytics helps improve the Colab."
   ]
  },
  {
   "cell_type": "code",
   "execution_count": null,
   "metadata": {
    "cellView": "form",
    "id": "ngfeEbGgO3rN"
   },
   "outputs": [],
   "source": [
    "#@title Set up Google Analytics for Colab\n",
    "%reset -f\n",
    "import uuid\n",
    "client_id = uuid.uuid4()\n",
    "\n",
    "import requests\n",
    "\n",
    "# Bundle up reporting into a function.\n",
    "def report_execution():\n",
    "  requests.post('https://www.google-analytics.com/collect', \n",
    "                data=('v=1'\n",
    "                      '&tid=UA-48865479-3'\n",
    "                      '&cid={}'\n",
    "                      '&t=event'\n",
    "                      '&ec=cell'            # <-- event type\n",
    "                      '&ea=execute'         # <-- event action\n",
    "                      '&el=rl-tabular-q-learning'   # <-- event label\n",
    "                      '&ev=1'               # <-- event value\n",
    "                      '&an=bundled'.format(client_id)))\n",
    "\n",
    "from IPython import get_ipython\n",
    "get_ipython().events.register('post_execute', report_execution)"
   ]
  },
  {
   "cell_type": "markdown",
   "metadata": {
    "id": "Sqq7F_xlP5IJ"
   },
   "source": [
    "Run the following cell to import libraries and create the environment. The environment is called `FrozenLake-v0`. You will explore the environment in the next section."
   ]
  },
  {
   "cell_type": "code",
   "execution_count": 1,
   "metadata": {
    "id": "dA0NNe-1d2nz"
   },
   "outputs": [],
   "source": [
    "import numpy as np\n",
    "import gym\n",
    "import time\n",
    "import math\n",
    "import matplotlib.pyplot as plt\n",
    "from IPython.display import clear_output # to clear output on every episode run\n",
    "\n",
    "np.set_printoptions(precision=5, suppress=True)\n",
    "\n",
    "env = gym.make('FrozenLake-v0')\n",
    "state = env.reset()"
   ]
  },
  {
   "cell_type": "markdown",
   "metadata": {
    "id": "be7FWKbsstLC"
   },
   "source": [
    "<a id='sect1'></a>\n",
    "## <font color='darkblue'>Understand the Environment</font> ([back](#sect0))"
   ]
  },
  {
   "cell_type": "markdown",
   "metadata": {
    "id": "ghr8rcgVsvzj"
   },
   "source": [
    "<b>The [`FrozenLake-v0`](https://gym.openai.com/envs/FrozenLake-v0) environment is more complex than `NChain-v0`. You must cross a frozen lake to retrieve a frisbee. The lake is a 4x4 grid:</b>\n",
    "    \n",
    "          SFFF\n",
    "          FHFH\n",
    "          FFFH\n",
    "          HFFG\n",
    "\n",
    "      S : starting point, safe\n",
    "      F : frozen surface, safe\n",
    "      H : hole, fall to your doom\n",
    "      G : goal, where the frisbee is located\n",
    "\n",
    "You start at the top-left cell. The frisbee is in the bottom-right cell. <b>You receive a reward of 1 upon reaching the frisbee, and 0 for all other transitions. The episode ends on reaching the frisbee or falling into a hole</b>. Warning: Because the ice is slippery, the result of taking an action (<font color='brown'>up, down, left, right</font>) is probabilistic.\n",
    "\n",
    "First, record the number of possible states and actions:"
   ]
  },
  {
   "cell_type": "code",
   "execution_count": 2,
   "metadata": {
    "id": "3M14eayUSdRd"
   },
   "outputs": [
    {
     "name": "stdout",
     "output_type": "stream",
     "text": [
      "Number of states: 16\n",
      "Number of actions: 4\n"
     ]
    }
   ],
   "source": [
    "num_states = env.observation_space.n\n",
    "print(\"Number of states: \" + str(num_states))\n",
    "num_actions = env.action_space.n\n",
    "print(\"Number of actions: \" + str(num_actions))"
   ]
  },
  {
   "cell_type": "code",
   "execution_count": 3,
   "metadata": {},
   "outputs": [
    {
     "name": "stdout",
     "output_type": "stream",
     "text": [
      "Discrete(4)\n"
     ]
    }
   ],
   "source": [
    "env.reset()\n",
    "print(env.action_space)"
   ]
  },
  {
   "cell_type": "markdown",
   "metadata": {
    "id": "gf1hvIwmSdlB"
   },
   "source": [
    "<b>Run the following cell a few times to observe an episode and understand the environment.</b> The output shows an agent stepping through a full episode using a random policy. The action taken is in parentheses. <b>Notice how the agent's state transitions often do not correspond to the action taken. The environment is very probabilistic</b>."
   ]
  },
  {
   "cell_type": "code",
   "execution_count": 4,
   "metadata": {
    "id": "FBkQ-0vmeiVs"
   },
   "outputs": [
    {
     "name": "stdout",
     "output_type": "stream",
     "text": [
      "  (Right)\n",
      "SFFF\n",
      "F\u001b[41mH\u001b[0mFH\n",
      "FFFH\n",
      "HFFG\n"
     ]
    }
   ],
   "source": [
    "done = False\n",
    "state = env.reset()\n",
    "env.render()\n",
    "\n",
    "while not done:\n",
    "    clear_output(True)\n",
    "    state_next, reward, done, _ = env.step(env.action_space.sample())\n",
    "    env.render() # Print the environment with taken action\n",
    "    time.sleep(1.0)\n",
    "    state = state_next"
   ]
  },
  {
   "cell_type": "markdown",
   "metadata": {
    "id": "SKX4OEKzPVVE"
   },
   "source": [
    "<a id='sect2'></a>\n",
    "## <font color='darkblue'>Random & Greedy Policies</font> ([back](#sect0))"
   ]
  },
  {
   "cell_type": "markdown",
   "metadata": {
    "id": "q4HqNjdyYuAL"
   },
   "source": [
    "Build the Q-values table for the environment by using a random policy to explore the enviroment. First, define the random policy:"
   ]
  },
  {
   "cell_type": "code",
   "execution_count": 5,
   "metadata": {
    "id": "3DgmuU-RfIXl"
   },
   "outputs": [],
   "source": [
    "def policy_random():\n",
    "    return env.action_space.sample()"
   ]
  },
  {
   "cell_type": "markdown",
   "metadata": {
    "id": "U49xojTUb47j"
   },
   "source": [
    "Define a function to update the Q-table using the <b><a href='https://en.wikipedia.org/wiki/Bellman_equation'>Bellman equation</a></b>: \n",
    "\n",
    "$$Q(s,a) \\gets Q(s,a) + \\alpha\n",
    "  \\left[r(s,a)\n",
    "      + \\gamma \\displaystyle\\max_{\\substack{a_1}} Q(s_1,a_1)\n",
    "    - Q(s,a) \\right]\n",
    "$$\n",
    "\n",
    "<br/>\n",
    "\n",
    "The implemented Bellman equation:"
   ]
  },
  {
   "cell_type": "code",
   "execution_count": 8,
   "metadata": {
    "cellView": "form",
    "id": "lYMFsWl1yzwr"
   },
   "outputs": [],
   "source": [
    "#@title Solution (to view code, from cell's menu, select Form -> Show Code)\n",
    "def bellman_update(q_table, learning_rate, discount_factor, reward, state, state_next, action):\n",
    "    q_table[state,action] = q_table[state, action] + learning_rate * (\n",
    "        reward + \\\n",
    "        discount_factor * np.max(q_table[state_next,:]) - \\\n",
    "        q_table[state, action]\n",
    "    )\n",
    "    \n",
    "    return q_table"
   ]
  },
  {
   "cell_type": "markdown",
   "metadata": {
    "id": "73y3y3Z8qzfD"
   },
   "source": [
    "Define a function to <b>run an episode using the random policy and the Bellman update</b>. Complete the function as indicated:"
   ]
  },
  {
   "cell_type": "code",
   "execution_count": 9,
   "metadata": {
    "cellView": "form",
    "id": "mcD6ZJWOOKYE"
   },
   "outputs": [],
   "source": [
    "#@title Solution (to view code, from cell's menu, select Form -> Show Code)\n",
    "def run_random_episode(env, q_table, learning_rate, discount_factor):\n",
    "    state = env.reset()\n",
    "    done = False\n",
    "  \n",
    "    while(not done):\n",
    "        action = policy_random()\n",
    "        state_next, reward, done, _ = env.step(action)\n",
    "        q_table = bellman_update(\n",
    "            q_table,\n",
    "            learning_rate,\n",
    "            discount_factor,\n",
    "            reward,\n",
    "            state,\n",
    "            state_next,\n",
    "            action\n",
    "        )\n",
    "        state = state_next\n",
    "  \n",
    "    return(q_table)"
   ]
  },
  {
   "cell_type": "markdown",
   "metadata": {
    "id": "kOaKc9VgNkXz"
   },
   "source": [
    "Create the Q-table by running the random policy for a few thousand episodes. Do not try to read the resulting Q-table closely because the table is complex. Instead, note the following characteristics of the Q-table:\n",
    "\n",
    "* Q-values remain 0 for the terminal states (the holes and the goal state) because no transitions occur from terminal states.\n",
    "* Q-value for the final state-action pair that precedes the goal, (s=14, a=2), is set to 100 by the code. The code normalizes all other Q-values.\n",
    "* The higher the Q-value of a state-action pair, the closer that state-action pair is to the goal."
   ]
  },
  {
   "cell_type": "code",
   "execution_count": 10,
   "metadata": {
    "id": "OC47KVJRODME"
   },
   "outputs": [
    {
     "name": "stdout",
     "output_type": "stream",
     "text": [
      "[[ 23.93969  29.17582  28.8811   24.85696]\n",
      " [ 11.71562  11.35794  29.76634  26.28161]\n",
      " [ 34.90451  29.82141  28.36894  30.68259]\n",
      " [  7.09749  28.68831  23.81155  30.52967]\n",
      " [ 27.95667  34.1119   29.19838  27.83453]\n",
      " [  0.        0.        0.        0.     ]\n",
      " [ 36.67922   6.72199  37.8042   24.66249]\n",
      " [  0.        0.        0.        0.     ]\n",
      " [  6.59804  37.44932  20.28321  34.45813]\n",
      " [ 27.4288   59.15966  49.79611  10.97463]\n",
      " [ 70.46497  50.54634  36.78346  18.43361]\n",
      " [  0.        0.        0.        0.     ]\n",
      " [  0.        0.        0.        0.     ]\n",
      " [ 32.72831  51.78992  75.02537  55.12311]\n",
      " [ 66.31448 100.       73.12958  74.12898]\n",
      " [  0.        0.        0.        0.     ]]\n"
     ]
    }
   ],
   "source": [
    "discount_factor = 0.9 # typical value\n",
    "learning_rate = 0.5 # typical value for FrozenLake is 0.1 to 0.8\n",
    "episodes = 2000 # typically varies from 5000 to 15000\n",
    "\n",
    "q_table = np.zeros([num_states, num_actions])\n",
    "\n",
    "# Normalize Q-values for readability\n",
    "def normalize_q_values(q_table):\n",
    "    q_table_max = np.max(q_table)\n",
    "    if q_table_max > 0.0:  # if agent never succeeds, then max(q_table) = 0\n",
    "        q_table = (q_table/q_table_max)*100.0\n",
    "        \n",
    "    return q_table\n",
    "\n",
    "for episode in range(episodes):\n",
    "    q_table = run_random_episode(env, q_table, learning_rate, discount_factor)\n",
    "\n",
    "print(normalize_q_values(q_table))"
   ]
  },
  {
   "cell_type": "markdown",
   "metadata": {
    "id": "LUksSdWvN3u6"
   },
   "source": [
    "Using these Q-values, you can exploit the environment by following the path of maximum Q. <b>A policy that exploits the environment by maximizing Q is called a <font color='darkblue'>greedy policy</font></b>.\n",
    "\n",
    "Define a policy function that uses Q-values to greedily choose an action:"
   ]
  },
  {
   "cell_type": "code",
   "execution_count": 11,
   "metadata": {
    "id": "Sv4BQkdVNjgk"
   },
   "outputs": [],
   "source": [
    "def policy_greedy(q_table, state):\n",
    "    return np.argmax(q_table[state,:])"
   ]
  },
  {
   "cell_type": "markdown",
   "metadata": {
    "id": "Hr6LzTDKOK9z"
   },
   "source": [
    "Run the following code to follow a greedy policy and find the successful percentage of episodes. <font color='darkred'><b>The greedy policy has a low success percent. Therefore, the Q-values must be inaccurate.</b></font>"
   ]
  },
  {
   "cell_type": "code",
   "execution_count": 12,
   "metadata": {
    "id": "Wddtd_56yVxr"
   },
   "outputs": [
    {
     "name": "stdout",
     "output_type": "stream",
     "text": [
      "Percentage of successful episodes: 9.629999999999999%.\n"
     ]
    }
   ],
   "source": [
    "total_reward = 0.0\n",
    "\n",
    "num = 10000\n",
    "for episode in range(num):\n",
    "    state = env.reset()\n",
    "    done = False\n",
    "    while(not done):\n",
    "        action = policy_greedy(q_table, state)\n",
    "        state, reward, done,_ = env.step(action)\n",
    "        \n",
    "    total_reward += reward\n",
    "\n",
    "print(\"Percentage of successful episodes: \" + str(total_reward / num * 100) + \"%.\")"
   ]
  },
  {
   "cell_type": "markdown",
   "metadata": {
    "id": "4l03Tn3HOSsy"
   },
   "source": [
    "<a id='sect3'></a>\n",
    "## <font color='darkblue'>Balancing Exploitation with Exploration</font> ([back](#sect0))"
   ]
  },
  {
   "cell_type": "markdown",
   "metadata": {
    "id": "sHe3uBieOUPe"
   },
   "source": [
    "<b>Why are the Q-values inaccurate after thousands of episodes of exploration?</b> At the beginning, all Q-values are 0. As the agent runs successive episodes with a random policy, the agent finds rewarding paths. However, <b><font color='darkred'>the random policy doesn't let the agent change behavior to exploit the most rewarding paths. Therefore, the agent does not explore the environment enough to find the paths that lead to maximum return</font></b>.\n",
    "\n",
    "To improve upon a random policy, you can use an <b><font color='darkblue'>epsilon greedy</font></b> (<font color='brown'>e-greedy</font>) policy instead. <b>This policy takes a random action with epsilon probability and a greedy action otherwise</b>. The value of epsilon decays over successive episodes, such that <b>the policy gradually switches from random exploration to choosing the paths that maximize reward</b>.\n",
    "\n",
    "Control the rate of epsilon's decay by multiplying epsilon by a decay factor on every episode. Set the decay factor between 0 and 1; typically very close to 1, such as 0.99. Therefore, <b>the higher the decay factor, the slower epsilon decays</b>. Understand this relation by running the following cell to visualize epsilon's decay. Try changing `episodes` and `eps_decay`, and check the result."
   ]
  },
  {
   "cell_type": "code",
   "execution_count": 13,
   "metadata": {
    "id": "4YmCETqyp3Ng"
   },
   "outputs": [
    {
     "data": {
      "text/plain": [
       "Text(0.5, 1.0, 'epsilon decay comparison')"
      ]
     },
     "execution_count": 13,
     "metadata": {},
     "output_type": "execute_result"
    },
    {
     "data": {
      "image/png": "[encoded data removed]",
      "text/plain": [
       "<Figure size 720x432 with 1 Axes>"
      ]
     },
     "metadata": {
      "needs_background": "light"
     },
     "output_type": "display_data"
    }
   ],
   "source": [
    "plt.rcParams['figure.figsize'] = [10, 6]\n",
    "eps_decay = 0.99\n",
    "episodes = 100\n",
    "\n",
    "for eps_decay in [0.99, 0.98, 0.97, 0.96, 0.95]:\n",
    "    epsilon = 1.0\n",
    "    eps_values = np.zeros(episodes)\n",
    "\n",
    "    for episode in range(episodes):\n",
    "        eps_values[episode] = epsilon\n",
    "        epsilon *= eps_decay\n",
    "\n",
    "    # Plot epsilon values\n",
    "    plt.scatter(range(episodes), eps_values, label=str(eps_decay))\n",
    "    plt.xlabel('Episodes')\n",
    "    plt.ylabel('Epsilon')\n",
    "    \n",
    "plt.legend(loc=\"upper right\")\n",
    "plt.title('epsilon decay comparison')"
   ]
  },
  {
   "cell_type": "markdown",
   "metadata": {
    "id": "ziy0TJd46yTQ"
   },
   "source": [
    "<a id='sect4'></a>\n",
    "## <font color='darkblue'>Implement Epsilon Greedy Policy</font> ([back](#sect0))"
   ]
  },
  {
   "cell_type": "markdown",
   "metadata": {
    "id": "_G0PdQZp69NA"
   },
   "source": [
    "In the following cell, implement the epsilon-greedy policy by selecting a random action or greedy action where indicated by `TODO`:"
   ]
  },
  {
   "cell_type": "code",
   "execution_count": 14,
   "metadata": {
    "cellView": "form",
    "id": "5nsrRvEO7w2J"
   },
   "outputs": [],
   "source": [
    "#@title Solution (to view code, from cell's menu, select Form -> Show Code)\n",
    "def policy_eps_greedy(q_table, state, epsilon):\n",
    "    if(np.random.random() < epsilon):\n",
    "        action = policy_random()\n",
    "    else:\n",
    "        action = policy_greedy(q_table, state)\n",
    "        \n",
    "    return action"
   ]
  },
  {
   "cell_type": "markdown",
   "metadata": {
    "id": "G3S9xoyufsqH"
   },
   "source": [
    "Using the function `policy_eps_greedy`, define a function to run an episode and update the Q-table:"
   ]
  },
  {
   "cell_type": "code",
   "execution_count": 15,
   "metadata": {
    "id": "JJBp65zT68aX"
   },
   "outputs": [],
   "source": [
    "def run_epsilon_greedy_episode(env, q_table, epsilon, learning_rate, discount_factor):\n",
    "    state = env.reset()\n",
    "    done = False\n",
    "    episode_return = 0\n",
    "  \n",
    "    while(not done):\n",
    "        action = policy_eps_greedy(q_table, state, epsilon)\n",
    "        state_next, reward, done, _ = env.step(action)\n",
    "        episode_return += reward\n",
    "        q_table = bellman_update(q_table, learning_rate, discount_factor, reward, state, state_next, action)\n",
    "        state = state_next\n",
    "  \n",
    "    return(reward, q_table)"
   ]
  },
  {
   "cell_type": "markdown",
   "metadata": {
    "id": "7LHfvEC17l1R"
   },
   "source": [
    "<a id='sect5'></a>\n",
    "## <font color='darkblue'>Train Agent to Solve Frozen Lake</font> ([back](#sect0))\n",
    "* <a href='#sect5_1'><b>How to Adjust Hyperparameters</b></a>\n",
    "* <a href='#sect5_2'><b>Solution</b></a>"
   ]
  },
  {
   "cell_type": "markdown",
   "metadata": {
    "id": "r6_G4pT68dv7"
   },
   "source": [
    "To train the agent, define a function that accepts the environment and agent hyperparameters, and runs episodes to update the Q-table."
   ]
  },
  {
   "cell_type": "code",
   "execution_count": 19,
   "metadata": {
    "id": "NYKywMxN8uq7"
   },
   "outputs": [],
   "source": [
    "# minimum value of epsilon is typically set to 0.01\n",
    "EPS_MIN = 0.01\n",
    "\n",
    "def train_agent(env, epsiodes: int, learning_rate: float, discount_factor: float, eps_decay: float):\n",
    "    '''Train the agent with given hyperparameters.\n",
    "    \n",
    "    Args:\n",
    "        env: Environment object\n",
    "        epsiodes: Number of round to train the agent.\n",
    "        learning_rate: α setting in Bellman equation\n",
    "        discount_factor: γ setting in Bellman equation\n",
    "        eps_decay: ε as epsilon decay setting\n",
    "        \n",
    "    Returns:\n",
    "        Tuple(reward history, Q table)\n",
    "    '''\n",
    "    reward_history = np.array([])\n",
    "    q_table = np.zeros([num_states, num_actions])\n",
    "    epsilon = 1.0\n",
    "  \n",
    "    for episode in range(episodes):\n",
    "        reward, q_table = run_epsilon_greedy_episode(env, q_table, epsilon, learning_rate, discount_factor)\n",
    "        reward_history = np.append(reward_history, reward)\n",
    "        if(epsilon > EPS_MIN):\n",
    "            epsilon *= eps_decay\n",
    "  \n",
    "    return(reward_history, q_table)"
   ]
  },
  {
   "cell_type": "markdown",
   "metadata": {
    "id": "Jt03OHH4qdxG"
   },
   "source": [
    "Train the agent to solve FrozenLake. The code displays the Q-table along with plots that show how success increases with episodes. Adjust hyperparameters to boost success.  For the solution, expand the following section.\n",
    "\n",
    "<a id='sect5_1'></a>\n",
    "### <font color='darkgreen'>How to Adjust Hyperparameters</font>\n",
    "\n",
    "Adjusting hyperparameters in ML models is part art, part science. For general guidelines, see the [Testing & Debugging in Machine Learning](https://developers.google.com/machine-learning/testing-debugging/) course. In addition, consider the following guidelines for simple <a href='https://en.wikipedia.org/wiki/Reinforcement_learning'><b>RL</b></a> problems:\n",
    "\n",
    "* Results of RL training runs are variable because the environment is probabilistic, and because Q-values are arbitarily initialized. Do not rely on a single training run to evaluate a set of hyperparameter values. Try a few runs.\n",
    "* If your agent is not successful, then perhaps epsilon decays before random exploration succeeds. Let your agent explore for longer by increasing `eps_decay`. Typically, `eps_decay` should be very close to 1.\n",
    "* If your agent has a few successes, but does not exploit those successes, then try the following steps:\n",
    "  * Adjust the learning rate. For general guidance on adjusting learning rate, see the section \"Adjust Hyperparameter Values\" on the page [Model Debugging](https://developers.google.com/machine-learning/testing-debugging/common/model-errors) from the Testing & Debugging course.\n",
    "  * Train for longer by increasing the number of episodes.\n",
    "  * Try increasing `discount_factor` to ensure that the reward backpropagates sufficiently to the Q-values for the initial states."
   ]
  },
  {
   "cell_type": "code",
   "execution_count": 20,
   "metadata": {
    "cellView": "form",
    "id": "shvPve8POR-w"
   },
   "outputs": [
    {
     "name": "stdout",
     "output_type": "stream",
     "text": [
      "[[  2.02497   2.10265   2.07569   1.90905]\n",
      " [  1.14753   1.95396   2.10751   2.39339]\n",
      " [  4.6189    3.69286   4.75212   2.68292]\n",
      " [  1.53545   1.87108   1.12895   2.64828]\n",
      " [  3.32102   2.37051   2.36983   1.45745]\n",
      " [  0.        0.        0.        0.     ]\n",
      " [  8.80393   8.57907  11.20962   0.76605]\n",
      " [  0.        0.        0.        0.     ]\n",
      " [  2.9306    7.0988    5.17213   8.02071]\n",
      " [  8.01698  19.23266  14.10109   9.15925]\n",
      " [ 27.76785  18.64952  27.73798   4.77647]\n",
      " [  0.        0.        0.        0.     ]\n",
      " [  0.        0.        0.        0.     ]\n",
      " [ 10.09514  33.07965  28.62499  23.21983]\n",
      " [ 33.61454  99.34435 100.       66.8186 ]\n",
      " [  0.        0.        0.        0.     ]]\n",
      "\n",
      "Success rate: 22.0%.\n"
     ]
    },
    {
     "data": {
      "image/png": "[encoded data removed]",
      "text/plain": [
       "<Figure size 720x432 with 2 Axes>"
      ]
     },
     "metadata": {
      "needs_background": "light"
     },
     "output_type": "display_data"
    }
   ],
   "source": [
    "# Hyperparameters\n",
    "eps_decay = 0.9999         #@param\n",
    "episodes = 5000            #@param\n",
    "discount_factor = 0.8      #@param\n",
    "learning_rate = 0.03       #@param\n",
    "\n",
    "\n",
    "# Run agent\n",
    "reward_history, q_table = train_agent(env, episodes, learning_rate, discount_factor, eps_decay)\n",
    "\n",
    "# Normalize Q-values for readability\n",
    "print(normalize_q_values(q_table))\n",
    "\n",
    "# Check success %\n",
    "def check_success(env, q_table):\n",
    "    success = 0\n",
    "    for episode in range(100):\n",
    "        state = env.reset()\n",
    "        done = False\n",
    "        reward = 0\n",
    "        while not done:\n",
    "            state, reward, done, _ = env.step(policy_greedy(q_table, state))\n",
    "            success += reward\n",
    "    print(\"\\nSuccess rate: \" + str(success) + \"%.\")\n",
    "\n",
    "check_success(env, q_table)\n",
    "    \n",
    "# Plot reward and success % over episodes.\n",
    "def visualize_training(reward_history):\n",
    "    plt.subplot(2,1,1)\n",
    "    plt.plot(range(len(reward_history)), reward_history)\n",
    "    plt.xlabel('Episodes')\n",
    "    plt.ylabel('Reward')\n",
    "    plt.title('Reward during Training')\n",
    "    num_bins = episodes/100\n",
    "    plt.subplot(2,1,2)\n",
    "    plt.hist(\n",
    "        np.nonzero(reward_history)[0],\n",
    "        bins=int(num_bins),\n",
    "        range=(0,episodes),\n",
    "        rwidth=0.1)\n",
    "    plt.xlabel('Episodes')\n",
    "    plt.ylabel('% Success')\n",
    "\n",
    "visualize_training(reward_history)"
   ]
  },
  {
   "cell_type": "markdown",
   "metadata": {
    "id": "Ag5jg3gVW5kT"
   },
   "source": [
    "<a id='sect5_2'></a>\n",
    "### <font color='darkgreen'>Solution (expand to view)</font>"
   ]
  },
  {
   "cell_type": "markdown",
   "metadata": {
    "id": "HdAZbF0GxPzw"
   },
   "source": [
    "Run the following cell to successfully train the agent. Observe the following:\n",
    "\n",
    "* The epsilon-greedy policy calculates different Q-values from the purely random policy.\n",
    "* The agent's success rate gradually increases as the agent learns the environment."
   ]
  },
  {
   "cell_type": "code",
   "execution_count": 21,
   "metadata": {
    "id": "HRP2_da9W739"
   },
   "outputs": [
    {
     "name": "stdout",
     "output_type": "stream",
     "text": [
      "[[0.15231 0.0915  0.08984 0.08665]\n",
      " [0.03976 0.03338 0.0556  0.10813]\n",
      " [0.04464 0.02847 0.04257 0.05445]\n",
      " [0.01433 0.02049 0.01986 0.04331]\n",
      " [0.20097 0.14151 0.07707 0.05942]\n",
      " [0.      0.      0.      0.     ]\n",
      " [0.00527 0.00102 0.13748 0.00088]\n",
      " [0.      0.      0.      0.     ]\n",
      " [0.07537 0.06798 0.0851  0.24599]\n",
      " [0.10376 0.40701 0.10983 0.10347]\n",
      " [0.72218 0.04245 0.05339 0.11107]\n",
      " [0.      0.      0.      0.     ]\n",
      " [0.      0.      0.      0.     ]\n",
      " [0.21834 0.17104 0.53466 0.20064]\n",
      " [0.3003  0.83953 0.43285 0.41545]\n",
      " [0.      0.      0.      0.     ]]\n",
      "\n",
      "Success rate: 72.0%.\n"
     ]
    },
    {
     "data": {
      "image/png": "[encoded data removed]",
      "text/plain": [
       "<Figure size 720x432 with 2 Axes>"
      ]
     },
     "metadata": {
      "needs_background": "light"
     },
     "output_type": "display_data"
    }
   ],
   "source": [
    "# Set parameters\n",
    "eps_decay = 0.999\n",
    "episodes = 5000\n",
    "discount_factor = 0.95\n",
    "learning_rate = 0.5\n",
    "\n",
    "# minimum value of epsilon is typically set to 0.01\n",
    "EPS_MIN = 0.01\n",
    "\n",
    "# Run agent, print q-values, and plot reward history\n",
    "reward_history, q_table = train_agent(env, episodes, learning_rate, discount_factor, eps_decay)\n",
    "print(q_table)\n",
    "visualize_training(reward_history)\n",
    "check_success(env, q_table)"
   ]
  },
  {
   "cell_type": "markdown",
   "metadata": {
    "id": "d_iFIHw_sTiA"
   },
   "source": [
    "<a id='sect6'></a>\n",
    "## <font color='darkblue'>Conclusion and Next Steps</font>"
   ]
  },
  {
   "cell_type": "markdown",
   "metadata": {
    "id": "Cq-ThveVsUvn"
   },
   "source": [
    "<b>The e-greedy policy successfully balances exploration and exploitatio</b>n. Combining tabular Q-learning with an epsilon-greedy policy is a powerful approach to solving simple environments.\n",
    "\n",
    "Move onto the next Colab: [Deep Q-Learning](https://colab.research.google.com/drive/1XnFxIE882ptpO83mcAz7Zg8PxijJOsUs#forceEdit=true&sandboxMode=true?utm_source=ss-reinforcement-learning&utm_campaign=colab-external&utm_medium=referral&utm_content=rl-deep-q-learning).\n",
    "\n",
    "For reference, the sequence of course Colabs is as follows:\n",
    "\n",
    "1. [Problem Framing in Reinforcement Learning](https://colab.research.google.com/drive/1sUYro4ZyiHuuKfy6KXFSdWjNlb98ZROd#forceEdit=true&sandboxMode=true?utm_source=ss-reinforcement-learning&utm_campaign=colab-external&utm_medium=referral&utm_content=rl-problem-framing)\n",
    "1. [Q-learning Framework](https://colab.research.google.com/drive/1ZPsEEu30SH1BUqUSxNsz0xeXL2Aalqfa#forceEdit=true&sandboxMode=true?utm_source=ss-reinforcement-learning&utm_campaign=colab-external&utm_medium=referral&utm_content=rl-q-learning)\n",
    "1. [Tabular Q-Learning](https://colab.research.google.com/drive/1sX2kO_RA1DckhCwX25OqjUVBATmOLgs2#forceEdit=true&sandboxMode=true?utm_source=ss-reinforcement-learning&utm_campaign=colab-external&utm_medium=referral&utm_content=rl-tabular-q-learning)\n",
    "1. [Deep Q-Learning](https://colab.research.google.com/drive/1XnFxIE882ptpO83mcAz7Zg8PxijJOsUs#forceEdit=true&sandboxMode=true?utm_source=ss-reinforcement-learning&utm_campaign=colab-external&utm_medium=referral&utm_content=rl-deep-q-learning)\n",
    "1. [Experience Replay and Target Networks](https://colab.research.google.com/drive/1DEv8FSjMvsgCDPlOGQrUFoJeAf67cFSo#forceEdit=true&sandboxMode=true?utm_source=ss-reinforcement-learning&utm_campaign=colab-external&utm_medium=referral&utm_content=rl-experience-replay-and-target-networks)"
   ]
  }
 ],
 "metadata": {
  "colab": {
   "collapsed_sections": [
    "9EjQt_o9Xf_L",
    "Ag5jg3gVW5kT"
   ],
   "name": "Copy of rl-tabular-q-learning.ipynb",
   "provenance": []
  },
  "kernelspec": {
   "display_name": "Python 3 (ipykernel)",
   "language": "python",
   "name": "python3"
  },
  "language_info": {
   "codemirror_mode": {
    "name": "ipython",
    "version": 3
   },
   "file_extension": ".py",
   "mimetype": "text/x-python",
   "name": "python",
   "nbconvert_exporter": "python",
   "pygments_lexer": "ipython3",
   "version": "3.8.10"
  }
 },
 "nbformat": 4,
 "nbformat_minor": 1
}
