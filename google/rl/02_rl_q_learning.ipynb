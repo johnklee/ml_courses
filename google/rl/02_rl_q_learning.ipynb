{
 "cells": [
  {
   "cell_type": "markdown",
   "metadata": {
    "id": "85ANezc3CMqA"
   },
   "source": [
    "# <font color='darkblue'>2. Q Learning Framework</font>"
   ]
  },
  {
   "cell_type": "markdown",
   "metadata": {
    "id": "9EjQt_o9Xf_L"
   },
   "source": [
    "## <font color='darkblue'>Copyright 2019 Google LLC.</font>"
   ]
  },
  {
   "cell_type": "code",
   "execution_count": 1,
   "metadata": {
    "cellView": "both",
    "id": "oXzTW-CnXf_Q"
   },
   "outputs": [],
   "source": [
    "#@title\n",
    "# Licensed under the Apache License, Version 2.0 (the \"License\");\n",
    "# you may not use this file except in compliance with the License.\n",
    "# You may obtain a copy of the License at\n",
    "#\n",
    "# https://www.apache.org/licenses/LICENSE-2.0\n",
    "#\n",
    "# Unless required by applicable law or agreed to in writing, software\n",
    "# distributed under the License is distributed on an \"AS IS\" BASIS,\n",
    "# WITHOUT WARRANTIES OR CONDITIONS OF ANY KIND, either express or implied.\n",
    "# See the License for the specific language governing permissions and\n",
    "# limitations under the License."
   ]
  },
  {
   "cell_type": "markdown",
   "metadata": {
    "id": "Xzn4Yd9Igj8M"
   },
   "source": [
    "This Colab is part of the [Reinforcement Learning course](https://developers.google.com/machine-learning/reinforcement-learning/). In the previous Colab, you learned to frame problems in reinforcement learning. In this Colab, you will learn about the RL decision-making process by applying the following concepts:\n",
    "\n",
    "* [Markov Decision Process](https://en.wikipedia.org/wiki/Markov_decision_process) (MDP)\n",
    "* Expected return and Q-value\n",
    "* Bellman equation\n",
    "\n",
    "Lastly, you will use these concepts to solve the `NChain-v0` environment."
   ]
  },
  {
   "cell_type": "markdown",
   "metadata": {},
   "source": [
    "<a id='sect0'></a>\n",
    "### <font color='darkgreen'>Agenda</font>\n",
    "* <font size='3ptx'>[**Markov Decision Process**](#sect1)</font>\n",
    "* <font size='3ptx'>[**Learning Rewards**](#sect2)</font>\n",
    "    * [**Solution (expand to view)**](#sect2_1)\n",
    "* <font size='3ptx'>[**Learning Probabilistic Rewards**](#sect3)</font>\n",
    "    * [**Solution (expand to view code)**](#sect3_1)\n",
    "* <font size='3ptx'>[**Q-Function and Q-Values**](#sect4)</font>\n",
    "* <font size='3ptx'>[**Implement Bellman Equation**](#sect5)</font>\n",
    "* <font size='3ptx'>[**Train the Agent to Solve NChain**](#sect6)</font>\n",
    "    * [**Answers**](#sect6_1)\n",
    "    * [**Run Training**](#sect6_2)\n",
    "    * [**Solution**](#sect6_3)\n",
    "* <font size='3ptx'>[**Test Your Trained Agent**](#sect7)</font>\n",
    "* <font size='3ptx'>[**Contrasting RL with Supervised Learning**](#sect8)</font>\n",
    "* <font size='3ptx'>[**Conclusion and Next Steps**](#sect9)</font>"
   ]
  },
  {
   "cell_type": "markdown",
   "metadata": {
    "id": "HV5E0ctpCO6G"
   },
   "source": [
    "## <font color='darkblue'>Setup</font>"
   ]
  },
  {
   "cell_type": "markdown",
   "metadata": {
    "id": "urxZETIjO0c4"
   },
   "source": [
    "Run the following cell to setup Google Analytics for the Colab. Data from  Google Analytics helps improve the Colab."
   ]
  },
  {
   "cell_type": "code",
   "execution_count": 2,
   "metadata": {
    "cellView": "form",
    "id": "ngfeEbGgO3rN"
   },
   "outputs": [],
   "source": [
    "#@title Set up Google Analytics for Colab\n",
    "%reset -f\n",
    "import uuid\n",
    "client_id = uuid.uuid4()\n",
    "\n",
    "import requests\n",
    "\n",
    "# Bundle up reporting into a function.\n",
    "def report_execution():\n",
    "  requests.post('https://www.google-analytics.com/collect', \n",
    "                data=('v=1'\n",
    "                      '&tid=UA-48865479-3'\n",
    "                      '&cid={}'\n",
    "                      '&t=event'\n",
    "                      '&ec=cell'            # <-- event type\n",
    "                      '&ea=execute'         # <-- event action\n",
    "                      '&el=rl-q-learning'   # <-- event label\n",
    "                      '&ev=1'               # <-- event value\n",
    "                      '&an=bundled'.format(client_id)))\n",
    "\n",
    "from IPython import get_ipython\n",
    "get_ipython().events.register('post_execute', report_execution)"
   ]
  },
  {
   "cell_type": "markdown",
   "metadata": {
    "id": "tJSpW0e7FDfl"
   },
   "source": [
    "Run the following cell to import libraries:"
   ]
  },
  {
   "cell_type": "code",
   "execution_count": 3,
   "metadata": {
    "id": "s1k8cAe3Ar4O"
   },
   "outputs": [],
   "source": [
    "import gym\n",
    "import numpy as np\n",
    "from IPython.display import clear_output\n",
    "\n",
    "np.set_printoptions(precision=2, suppress=True)"
   ]
  },
  {
   "cell_type": "markdown",
   "metadata": {
    "id": "nXX5_vTw7w0Q"
   },
   "source": [
    "<a id='sect1'></a>\n",
    "## <font color='darkblue'>Markov Decision Process</font> ([back](#sect0))"
   ]
  },
  {
   "cell_type": "markdown",
   "metadata": {
    "id": "p6QcZBIGxA2G"
   },
   "source": [
    "In the previous Colab, you explored the `NChain-v0` environment, visualized in the following graph:\n",
    "\n",
    "<img alt=\"A schematic that shows the NChain environment. The schematic shows the states, possible actions, and results of taking those actions in the state. When an agent takes an action in a state, the agent moves to a new state and receives a reward. There are 5 states. The allowed actions from each state are labelled 0 and 1. Action 0 always leads to a reward of 0, except from state 4 where action 0 returns a reward of 10. Action 1 always returns a reward of 2.\" width=\"75%\" src=\"images/2.PNG\"/>\n",
    "\n",
    "Suppose you're in state 4. You know that action 0 returns a big reward with high probability.  **This probability only depends on the current state, 4, and not on the previous sequence of states. This property, where possible state transitions are completely determined by the current state, is called the <font color='darkblue'>Markov property</font>**.\n",
    "\n",
    "From state 4, you decide to take action 0 to get the big reward. To make your decision, again, you only needed to know your current state. You didn't need knowledge of *how* you reached state 4. **When an agent makes decisions to navigate a sequence of states under the Markov property, then the result is called a <font color='darkblue'>Markov Decision Process</font> (MDP)**.\n",
    "\n",
    "Recall that this sequence of states is called a <font color='darkblue'>**trajectory**</font>, represented by $(s,a,r,s')$ tuples as follows:\n",
    "\n",
    "$$s_0 \\xrightarrow[r_0]{a_0} s_1 \\xrightarrow[r_1]{a_1} s_2 \\ldots \\xrightarrow[r_2]{a_{n-2}} s_{n-1}\\xrightarrow[r_{n-1}]{a_{n-1}} s_n\n",
    "$$"
   ]
  },
  {
   "cell_type": "markdown",
   "metadata": {
    "id": "rMTGuBmdCcrX"
   },
   "source": [
    "<a id='sect2'></a>\n",
    "## <font color='darkblue'>Learning Rewards</font> ([back](#sect0))"
   ]
  },
  {
   "cell_type": "markdown",
   "metadata": {
    "id": "JHiKwUZV28Ep"
   },
   "source": [
    "Under the Markov property, you know that the state-action pair s=4, a=0 will  probably return r=10, s'=4. That is, the next state and associated reward depend solely on the current state.\n",
    "\n",
    "<b>Since rewards are specific to state-action pairs, you can track rewards for each state-action pair</b>. First, for the `NChain-v0` environment, get the number of states and actions:"
   ]
  },
  {
   "cell_type": "code",
   "execution_count": 4,
   "metadata": {
    "id": "3AJQMa4PCcEV"
   },
   "outputs": [
    {
     "name": "stdout",
     "output_type": "stream",
     "text": [
      "NChain-v0 has 5 states and 2 actions.\n"
     ]
    }
   ],
   "source": [
    "env = gym.make(\"NChain-v0\")\n",
    "state = env.reset()\n",
    "\n",
    "num_states = env.observation_space.n\n",
    "num_actions = env.action_space.n\n",
    "\n",
    "print(\"NChain-v0 has \" + str(num_states) + \" states and \" + str(num_actions) + \" actions.\")"
   ]
  },
  {
   "cell_type": "markdown",
   "metadata": {
    "id": "BrTrRlsKL_an"
   },
   "source": [
    "Create a table to track rewards for each state-action transition. By default, initialize rewards to `0`.\n",
    "\n",
    "This table stores <font color='darkblue'>**Q-values**</font> for every state-action pair in the following format:\n",
    "\n",
    "$$\n",
    "\\text{states}\\left\\downarrow\\vphantom{\n",
    "% the following matrix is invisible\n",
    "% the \\vphantom uses the matrix to know its size\n",
    "\\begin{bmatrix} \n",
    "Q(s=0,a=0) & Q(s=0,a=1) \\\\\n",
    "Q(s=1,a=0) & Q(s=1,a=1) \\\\\n",
    "Q(s=2,a=0) & Q(s=2,a=1) \\\\\n",
    "Q(s=3,a=0) & Q(s=3,a=1) \\\\\n",
    "Q(s=4,a=0) & Q(s=4,a=1) \\\\\n",
    "\\end{bmatrix}\n",
    "}\n",
    "\\right.\n",
    "% This is the visible matrix\n",
    "\\overset{\\xrightarrow{\\text{actions}}}\n",
    "{\n",
    "\\begin{bmatrix} \n",
    "Q(s=0,a=0) & Q(s=0,a=1) \\\\\n",
    "Q(s=1,a=0) & Q(s=1,a=1) \\\\\n",
    "Q(s=2,a=0) & Q(s=2,a=1) \\\\\n",
    "Q(s=3,a=0) & Q(s=3,a=1) \\\\\n",
    "Q(s=4,a=0) & Q(s=4,a=1) \\\\\n",
    "\\end{bmatrix}\n",
    "}\n",
    "$$"
   ]
  },
  {
   "cell_type": "code",
   "execution_count": 5,
   "metadata": {
    "id": "_QLkc8o0L-b7"
   },
   "outputs": [
    {
     "name": "stdout",
     "output_type": "stream",
     "text": [
      "[[0. 0.]\n",
      " [0. 0.]\n",
      " [0. 0.]\n",
      " [0. 0.]\n",
      " [0. 0.]]\n"
     ]
    }
   ],
   "source": [
    "rewards = np.zeros([num_states, num_actions])\n",
    "print(rewards)"
   ]
  },
  {
   "cell_type": "markdown",
   "metadata": {
    "id": "IVOrtLcuV4_1"
   },
   "source": [
    "Reset the environment. Then take an action (<font color='brown'>0 or 1</font>) and assign the reward to the table. Try a few actions. For now, just <b>observe how the rewards accumulate</b>. Later, you will improve upon this method."
   ]
  },
  {
   "cell_type": "code",
   "execution_count": 12,
   "metadata": {
    "cellView": "form",
    "id": "j2sowOKHWA-3"
   },
   "outputs": [],
   "source": [
    "import random\n",
    "actions = [0, 1]\n",
    "actions_weights = [0.9, 0.1]\n",
    "\n",
    "def loop_actions(num=20):\n",
    "    state = env.reset()\n",
    "    for _ in range(num):\n",
    "        action = random.choices(actions, weights=actions_weights, k=1)[0]\n",
    "        state_next, reward, _, _ = env.step(action)\n",
    "        rewards[state, action] = reward\n",
    "        transition = \"s=%d, a=%d, r=%d, s'=%d\" % (state, action, reward, state_next)\n",
    "        clear_output(wait = True)\n",
    "        print(transition)\n",
    "        print(rewards)\n",
    "        state = state_next"
   ]
  },
  {
   "cell_type": "code",
   "execution_count": 7,
   "metadata": {},
   "outputs": [
    {
     "data": {
      "text/plain": [
       "[0, 0, 0, 0, 0, 0, 0, 0, 0, 0, 0, 0, 1, 0, 0, 1, 0, 0, 0, 0]"
      ]
     },
     "execution_count": 7,
     "metadata": {},
     "output_type": "execute_result"
    }
   ],
   "source": [
    "# Check how random.choices work\n",
    "random.choices(actions, weights=actions_weights, k=20)"
   ]
  },
  {
   "cell_type": "code",
   "execution_count": 13,
   "metadata": {},
   "outputs": [
    {
     "name": "stdout",
     "output_type": "stream",
     "text": [
      "s=2, a=0, r=0, s'=3\n",
      "[[ 0.  0.]\n",
      " [ 0.  2.]\n",
      " [ 0.  0.]\n",
      " [ 0.  0.]\n",
      " [10.  2.]]\n"
     ]
    }
   ],
   "source": [
    "loop_actions()"
   ]
  },
  {
   "cell_type": "markdown",
   "metadata": {
    "id": "Ntnd0V31WZw4"
   },
   "source": [
    "Observe that the agent stays in the easy-to-reach states. Explore more state-action pairs by running the agent in a loop.\n",
    "\n",
    "To run the agent in a loop, you must automatically choose actions. **The algorithm that chooses actions is called the <font color='darkblue'>policy</font>**. A simple policy algorithm is to choose actions randomly. Run the code below to define the **random policy**:"
   ]
  },
  {
   "cell_type": "code",
   "execution_count": 9,
   "metadata": {
    "id": "DvmsWCaUW3Vo"
   },
   "outputs": [],
   "source": [
    "def policy_random(num_actions):\n",
    "    return np.random.randint(0, num_actions)"
   ]
  },
  {
   "cell_type": "markdown",
   "metadata": {
    "id": "aJdTaDNdyJ8b"
   },
   "source": [
    "Alternatively, sample a random action using the Gym library's built-in API:"
   ]
  },
  {
   "cell_type": "code",
   "execution_count": 10,
   "metadata": {
    "id": "UtAyOd3nyUaS"
   },
   "outputs": [],
   "source": [
    "def policy_random(env):\n",
    "    return env.action_space.sample()"
   ]
  },
  {
   "cell_type": "markdown",
   "metadata": {
    "id": "STdrX2BGYo9L"
   },
   "source": [
    "Run the following cell to run a full episode of the agent. For each transition tuple $(s,a,r,s')$, the agent assigns the reward `r` to the corresponding table cell `[s,a]`.\n",
    "\n",
    "Run the cell a few times and observe how the rewards table changes. Additionally, print the episode's total reward, called the **return**. Does the rewards table vary on each episode? Why? Expand the succeeding \"Solution\" section for the answer."
   ]
  },
  {
   "cell_type": "code",
   "execution_count": 11,
   "metadata": {
    "id": "bt2vEydMYtQ8"
   },
   "outputs": [
    {
     "name": "stdout",
     "output_type": "stream",
     "text": [
      "[[ 0.  2.]\n",
      " [ 0.  2.]\n",
      " [ 0.  2.]\n",
      " [ 0.  2.]\n",
      " [10.  2.]]\n",
      "Return: 1268\n"
     ]
    }
   ],
   "source": [
    "state = env.reset()\n",
    "done = False\n",
    "rewards_table = np.zeros([num_states, num_actions])\n",
    "episode_return = 0\n",
    "\n",
    "while not done: # episode terminates after 1000 actions\n",
    "    action = policy_random(env)\n",
    "    state_next, reward, done, _ = env.step(action)\n",
    "    episode_return += reward\n",
    "    rewards_table[state, action] = reward\n",
    "    state = state_next\n",
    "    print(rewards_table)\n",
    "    clear_output(wait = True)\n",
    "\n",
    "print(rewards_table)\n",
    "print(\"Return: \"+str(episode_return))"
   ]
  },
  {
   "cell_type": "markdown",
   "metadata": {
    "id": "RoJTCqpHVa6b"
   },
   "source": [
    "<a id='sect2_1'></a>\n",
    "### <font color='darkgreen'>Solution (expand to view)</font>"
   ]
  },
  {
   "cell_type": "markdown",
   "metadata": {
    "id": "bL_q8Z0sVbue"
   },
   "source": [
    "**Yes, the rewards table varies on every episode, because the environment is probabilistic**. Specifically, every $(s,a)$ transition has multiple possible outcomes $(r,s')$. The current rewards table only reflects the last recorded outcome because every outcome overwrites the previous outcome.\n",
    "\n",
    "For example, while (s=0,a=0) usually leads to (r=0, s'=1), sometimes it leads to (r=2, s'=0). Similarly, other state-action pairs that return r=0 with high probability have nonzero rewards. **<font color='darkred'>Therefore, because transitions are probabilistic, an agent cannot rely on a single transition to calculate reward. Instead, the agent must weight reward over multiple transitions**</font>."
   ]
  },
  {
   "cell_type": "markdown",
   "metadata": {
    "id": "ljLCwwHmMXnz"
   },
   "source": [
    "<a id='sect3'></a>\n",
    "## <font color='darkblue'>Learning Probabilistic Rewards</font> ([back](#sect0))"
   ]
  },
  {
   "cell_type": "markdown",
   "metadata": {
    "id": "i_VaRH9SMfTr"
   },
   "source": [
    "Initialize the approximate reward $R(s,a)$ for each $(s,a)$ pair with some value, say $0$. Then, you can gradually refine $R(s,a)$ to approximate the probabilistic reward by adding a correction on each state transition.\n",
    "\n",
    "Programmatically, represent a correction to the approximated $R(s,a)$ by using the following update rule:\n",
    "\n",
    "$$R(s,a) \\gets R(s,a) + correction$$\n",
    "\n",
    "Weight each correction by a learning rate $\\alpha$. Now, you can repeat this correction for multiple state transitions. <b>By weighting each correction to the reward, the final approximated reward reflects all the probabilistic state transitions experienced by the agent.</b>\n",
    "\n",
    "$$R(s,a) \\gets R(s,a) + \\alpha \\cdot correction$$\n",
    "\n",
    "By definition, a correction is the difference between the measured reward $r_{s,a}$ and the expected reward $R(s,a)$:\n",
    "\n",
    "$$R(s,a) \\gets R(s,a) + \\alpha(r_{s,a} - R(s,a))$$\n",
    "\n",
    "Program this update rule in the following cell where indicated by `TODO`. Then run the code cell to generate the rewards table. On first glance, this rewards table looks promising. Do you think this rewards table could help the agent reach the big reward of 10?"
   ]
  },
  {
   "cell_type": "code",
   "execution_count": 14,
   "metadata": {
    "id": "rrPSs5d1OV7G"
   },
   "outputs": [
    {
     "name": "stdout",
     "output_type": "stream",
     "text": [
      "[[0.36 1.32]\n",
      " [0.26 1.69]\n",
      " [0.41 1.54]\n",
      " [0.16 1.53]\n",
      " [8.12 3.39]]\n",
      "Return: 1348.00\n"
     ]
    }
   ],
   "source": [
    "learning_rate = 0.1\n",
    "\n",
    "state = env.reset()\n",
    "done = False\n",
    "\n",
    "rewards_table = np.zeros([num_states, num_actions])\n",
    "episode_return = 0\n",
    "\n",
    "while not done: # episode terminates after 1000 actions\n",
    "    action = policy_random(env)\n",
    "    state_new, reward, done, _ = env.step(action)\n",
    "    episode_return += reward\n",
    "    rewards_table[state, action] += learning_rate * (reward - rewards_table[state,action]) # TODO: Code the update rule\n",
    "    state = state_new\n",
    "    print(rewards_table)\n",
    "    clear_output(wait = True)\n",
    "\n",
    "print(rewards_table)\n",
    "print(\"Return: \" + \"{:.2f}\".format(episode_return))"
   ]
  },
  {
   "cell_type": "markdown",
   "metadata": {
    "id": "STBKyPI0RRes"
   },
   "source": [
    "<a id='sect3_1'></a>\n",
    "### <font color='darkgreen'>Solution (expand to view code)</font>"
   ]
  },
  {
   "cell_type": "markdown",
   "metadata": {
    "id": "e1cSwz6kRSUU"
   },
   "source": [
    "Run the following cell to implement the update rule and generate the rewards table.\n",
    "\n",
    "**This rewards table will not help the agent reach the big reward.** To reach the big reward, the agent must repeat a=0 till it reaches state 4. However, the rewards table tells an agent in state 0 that a=1 returns a larger reward than a=0. <font color='darkred'>**The rewards table does not account for the fact that taking a=0 brings the agent closer to the big reward. In other words, for each $(s,a)$ pair, the rewards table only tracks immediate reward instead of capturing the total possible reward.**</font>\n",
    "\n",
    "In the next section, you will learn how to estimate total reward."
   ]
  },
  {
   "cell_type": "code",
   "execution_count": 15,
   "metadata": {
    "id": "s8513aVauCm5"
   },
   "outputs": [
    {
     "name": "stdout",
     "output_type": "stream",
     "text": [
      "[[0.27 1.75]\n",
      " [0.11 1.84]\n",
      " [0.52 1.61]\n",
      " [0.45 1.46]\n",
      " [8.61 3.68]]\n",
      "Return: 1440.00\n"
     ]
    }
   ],
   "source": [
    "learning_rate = 0.1\n",
    "\n",
    "state = env.reset()\n",
    "done = False\n",
    "\n",
    "rewards_table = np.zeros([num_states, num_actions])\n",
    "episode_return = 0\n",
    "\n",
    "while not done: # episode terminates after 1000 actions\n",
    "    action = policy_random(env)\n",
    "    state_new, reward, done, _ = env.step(action)\n",
    "    episode_return += reward\n",
    "    rewards_table[state,action] += learning_rate * (reward - rewards_table[state, action])\n",
    "    state = state_new\n",
    "    print(rewards_table)\n",
    "    clear_output(wait = True)\n",
    "\n",
    "print(rewards_table)\n",
    "print(\"Return: \" + \"{:.2f}\".format(episode_return))"
   ]
  },
  {
   "cell_type": "markdown",
   "metadata": {
    "id": "dbScBMpd0pS9"
   },
   "source": [
    "<a id='sect4'></a>\n",
    "## <font color='darkblue'>Q-Function and Q-Values</font> ([back](#sect0))"
   ]
  },
  {
   "cell_type": "markdown",
   "metadata": {
    "id": "nPXnij1om8cf"
   },
   "source": [
    "<b><font size='3ptx'>Q-learning is the *fundamental* concept in this course. Ensure you understand this section.</font></b>\n",
    "\n",
    "<b>You must calculate the <font color='darkblue'>return</font>, not the immediate reward</b>. For a given $(s_0,a_0)$, the **return** is  the sum of all rewards until the episode terminates, denoted by $Q(s_0,a_0)$:\n",
    "\n",
    "$$ Q(s_0,a_0) = r_{s_0,a_0} + r_{s_1,a_1} + \\ldots + r_{s_{n-1}, a_{n-1}} $$\n",
    "\n",
    "Because the environment's rewards are probabilistic, $Q(s_0,a_0)$ is the *expected* return, called the <font color='darkblue'>**Q-function**</font> or the **state-action** function.\n",
    "\n",
    "In the formula above, $Q(s_0,a_0)$ weights more distant rewards equally with less distant rewards. However, closer rewards are more desirable because they maximize reward faster. Therefore, <b>account for the delayed nature of future rewards by introducing a discount factor<font color='darkblue'> $\\gamma$ </font>.</b> \n",
    "\n",
    "$$ Q(s_0,a_0) = r_{s_0,a_0} +\\gamma r_{s_1,a_1} + \\gamma^2 r_{s_2,a_2} + \\ldots + \\gamma^{n-1} r_{s_{n-1}, a_{n-1}} $$\n",
    "\n",
    "<br/>\n",
    "    \n",
    "Notice that the equation is recursive:\n",
    "\n",
    "$$ Q(s_0,a_0) = r_{s_0,a_0} + \\gamma Q(s_1,a_1) $$\n",
    "\n",
    "In this equation, you determine action $a_1$ using some policy, such as a random policy. Therefore, $Q(s_0,a_0)$ is the return from taking an action $a$ in a state $s$ and then following some policy that determines the future actions $a_1, a_2, \\ldots$.\n",
    "\n",
    "So far, your agent has chosen the action $a_1$ randomly. However, <b>your agent should choose whatever action maximizes return</b>. Modify the equation to choose the action $a_1$ that maximizes return:\n",
    "\n",
    "$$Q(s_0,a_0) = r_{s_0,a_0} +  \\gamma \\displaystyle \\max_{\\substack{a_1}} Q(s_1,a_1)$$\n",
    "\n",
    "Using this equation, an agent can update the approximated Q-values by using the update rule from [Learning Probabilistic Rewards](#scrollTo=ljLCwwHmMXnz) as follows:\n",
    "\n",
    "$$Q_{updated}(s_0,a_0) \\gets Q_{old}(s_0,a_0) + \\alpha \\cdot (Q_{calculated} - Q_{old}(s_0,a_0))$$\n",
    "\n",
    "Substituting for $Q_{calculated}$ with the expression for $Q(s_0,a_0)$:\n",
    "\n",
    "$$Q_{upd}(s_0,a_0) \\gets Q_{old}(s_0,a_0) + \\alpha\\underbrace{\n",
    "  \\left(\n",
    "      \\overbrace{\n",
    "        \\underbrace{\n",
    "        r_{s_0,a_0}\n",
    "        }_{\\text{new reward}}\n",
    "      + \\gamma \\displaystyle \\max_{\\substack{a_1}} Q(s_1,a_1)\n",
    "      }^{\\text{calculated } Q(s_0,a_0)}\n",
    "    - Q_{old}(s_0,a_0) \\right)\n",
    "    }_{\\text{error gradient}}\n",
    "$$\n",
    "\n",
    "This equation looks intimidating. Remember that the terms in the square brackets represent the correction, called the <font color='darkblue'>**error gradient**</font>. In the error gradient, on each transition, the only new information is $r(s_0,a_0)$. The agent uses $r(s_0,a_0)$ to calculate the new Q-value $Q(s_0,a_0)$, then subtracts the old Q-value to get the error gradient, and finally weights the error gradient by a learning rate.\n",
    "\n",
    "<b>The equation to update $Q$ is the famous <a href='https://en.wikipedia.org/wiki/Bellman_equation'>Bellman equation</a> as applied to RL</b>. Take a moment to ensure you understand the equation.\n"
   ]
  },
  {
   "cell_type": "markdown",
   "metadata": {
    "id": "i4-asG1UInMV"
   },
   "source": [
    "<a id='sect5'></a>\n",
    "## <font color='darkblue'>Implement Bellman Equation</font> ([back](#sect0))"
   ]
  },
  {
   "cell_type": "markdown",
   "metadata": {
    "id": "r3vj3TDOIuY8"
   },
   "source": [
    "Define a function that runs an episode and updates the Q-values by completing the missing Bellman update in the following cell. Your implementation must reproduce the last equation in the section above. The argument `learning_rate` is $\\alpha$ and the argument `discount_factor` is $\\gamma$.\n",
    "\n",
    "Check your implementation against the solution."
   ]
  },
  {
   "cell_type": "code",
   "execution_count": 28,
   "metadata": {
    "cellView": "form",
    "id": "R1gsto50jFcX"
   },
   "outputs": [],
   "source": [
    "#@title Solution (to view code, from cell's menu, select Form -> Show Code)\n",
    "def run_training_episode(env, q_table, learning_rate, discount_factor):\n",
    "    state = env.reset()\n",
    "    done = False\n",
    "    while(not done):\n",
    "        action = policy_random(env)\n",
    "        state_new, reward, done, _ = env.step(action)\n",
    "        q_table[state, action] = q_table[state, action] + learning_rate * (\n",
    "            reward + discount_factor * np.max(q_table[state_new,:]) - \\\n",
    "            q_table[state, action]\n",
    "        )\n",
    "        state = state_new\n",
    "        \n",
    "    return(q_table)"
   ]
  },
  {
   "cell_type": "markdown",
   "metadata": {
    "id": "4vp8T3z09Azw"
   },
   "source": [
    "<a id='sect6'></a>\n",
    "## <font color='darkblue'>Train the Agent to Solve NChain</font> ([back](#sect0))"
   ]
  },
  {
   "cell_type": "markdown",
   "metadata": {
    "id": "BqPpQ9FwOkz7"
   },
   "source": [
    "To train the agent, define a function that runs multiple episodes. For each episode, the function calls `run_training_episode` and prints the Q-table. This output shows the Q-table evolving over episodes. Fill out the call to `run_training_episode`."
   ]
  },
  {
   "cell_type": "code",
   "execution_count": 23,
   "metadata": {
    "cellView": "form",
    "id": "8rQJwLys1iOL"
   },
   "outputs": [],
   "source": [
    "#@title Solution (to view code, from cell's menu, select Form -> Show Code)\n",
    "def train_agent(env, episodes, learning_rate, discount_factor):\n",
    "    q_table = np.zeros([num_states, num_actions])\n",
    "    for episode in range(episodes):\n",
    "        q_table = run_training_episode(env, q_table, learning_rate, discount_factor)\n",
    "        print(q_table)\n",
    "        clear_output(wait = True)\n",
    "    return(q_table)"
   ]
  },
  {
   "cell_type": "markdown",
   "metadata": {
    "id": "g0CBImP41s_P"
   },
   "source": [
    "Recall that the Q-table stores Q-values for every state-action pair in the following format:\n",
    "\n",
    "$$\n",
    "\\text{states}\\left\\downarrow\\vphantom{\n",
    "% the following matrix is invisible\n",
    "% the \\vphantom uses the matrix to know its size\n",
    "\\begin{bmatrix} \n",
    "Q(s=0,a=0) & Q(s=0,a=1) \\\\\n",
    "Q(s=1,a=0) & Q(s=1,a=1) \\\\\n",
    "Q(s=2,a=0) & Q(s=2,a=1) \\\\\n",
    "Q(s=3,a=0) & Q(s=3,a=1) \\\\\n",
    "Q(s=4,a=0) & Q(s=4,a=1) \\\\\n",
    "\\end{bmatrix}\n",
    "}\n",
    "\\right.\n",
    "% This is the visible matrix\n",
    "\\overset{\\xrightarrow{\\text{actions}}}\n",
    "{\n",
    "\\begin{bmatrix} \n",
    "Q(s=0,a=0) & Q(s=0,a=1) \\\\\n",
    "Q(s=1,a=0) & Q(s=1,a=1) \\\\\n",
    "Q(s=2,a=0) & Q(s=2,a=1) \\\\\n",
    "Q(s=3,a=0) & Q(s=3,a=1) \\\\\n",
    "Q(s=4,a=0) & Q(s=4,a=1) \\\\\n",
    "\\end{bmatrix}\n",
    "}\n",
    "$$"
   ]
  },
  {
   "cell_type": "markdown",
   "metadata": {
    "id": "4b3xFZMk8HbP"
   },
   "source": [
    "Now, before training your agent, consider these questions with respect to the Q-table:\n",
    "\n",
    " * Should $Q(s=0,a=0)$ be higher than $Q(s=0,a=1)$?\n",
    " * Should $Q(s=0,a=1)$ be higher than $Q(s=2,a=0)$?\n",
    " * How does the answer to these questions depend on $\\gamma$?\n",
    " \n",
    "Remember that <font color='darkred'><b>$Q$ measures the return, not the reward</b></font>. Refer to the following graph for the environment when considering those questions:\n",
    "\n",
    "<img alt=\"A schematic that shows the NChain environment. The schematic shows the states, possible actions, and results of taking those actions in the state. The result is a new state and a reward. There are 5 states. The allowed actions from each state are labelled 0 and 1. Action 0 always leads to a reward of 0, except from state 4 where action 0 returns a reward of 10. Action 1 always returns a reward of 2.\" width=\"50%\" src=\"images/2.PNG\"/>"
   ]
  },
  {
   "cell_type": "markdown",
   "metadata": {
    "id": "eOwGFQR3J9pv"
   },
   "source": [
    "<a id='sect6_1'></a>\n",
    "### <font color='darkgreen'>Answers (expand to view)</font>"
   ]
  },
  {
   "cell_type": "markdown",
   "metadata": {
    "id": "8dWCtIplJ45v"
   },
   "source": [
    " * Should $Q(s=0,a=0)$ be higher than $Q(s=0,a=1)$?\n",
    "    *  Yes, because $s=0,a=0$ leads to the big reward, and therefore a higher return. Q-values measure return, not reward.\n",
    " * Should $Q(s=0,a=1)$ be higher than $Q(s=2,a=0)$?\n",
    "   * No, because $(s=0,a=1)$ prevents the agent from reaching the big reward, while $(s=2,a=0)$ brings the agent closer to the big reward. Therefore, $(s=2,a=0)$ leads to a higher return ( Q-value).\n",
    " * How does the answer to these questions depend on $\\gamma$?\n",
    "   * $\\gamma$ determines the increase in Q-value of a state-action pair from later rewards. <b>A higher $\\gamma$ increases the propagation of rewards to Q-values of preceding state-action pairs</b>. Hence, the previous two answers hold for a high $\\gamma$ but not for a low $\\gamma$."
   ]
  },
  {
   "cell_type": "markdown",
   "metadata": {
    "id": "K3aJ2DYDKB7m"
   },
   "source": [
    "<a id='sect6_2'></a>\n",
    "### <font color='darkgreen'>Run Training</font>"
   ]
  },
  {
   "cell_type": "markdown",
   "metadata": {
    "id": "6EE-fC-RJ72O"
   },
   "source": [
    "Run the following cell to calculate Q-values over multiple episodes. Adjust `learning_rate`, `discount_factor`, and `episodes` to return Q-values that match your expectations. For the solution, expand the following section."
   ]
  },
  {
   "cell_type": "code",
   "execution_count": 31,
   "metadata": {
    "id": "syPD6XkzIrgm"
   },
   "outputs": [
    {
     "name": "stdout",
     "output_type": "stream",
     "text": [
      "[[ 6.47  7.79]\n",
      " [ 6.39  7.76]\n",
      " [ 6.8   7.64]\n",
      " [ 9.88  8.16]\n",
      " [17.31  9.68]]\n"
     ]
    }
   ],
   "source": [
    "discount_factor = 0.8   #@param\n",
    "learning_rate = 0.01   #@param\n",
    "episodes = 10   #@param\n",
    "\n",
    "q_table = train_agent(env, episodes, learning_rate, discount_factor)\n",
    "print(q_table)"
   ]
  },
  {
   "cell_type": "markdown",
   "metadata": {
    "id": "7rImBJgsaIyj"
   },
   "source": [
    "<a id='sect6_3'></a>\n",
    "### <font color='darkgreen'>Solution</font>"
   ]
  },
  {
   "cell_type": "markdown",
   "metadata": {
    "id": "KE2mb7OyaObC"
   },
   "source": [
    "Run the following code to solve the environment. The rewards table shows that the best action is always 0. See discussion in the following cell."
   ]
  },
  {
   "cell_type": "code",
   "execution_count": 32,
   "metadata": {
    "id": "PJb6l0UsFnGx"
   },
   "outputs": [
    {
     "name": "stdout",
     "output_type": "stream",
     "text": [
      "[[50.93 50.49]\n",
      " [53.85 51.08]\n",
      " [58.28 52.16]\n",
      " [63.06 53.63]\n",
      " [71.99 56.79]]\n"
     ]
    }
   ],
   "source": [
    "discount_factor = 0.95   #@param\n",
    "learning_rate = 0.1    #@param\n",
    "episodes = 10   #@param\n",
    "\n",
    "q_table = train_agent(env, episodes, learning_rate, discount_factor)\n",
    "print(q_table)"
   ]
  },
  {
   "cell_type": "markdown",
   "metadata": {
    "id": "-Pv4q3lk7yxy"
   },
   "source": [
    "The solution above uses `learning_rate = 0.1`. In RL in general, `0.1` is a high value for `learning_rate`. RL agents typically learn environments using a much lower value of `learning_rate`. However, your agent can learn `NChain` using a high value of `learning_rate` because `NChain` is a very simple environment.\n",
    "\n",
    "In fact, your agent can learn `NChain` in one episode using a learning rate of `0.5`. Try it."
   ]
  },
  {
   "cell_type": "markdown",
   "metadata": {
    "id": "CtdeOo75AU9m"
   },
   "source": [
    "<a id='sect7'></a>\n",
    "## <font color='darkblue'>Test Your Trained Agent</font> ([back](#sect0))"
   ]
  },
  {
   "cell_type": "markdown",
   "metadata": {
    "id": "CnA5cCm3AWVG"
   },
   "source": [
    "You've completed the hard work of training your agent. <b>Now let's compare your trained agent to an agent choosing random actions.</b> Your trained agent can maximize reward from every state transition by following <b>a policy that always chooses the action with the highest Q-value. Such a policy is called a <font color='darkblue'>greedy policy</font></b>.\n",
    "\n",
    "Define a function that runs your agent by following either a random policy or a greedy policy:"
   ]
  },
  {
   "cell_type": "code",
   "execution_count": 33,
   "metadata": {
    "id": "rqZcFH5sA7Pv"
   },
   "outputs": [],
   "source": [
    "def run_episode(env, q_table, policy_flag):\n",
    "    state = env.reset()\n",
    "    done = False\n",
    "    episode_return = 0\n",
    "    while(not done):\n",
    "        if(policy_flag=='random'):\n",
    "            action = env.action_space.sample()\n",
    "        elif(policy_flag=='greedy'):\n",
    "            action = np.argmax(q_table[state,:])\n",
    "        else:\n",
    "            raise Exception(\"Error: Policy flag must be 'random' or 'greedy'.\")\n",
    "        state_new, reward, done, _ = env.step(action)\n",
    "        episode_return += reward\n",
    "        state = state_new\n",
    "    return(episode_return)\n",
    "\n",
    "def run_agent(env, episodes, q_table, policy_flag):\n",
    "    reward_avg = 0.0\n",
    "    for episode in range(episodes):\n",
    "        reward_avg += run_episode(env, q_table, policy_flag)\n",
    "    return(reward_avg/episodes)"
   ]
  },
  {
   "cell_type": "markdown",
   "metadata": {
    "id": "xLxcCPIAC2-T"
   },
   "source": [
    "Compare the average reward found by random and greedy agents over 10 episodes."
   ]
  },
  {
   "cell_type": "code",
   "execution_count": 34,
   "metadata": {
    "id": "Tl5FS8clCu7b"
   },
   "outputs": [
    {
     "name": "stdout",
     "output_type": "stream",
     "text": [
      "Average returns over 10 episodes by -\n",
      "Trained agent: 3572.6\n",
      "Random agent: 1328.6\n"
     ]
    }
   ],
   "source": [
    "episodes = 10\n",
    "print(\"Average returns over \" + str(episodes) + \" episodes by -\")\n",
    "print(\"Trained agent: \" + \\\n",
    "     str(run_agent(env, episodes, q_table, 'greedy')))\n",
    "print(\"Random agent: \" + \\\n",
    "     str(run_agent(env, episodes, q_table, 'random')))"
   ]
  },
  {
   "cell_type": "markdown",
   "metadata": {
    "id": "ifPyEZvhFIdf"
   },
   "source": [
    "<b>The trained agent is superior to the random agent.</b>"
   ]
  },
  {
   "cell_type": "markdown",
   "metadata": {
    "id": "xcdqtOz2esPD"
   },
   "source": [
    "<a id='sect8'></a>\n",
    "## <font color='darkblue'>Contrasting RL with Supervised Learning</font> ([back](#sect0))"
   ]
  },
  {
   "cell_type": "markdown",
   "metadata": {
    "id": "QAg3odJzev4C"
   },
   "source": [
    "You might notice that the equations for gradient descent and the Bellman equation look similar. The equation for gradient descent is:\n",
    "$$a_{n+1} = a_n - \\gamma \\nabla F(a_n)$$\n",
    "\n",
    "The difference is in the gradient calculation. In <b><a href='https://en.wikipedia.org/wiki/Supervised_learning'>supervised learning</a></b>, the loss is the gradient of the loss function, which is the delta between the predicted and actual values. In RL, the loss is the gradient of the delta between the newly estimated return and the old estimate of the return."
   ]
  },
  {
   "cell_type": "markdown",
   "metadata": {
    "id": "4lXbMW2IaMCh"
   },
   "source": [
    "<a id='sect9'></a>\n",
    "## <font color='darkblue'>Conclusion and Next Steps</font>  ([back](#sect0))"
   ]
  },
  {
   "cell_type": "markdown",
   "metadata": {
    "id": "DvrSb62jAzvx"
   },
   "source": [
    "You learned how to solve a simple environment using Q-learning. In the next Colab, you'll learn how to solve a more complex environment using Q-learning.\n",
    "\n",
    "Move onto the next Colab: [Tabular Q-Learning](https://colab.research.google.com/drive/1sX2kO_RA1DckhCwX25OqjUVBATmOLgs2#forceEdit=true&sandboxMode=true?utm_source=ss-reinforcement-learning&utm_campaign=colab-external&utm_medium=referral&utm_content=rl-tabular-q-learning).\n",
    "\n",
    "For reference, the sequence of course Colabs is as follows:\n",
    "\n",
    "1. [Problem Framing in Reinforcement Learning](https://colab.research.google.com/drive/1sUYro4ZyiHuuKfy6KXFSdWjNlb98ZROd#forceEdit=true&sandboxMode=true?utm_source=ss-reinforcement-learning&utm_campaign=colab-external&utm_medium=referral&utm_content=rl-problem-framing)\n",
    "1. [Q-learning Framework](https://colab.research.google.com/drive/1ZPsEEu30SH1BUqUSxNsz0xeXL2Aalqfa#forceEdit=true&sandboxMode=true?utm_source=ss-reinforcement-learning&utm_campaign=colab-external&utm_medium=referral&utm_content=rl-q-learning)\n",
    "1. [Tabular Q-Learning](https://colab.research.google.com/drive/1sX2kO_RA1DckhCwX25OqjUVBATmOLgs2#forceEdit=true&sandboxMode=true?utm_source=ss-reinforcement-learning&utm_campaign=colab-external&utm_medium=referral&utm_content=rl-tabular-q-learning)\n",
    "1. [Deep Q-Learning](https://colab.research.google.com/drive/1XnFxIE882ptpO83mcAz7Zg8PxijJOsUs#forceEdit=true&sandboxMode=true?utm_source=ss-reinforcement-learning&utm_campaign=colab-external&utm_medium=referral&utm_content=rl-deep-q-learning)\n",
    "1. [Experience Replay and Target Networks](https://colab.research.google.com/drive/1DEv8FSjMvsgCDPlOGQrUFoJeAf67cFSo#forceEdit=true&sandboxMode=true?utm_source=ss-reinforcement-learning&utm_campaign=colab-external&utm_medium=referral&utm_content=rl-experience-replay-and-target-networks)"
   ]
  }
 ],
 "metadata": {
  "accelerator": "GPU",
  "colab": {
   "collapsed_sections": [
    "9EjQt_o9Xf_L",
    "RoJTCqpHVa6b",
    "STBKyPI0RRes",
    "eOwGFQR3J9pv",
    "7rImBJgsaIyj"
   ],
   "name": "rl-q-learning.ipynb",
   "provenance": []
  },
  "kernelspec": {
   "display_name": "Python 3 (ipykernel)",
   "language": "python",
   "name": "python3"
  },
  "language_info": {
   "codemirror_mode": {
    "name": "ipython",
    "version": 3
   },
   "file_extension": ".py",
   "mimetype": "text/x-python",
   "name": "python",
   "nbconvert_exporter": "python",
   "pygments_lexer": "ipython3",
   "version": "3.8.10"
  }
 },
 "nbformat": 4,
 "nbformat_minor": 1
}
