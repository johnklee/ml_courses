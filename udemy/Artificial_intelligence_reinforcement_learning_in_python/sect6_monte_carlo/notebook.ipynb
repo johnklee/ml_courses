{
 "cells": [
  {
   "cell_type": "markdown",
   "id": "0a92dd73",
   "metadata": {},
   "source": [
    "## <font color='darkblue'>Monte Carlo Intro</font>\n",
    "([course link](https://www.udemy.com/course/artificial-intelligence-reinforcement-learning-in-python/learn/lecture/6430544#overview))"
   ]
  },
  {
   "cell_type": "markdown",
   "id": "c073fb98",
   "metadata": {},
   "source": [
    "## <font color='darkblue'>Monte Carlo Policy Evaluation</font>\n",
    "([course link](https://www.udemy.com/course/artificial-intelligence-reinforcement-learning-in-python/learn/lecture/6430638#overview))"
   ]
  },
  {
   "cell_type": "markdown",
   "id": "1b72c12c",
   "metadata": {},
   "source": [
    "## <font color='darkblue'>Monte Carlo Policy Evaluation In Code</font>\n",
    "([course link](https://www.udemy.com/course/artificial-intelligence-reinforcement-learning-in-python/learn/lecture/6430642#overview))"
   ]
  },
  {
   "cell_type": "code",
   "execution_count": 1,
   "id": "71c8f183",
   "metadata": {},
   "outputs": [
    {
     "name": "stdout",
     "output_type": "stream",
     "text": [
      "rewards:\n",
      "---------------------------\n",
      " 0.00| 0.00| 0.00| 1.00|\n",
      "---------------------------\n",
      " 0.00| 0.00| 0.00|-1.00|\n",
      "---------------------------\n",
      " 0.00| 0.00| 0.00| 0.00|\n",
      "V: {GridState(i=0, j=3): 0, GridState(i=1, j=3): 0, GridState(i=2, j=3): -1.0, GridState(i=0, j=2): 1.0, GridState(i=0, j=1): 0.8999999999999999, GridState(i=0, j=0): 0.81, GridState(i=1, j=0): 0.7289999999999999, GridState(i=2, j=2): -0.8999999999999997, GridState(i=2, j=1): -0.8100000000000003, GridState(i=2, j=0): 0.6561000000000002, GridState(i=1, j=2): -1.0}\n",
      "values:\n",
      "---------------------------\n",
      " 0.81| 0.90| 1.00| 0.00|\n",
      "---------------------------\n",
      " 0.73| 0.00|-1.00| 0.00|\n",
      "---------------------------\n",
      " 0.66|-0.81|-0.90|-1.00|\n",
      "policy:\n",
      "---------------------------\n",
      "  R  |  R  |  R  |     |\n",
      "---------------------------\n",
      "  U  |     |  R  |     |\n",
      "---------------------------\n",
      "  U  |  R  |  R  |  U  |\n"
     ]
    }
   ],
   "source": [
    "%run -i 'monte_carlo.py'"
   ]
  },
  {
   "cell_type": "markdown",
   "id": "813250ec",
   "metadata": {},
   "source": [
    "## <font color='darkblue'>Monte Carlo Control</font>\n",
    "([course link](https://www.udemy.com/course/artificial-intelligence-reinforcement-learning-in-python/learn/lecture/6430726#overview))"
   ]
  },
  {
   "cell_type": "markdown",
   "id": "d63aa6e6",
   "metadata": {},
   "source": [
    "## <font color='darkblue'>Monte Carlo Control In Code</font>\n",
    "([course link](https://www.udemy.com/course/artificial-intelligence-reinforcement-learning-in-python/learn/lecture/6430728#overview))"
   ]
  },
  {
   "cell_type": "markdown",
   "id": "1a34d96b",
   "metadata": {},
   "source": [
    "## <font color='darkblue'>Monte Carlo Control Without Exploring Start</font>\n",
    "([course link](https://www.udemy.com/course/artificial-intelligence-reinforcement-learning-in-python/learn/lecture/6430732#overview))"
   ]
  },
  {
   "cell_type": "markdown",
   "id": "065cbe54",
   "metadata": {},
   "source": [
    "## <font color='darkblue'>Monte Carlo Control without Exploring Start In Code</font>\n",
    "([course link](https://www.udemy.com/course/artificial-intelligence-reinforcement-learning-in-python/learn/lecture/6430734#overview))"
   ]
  },
  {
   "cell_type": "markdown",
   "id": "92174bbd",
   "metadata": {},
   "source": [
    "## <font color='darkblue'>Monte Carlo Summary</font>\n",
    "([course link](https://www.udemy.com/course/artificial-intelligence-reinforcement-learning-in-python/learn/lecture/6430736#overview))\n",
    "* How policy iteration/value iteration ideas are applied\n",
    "* Why we use $Q(s,a)$ instead of $V(s)$\n",
    "* The need for exploration / epsilon-greedy"
   ]
  }
 ],
 "metadata": {
  "kernelspec": {
   "display_name": "Python 3 (ipykernel)",
   "language": "python",
   "name": "python3"
  },
  "language_info": {
   "codemirror_mode": {
    "name": "ipython",
    "version": 3
   },
   "file_extension": ".py",
   "mimetype": "text/x-python",
   "name": "python",
   "nbconvert_exporter": "python",
   "pygments_lexer": "ipython3",
   "version": "3.10.9"
  }
 },
 "nbformat": 4,
 "nbformat_minor": 5
}
