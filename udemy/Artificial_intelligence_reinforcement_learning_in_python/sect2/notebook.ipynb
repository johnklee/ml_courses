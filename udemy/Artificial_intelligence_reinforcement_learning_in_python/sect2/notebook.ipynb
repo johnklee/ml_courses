{
 "cells": [
  {
   "cell_type": "markdown",
   "id": "38ad24f1",
   "metadata": {},
   "source": [
    "## <font color='darkblue'>Preface</font>\n",
    "* [Section Introduction: The Explore-Exploit Dilemma](https://www.udemy.com/course/artificial-intelligence-reinforcement-learning-in-python/learn/lecture/18855662#overview)"
   ]
  }
 ],
 "metadata": {
  "kernelspec": {
   "display_name": "Python 3 (ipykernel)",
   "language": "python",
   "name": "python3"
  },
  "language_info": {
   "codemirror_mode": {
    "name": "ipython",
    "version": 3
   },
   "file_extension": ".py",
   "mimetype": "text/x-python",
   "name": "python",
   "nbconvert_exporter": "python",
   "pygments_lexer": "ipython3",
   "version": "3.10.9"
  }
 },
 "nbformat": 4,
 "nbformat_minor": 5
}
