{
 "cells": [
  {
   "cell_type": "markdown",
   "id": "18c70ebf",
   "metadata": {},
   "source": [
    "## <font color='darkblue'>Stock Trading Project Section Introduction</font>\n",
    "([course link](https://www.udemy.com/course/artificial-intelligence-reinforcement-learning-in-python/learn/lecture/16164975#overview))"
   ]
  },
  {
   "cell_type": "markdown",
   "id": "f5c04d29",
   "metadata": {},
   "source": [
    "## <font color='darkblue'>Data and Envrionment</font>\n",
    "([course link](https://www.udemy.com/course/artificial-intelligence-reinforcement-learning-in-python/learn/lecture/16164981#overview))"
   ]
  },
  {
   "cell_type": "markdown",
   "id": "637bd344",
   "metadata": {},
   "source": [
    "## <font color='darkblue'>How to Model Q for Q-Learning</font>\n",
    "([course link](https://www.udemy.com/course/artificial-intelligence-reinforcement-learning-in-python/learn/lecture/16164983#overview))"
   ]
  },
  {
   "cell_type": "markdown",
   "id": "6f1d359b",
   "metadata": {},
   "source": [
    "## <font color='darkblue'>Design of the Program</font>\n",
    "([course link](https://www.udemy.com/course/artificial-intelligence-reinforcement-learning-in-python/learn/lecture/16164987#overview))"
   ]
  }
 ],
 "metadata": {
  "kernelspec": {
   "display_name": "Python 3 (ipykernel)",
   "language": "python",
   "name": "python3"
  },
  "language_info": {
   "codemirror_mode": {
    "name": "ipython",
    "version": 3
   },
   "file_extension": ".py",
   "mimetype": "text/x-python",
   "name": "python",
   "nbconvert_exporter": "python",
   "pygments_lexer": "ipython3",
   "version": "3.10.9"
  }
 },
 "nbformat": 4,
 "nbformat_minor": 5
}
