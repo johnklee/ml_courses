{
 "cells": [
  {
   "cell_type": "markdown",
   "id": "5de657a9",
   "metadata": {},
   "source": [
    "## <font color='darkblue'>Dynamical Programming Section Introduction</font>\n",
    "([course link](https://www.udemy.com/course/artificial-intelligence-reinforcement-learning-in-python/learn/lecture/25845624#overview))"
   ]
  },
  {
   "cell_type": "markdown",
   "id": "60272a71",
   "metadata": {},
   "source": [
    "## <font color='darkblue'>Iterative Policy Evaluation</font>\n",
    "([course link](https://www.udemy.com/course/artificial-intelligence-reinforcement-learning-in-python/learn/lecture/25845626#announcements))"
   ]
  },
  {
   "cell_type": "markdown",
   "id": "d783e22b",
   "metadata": {},
   "source": [
    "## <font color='darkblue'>Designing Your RL Program</font>\n",
    "([course link](https://www.udemy.com/course/artificial-intelligence-reinforcement-learning-in-python/learn/lecture/13455922#announcements))"
   ]
  },
  {
   "cell_type": "markdown",
   "id": "123b2e49",
   "metadata": {},
   "source": [
    "## <font color='darkblue'>Gridworld in Code</font>\n",
    "([course link](https://www.udemy.com/course/artificial-intelligence-reinforcement-learning-in-python/learn/lecture/6417712#announcements))"
   ]
  },
  {
   "cell_type": "code",
   "execution_count": 1,
   "id": "5dbd3728",
   "metadata": {},
   "outputs": [],
   "source": [
    "import grid_world"
   ]
  },
  {
   "cell_type": "code",
   "execution_count": 24,
   "id": "2ed883b4",
   "metadata": {},
   "outputs": [],
   "source": [
    "gw = grid_world.standard_grid()"
   ]
  },
  {
   "cell_type": "code",
   "execution_count": 25,
   "id": "2e14312f",
   "metadata": {},
   "outputs": [
    {
     "data": {
      "text/plain": [
       "GridState(i=2, j=0)"
      ]
     },
     "execution_count": 25,
     "metadata": {},
     "output_type": "execute_result"
    }
   ],
   "source": [
    "# Return the current state\n",
    "gw.current_state"
   ]
  },
  {
   "cell_type": "code",
   "execution_count": 29,
   "id": "86ac0f4b",
   "metadata": {},
   "outputs": [
    {
     "data": {
      "text/plain": [
       "0"
      ]
     },
     "execution_count": 29,
     "metadata": {},
     "output_type": "execute_result"
    }
   ],
   "source": [
    "gw.move('U')"
   ]
  },
  {
   "cell_type": "code",
   "execution_count": 30,
   "id": "ae7a341e",
   "metadata": {},
   "outputs": [
    {
     "data": {
      "text/plain": [
       "GridState(i=0, j=0)"
      ]
     },
     "execution_count": 30,
     "metadata": {},
     "output_type": "execute_result"
    }
   ],
   "source": [
    "gw.state"
   ]
  },
  {
   "cell_type": "code",
   "execution_count": 28,
   "id": "b918045e",
   "metadata": {},
   "outputs": [
    {
     "data": {
      "text/plain": [
       "False"
      ]
     },
     "execution_count": 28,
     "metadata": {},
     "output_type": "execute_result"
    }
   ],
   "source": [
    "# Return True if it is in terminal state\n",
    "gw.game_over()"
   ]
  },
  {
   "cell_type": "code",
   "execution_count": 31,
   "id": "7dd8faa9",
   "metadata": {},
   "outputs": [
    {
     "data": {
      "text/plain": [
       "{GridState(i=0, j=0),\n",
       " GridState(i=0, j=1),\n",
       " GridState(i=0, j=2),\n",
       " GridState(i=0, j=3),\n",
       " GridState(i=1, j=0),\n",
       " GridState(i=1, j=2),\n",
       " GridState(i=1, j=3),\n",
       " GridState(i=2, j=0),\n",
       " GridState(i=2, j=1),\n",
       " GridState(i=2, j=2),\n",
       " GridState(i=2, j=3)}"
      ]
     },
     "execution_count": 31,
     "metadata": {},
     "output_type": "execute_result"
    }
   ],
   "source": [
    "gw.all_states()"
   ]
  },
  {
   "cell_type": "markdown",
   "id": "f15b8fcd",
   "metadata": {},
   "source": [
    "## <font color='darkblue'>Iterative Policy Evaluation in Code</font>\n",
    "([course link](https://www.udemy.com/course/artificial-intelligence-reinforcement-learning-in-python/learn/lecture/6417714#announcements))\n",
    "* [`iterative_policy_evaluation_deterministic.py`](https://github.com/lazyprogrammer/machine_learning_examples/blob/master/rl/iterative_policy_evaluation_deterministic.py)"
   ]
  },
  {
   "cell_type": "markdown",
   "id": "c9368eca",
   "metadata": {},
   "source": [
    "## <font color='darkblue'>Windy Gridworld in Code</font>\n",
    "([course link](https://www.udemy.com/course/artificial-intelligence-reinforcement-learning-in-python/learn/lecture/20274920#announcements))\n",
    "* [`iterative_policy_evaluation_probabilistic.py`](https://github.com/lazyprogrammer/machine_learning_examples/blob/master/rl/iterative_policy_evaluation_probabilistic.py)"
   ]
  },
  {
   "cell_type": "markdown",
   "id": "7e0ff1b7",
   "metadata": {},
   "source": [
    "## <font color='darkblue'>Policy Improvement</font>\n",
    "([course link](https://www.udemy.com/course/artificial-intelligence-reinforcement-learning-in-python/learn/lecture/6417718#announcements))"
   ]
  },
  {
   "cell_type": "markdown",
   "id": "e304b786",
   "metadata": {},
   "source": [
    "## <font color='darkblue'>Policy Iteration</font>\n",
    "([course link](https://www.udemy.com/course/artificial-intelligence-reinforcement-learning-in-python/learn/lecture/6417720#announcements))"
   ]
  },
  {
   "cell_type": "markdown",
   "id": "d2815cda",
   "metadata": {},
   "source": [
    "## <font color='darkblue'>Policy Iteration in code</font>\n",
    "([course link](https://www.udemy.com/course/artificial-intelligence-reinforcement-learning-in-python/learn/lecture/6417722#announcements))\n",
    "* **Step 0**) Find transition probs and rewards table\n",
    "  * **Step 1**) Policy evaluation (we already know how to do this)\n",
    "  * **Step 2**) Policy improvement - quit when policy doesn't change."
   ]
  },
  {
   "cell_type": "markdown",
   "id": "6a4a6454",
   "metadata": {},
   "source": [
    "## <font color='darkblue'>Policy Interation in Windy Gridworld</font>\n",
    "([course link](https://www.udemy.com/course/artificial-intelligence-reinforcement-learning-in-python/learn/lecture/6417724#announcements))"
   ]
  }
 ],
 "metadata": {
  "kernelspec": {
   "display_name": "Python 3 (ipykernel)",
   "language": "python",
   "name": "python3"
  },
  "language_info": {
   "codemirror_mode": {
    "name": "ipython",
    "version": 3
   },
   "file_extension": ".py",
   "mimetype": "text/x-python",
   "name": "python",
   "nbconvert_exporter": "python",
   "pygments_lexer": "ipython3",
   "version": "3.8.10"
  }
 },
 "nbformat": 4,
 "nbformat_minor": 5
}
