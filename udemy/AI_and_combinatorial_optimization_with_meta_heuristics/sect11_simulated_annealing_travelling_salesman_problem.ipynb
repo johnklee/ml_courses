{
 "cells": [
  {
   "cell_type": "markdown",
   "id": "248f4226",
   "metadata": {},
   "source": [
    "## <font color='darkblue'>What's TSP (Travelling Salesman Problem)</font>\n",
    "([course link](https://www.udemy.com/course/ai-and-combinatorial-optimization-with-meta-heuristics/learn/lecture/30588868#overview))"
   ]
  },
  {
   "cell_type": "markdown",
   "id": "767a2355",
   "metadata": {},
   "source": [
    "## <font color='darkblue'>Simulated Annealing Implementation - TSP</font>\n",
    "([course link1](https://www.udemy.com/course/ai-and-combinatorial-optimization-with-meta-heuristics/learn/lecture/30602252#overview), [course link2](https://www.udemy.com/course/ai-and-combinatorial-optimization-with-meta-heuristics/learn/lecture/30602254#overview), [course link3](https://www.udemy.com/course/ai-and-combinatorial-optimization-with-meta-heuristics/learn/lecture/30602258#overview) and [course link4](https://www.udemy.com/course/ai-and-combinatorial-optimization-with-meta-heuristics/learn/lecture/30618722#overview))"
   ]
  },
  {
   "cell_type": "code",
   "execution_count": 35,
   "id": "b109a3ca",
   "metadata": {},
   "outputs": [],
   "source": [
    "from random import random, shuffle, sample\n",
    "import numpy as np\n",
    "from numpy.random import randint\n",
    "import  matplotlib.pyplot as plt\n",
    "from typing import List, Optional"
   ]
  },
  {
   "cell_type": "code",
   "execution_count": 9,
   "id": "d6376795",
   "metadata": {},
   "outputs": [],
   "source": [
    "class City:\n",
    "  def __init__(self):\n",
    "    self.x = 1000 * random()\n",
    "    self.y = 1000 * random()\n",
    "    \n",
    "  def __str__(self):\n",
    "    return f'({round(self.x, 1)}, {round(self.y, 1)})'\n",
    "  \n",
    "  def __repr__(self):\n",
    "    return self.__str__()"
   ]
  },
  {
   "cell_type": "code",
   "execution_count": 36,
   "id": "6688da93",
   "metadata": {},
   "outputs": [],
   "source": [
    "class SingleTour:\n",
    "  def __init__(self, tour: Optional[List[City]] = None):\n",
    "    self.tour = tour or []\n",
    "      \n",
    "  def set_tour(self, single_tour:SingleTour):\n",
    "    self.tour: list[City] = []\n",
    "    for c in single_tour.tour:\n",
    "      self.tour.append(c)\n",
    "    \n",
    "  def swap(self, index1: int, index2: int):\n",
    "    self.tour[index1], self.tour[index2] = self.tour[index2], self.tour[index1]\n",
    "    \n",
    "  def generate_tour(self, n: int):\n",
    "    for _ in range(n):\n",
    "      self.tour.append(City())\n",
    "      \n",
    "    shuffle(self.tour)\n",
    "    \n",
    "  def get_distance(self):\n",
    "    total_distance = 0\n",
    "    city_count = len(self.tour)\n",
    "    \n",
    "    for i in range(len(self.tour)):\n",
    "      total_distance += self.distance(self.tour[i % city_count], self.tour[(i+1) % city_count])\n",
    "      \n",
    "    return total_distance\n",
    "    \n",
    "  @staticmethod\n",
    "  def distance(city1, city2):\n",
    "    return pow(abs(city1.x-city2.x)**2 + abs(city1.y-city2.y)**2, 0.2)\n",
    "    \n",
    "  def __str__(self):\n",
    "    return ''.join([str(c) for c in self.tour])\n",
    "  \n",
    "  def __repr__(self):\n",
    "    return self.__str__()"
   ]
  },
  {
   "cell_type": "code",
   "execution_count": 106,
   "id": "29203606",
   "metadata": {},
   "outputs": [],
   "source": [
    "class SimulatedAnnealingTSP:\n",
    "  def __init__(self,\n",
    "               num_cities: int,\n",
    "               min_temp: float,\n",
    "               max_temp: float,\n",
    "               cooling_rate: float = 0.02):\n",
    "    self.num_cities = num_cities\n",
    "    self._min_temp = min_temp\n",
    "    self._max_temp = max_temp\n",
    "    self._cooling_rate = cooling_rate\n",
    "    self.actual_state = SingleTour()\n",
    "    self.next_state = None\n",
    "    self.best_state = SingleTour()\n",
    "    self.best_energy = float('inf')\n",
    "    \n",
    "  def run(self):\n",
    "    self.actual_state.generate_tour(self.num_cities)\n",
    "    actual_energy = self.actual_state.get_distance()\n",
    "    print(f'Initial tour distance: {actual_energy:.02f}')\n",
    "    temp = self._max_temp    \n",
    "    while temp > self._min_temp:\n",
    "      new_state = self.generate_random_state()\n",
    "      new_energy = new_state.get_distance()\n",
    "\n",
    "      if random() < self.accept_bad_move_prob(new_energy, actual_energy, temp):\n",
    "        self.actual_state.set_tour(new_state)\n",
    "        actual_energy = self.actual_state.get_distance()\n",
    "    \n",
    "      if new_energy < self.best_energy:        \n",
    "        self.best_state = SingleTour(new_state.tour)\n",
    "        self.best_energy = new_energy\n",
    "        \n",
    "      # Decrease the temperature\n",
    "      temp = temp * (1 - self._cooling_rate)\n",
    "    \n",
    "    print(f'Final best tour distance: {self.best_state.get_distance():.02f}')\n",
    "    final_tour = self.best_state.tour + [self.best_state.tour[0]]\n",
    "    x_list = list(map(lambda t: t.x, final_tour))\n",
    "    y_list = list(map(lambda t: t.y, final_tour))\n",
    "    plt.scatter(x_list, y_list)\n",
    "    plt.plot(x_list, y_list)\n",
    "      \n",
    "  def accept_bad_move_prob(self, new_energy, actual_energy, temp):\n",
    "    if new_energy < actual_energy:\n",
    "      return 1\n",
    "    \n",
    "    return np.exp((actual_energy - new_energy) / temp)\n",
    "    \n",
    "  def generate_random_state(self):\n",
    "    new_tour = SingleTour(self.actual_state.tour)\n",
    "    new_tour.swap(*sample(range(len(new_tour.tour)), 2))\n",
    "    return new_tour"
   ]
  },
  {
   "cell_type": "code",
   "execution_count": 120,
   "id": "de2f971a",
   "metadata": {},
   "outputs": [
    {
     "name": "stdout",
     "output_type": "stream",
     "text": [
      "Initial tour distance: 162.20\n",
      "Final best tour distance: 108.33\n",
      "CPU times: user 1.08 s, sys: 6.61 ms, total: 1.09 s\n",
      "Wall time: 1.08 s\n"
     ]
    },
    {
     "data": {
      "image/png": "[encoded data removed]",
      "text/plain": [
       "<Figure size 432x288 with 1 Axes>"
      ]
     },
     "metadata": {
      "needs_background": "light"
     },
     "output_type": "display_data"
    }
   ],
   "source": [
    "%%time\n",
    "sa_tsp = SimulatedAnnealingTSP(11, min_temp=1, max_temp=200, cooling_rate=0.0001)\n",
    "sa_tsp.run()"
   ]
  }
 ],
 "metadata": {
  "kernelspec": {
   "display_name": "Python 3 (ipykernel)",
   "language": "python",
   "name": "python3"
  },
  "language_info": {
   "codemirror_mode": {
    "name": "ipython",
    "version": 3
   },
   "file_extension": ".py",
   "mimetype": "text/x-python",
   "name": "python",
   "nbconvert_exporter": "python",
   "pygments_lexer": "ipython3",
   "version": "3.8.10"
  }
 },
 "nbformat": 4,
 "nbformat_minor": 5
}
