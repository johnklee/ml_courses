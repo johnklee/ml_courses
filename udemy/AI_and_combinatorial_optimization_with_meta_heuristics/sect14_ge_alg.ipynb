{
 "cells": [
  {
   "cell_type": "markdown",
   "id": "007aeb30",
   "metadata": {},
   "source": [
    "## <font color='darkblue'>GE Imp (1)</font>\n",
    "([course link](https://www.udemy.com/course/ai-and-combinatorial-optimization-with-meta-heuristics/learn/lecture/30477164?start=0#overview))"
   ]
  },
  {
   "cell_type": "code",
   "execution_count": 44,
   "id": "2bb4e31f",
   "metadata": {},
   "outputs": [],
   "source": [
    "from random import uniform\n",
    "from numpy.random import randint\n",
    "from typing import List\n",
    "\n",
    "SOLUTION_SEQUENCE = list(range(10))\n",
    "TOURNAMENT_SIZE = 20\n",
    "MAX_FITNESS = 10\n",
    "CHROMOSOME_LENGTH = 10\n",
    "\n",
    "# Chromosome\n",
    "class Individual:\n",
    "  \"\"\"Representation of the problem.\"\"\"\n",
    "  \n",
    "  def __init__(self):\n",
    "    self.genes = [\n",
    "      randint(CHROMOSOME_LENGTH) for _ in range(CHROMOSOME_LENGTH)\n",
    "    ]\n",
    "    \n",
    "  def get_fitness(self):\n",
    "    \"\"\"Calculates the fitness values of these chromosomes\"\"\"\n",
    "    fitness = sum(\n",
    "      map(\n",
    "        lambda i: self.genes[i] == SOLUTION_SEQUENCE[i],\n",
    "        range(CHROMOSOME_LENGTH),\n",
    "      ))        \n",
    "    return fitness\n",
    "  \n",
    "  def __repr__(self):\n",
    "    return ''.join(map(str, self.genes))"
   ]
  },
  {
   "cell_type": "markdown",
   "id": "551f43d1",
   "metadata": {},
   "source": [
    "## <font color='darkblue'>GE Imp (2)</font>\n",
    "([course link](https://www.udemy.com/course/ai-and-combinatorial-optimization-with-meta-heuristics/learn/lecture/30477166#overview))"
   ]
  },
  {
   "cell_type": "code",
   "execution_count": 2,
   "id": "858cf696",
   "metadata": {},
   "outputs": [
    {
     "name": "stdout",
     "output_type": "stream",
     "text": [
      "six\n"
     ]
    }
   ],
   "source": [
    "values = [\n",
    "  (3, 'three'),\n",
    "  (6, 'six'),\n",
    "  (1, 'one'),\n",
    "  (5, 'five')\n",
    "]\n",
    "index_min = max(values, key=lambda t: t[0])[1]\n",
    "print(index_min)"
   ]
  },
  {
   "cell_type": "code",
   "execution_count": 72,
   "id": "c7a7ea27",
   "metadata": {},
   "outputs": [],
   "source": [
    "class Population:\n",
    "  \n",
    "  def __init__(self, population_size):\n",
    "    self._population_size = population_size\n",
    "    self._individuals = (\n",
    "      [Individual() for _ in range(self._population_size)])\n",
    "\n",
    "  def iter_individuals(self):\n",
    "    for i in self._individuals:\n",
    "      yield i\n",
    "    \n",
    "  def get_fittest(self):\n",
    "    return max(\n",
    "      map(lambda i: (i, i.get_fitness()), self._individuals),\n",
    "      key=lambda t: t[1])[0]\n",
    "  \n",
    "  def get_fittest_elitism(self, n: int) -> List[Individual]:\n",
    "    self._individuals.sort(\n",
    "      key=lambda ind: ind.get_fitness(), reverse=True)\n",
    "    return self._individuals[:n]\n",
    "  \n",
    "  def get_size(self):\n",
    "    return self._population_size\n",
    "  \n",
    "  def get_individual(self, index: int):\n",
    "    return self._individuals[index]\n",
    "  \n",
    "  def save_individual(self, index: int, individual: Individual):\n",
    "    self._individuals[index] = individual"
   ]
  },
  {
   "cell_type": "markdown",
   "id": "05e250b6",
   "metadata": {},
   "source": [
    "## <font color='darkblue'>GE Imp (3)</font>\n",
    "([course link](https://www.udemy.com/course/ai-and-combinatorial-optimization-with-meta-heuristics/learn/lecture/30477168#overview))"
   ]
  },
  {
   "cell_type": "code",
   "execution_count": 68,
   "id": "34e8299b",
   "metadata": {},
   "outputs": [],
   "source": [
    "class GeneticAlgorithm:\n",
    "  def __init__(\n",
    "    self, population_size: int=100, crossover_rate: float=0.65,\n",
    "    mutation_rate: float=0.1):\n",
    "    self._population_size = population_size\n",
    "    self._crossover_rate = crossover_rate\n",
    "    self._mutation_rate = mutation_rate\n",
    "    \n",
    "  def run(self):\n",
    "    pop = Population(self._population_size)\n",
    "    generation_counter = 0\n",
    "    \n",
    "    while pop.get_fittest().get_fitness() != MAX_FITNESS:\n",
    "      generation_counter += 1\n",
    "      print(\n",
    "        f'Generation #{generation_counter} - '\n",
    "        f'fittest is : {pop.get_fittest()} '\n",
    "        f'with fitness value {pop.get_fittest().get_fitness()}')\n",
    "      \n",
    "      pop = self.evolve_population(pop)\n",
    "      \n",
    "    print('Solution found!')\n",
    "    print(pop.get_fittest())\n",
    "    \n",
    "  def crossover(self, indv1, indv2):\n",
    "    cross_individual = Individual()\n",
    "    start = randint(CHROMOSOME_LENGTH)\n",
    "    end = randint(start, CHROMOSOME_LENGTH)\n",
    "    \n",
    "    cross_individual.genes = (\n",
    "      indv1.genes[:start] + indv2.genes[start:end] + indv1.genes[end:])\n",
    "    return cross_individual\n",
    "    \n",
    "  def evolve_population(self, population: Population) -> Population:\n",
    "    \"\"\"Evolves given population\"\"\"\n",
    "    next_population = Population(self._population_size)\n",
    "    \n",
    "    # Crossover (Tournament selection)\n",
    "    for i in range(next_population.get_size()):\n",
    "      first = self.random_selection(population)\n",
    "      second = self.random_selection(population)\n",
    "      next_population.save_individual(i, self.crossover(first, second))\n",
    "      \n",
    "    # Mutation\n",
    "    for individual in next_population.iter_individuals():\n",
    "      self.mutate(individual)\n",
    "      \n",
    "    return next_population\n",
    "  \n",
    "  def mutate(self, individual):\n",
    "    for index in range(CHROMOSOME_LENGTH):\n",
    "      if uniform(0, 1) < self._mutation_rate:\n",
    "        individual.genes[index] = randint(CHROMOSOME_LENGTH)\n",
    "  \n",
    "  def random_selection(self, actual_population) -> Individual:\n",
    "    \"\"\"Does tournament selection.\"\"\"\n",
    "    new_population = Population(TOURNAMENT_SIZE)\n",
    "    \n",
    "    for i in range(TOURNAMENT_SIZE):\n",
    "      random_index = randint(actual_population.get_size())\n",
    "      new_population.save_individual(\n",
    "        i, actual_population.get_individual(random_index))\n",
    "      \n",
    "    return new_population.get_fittest()"
   ]
  },
  {
   "cell_type": "markdown",
   "id": "e40746a2",
   "metadata": {},
   "source": [
    "## <font color='darkblue'>GE Imp (4)</font>\n",
    "([course link](https://www.udemy.com/course/ai-and-combinatorial-optimization-with-meta-heuristics/learn/lecture/30552652#overview))"
   ]
  },
  {
   "cell_type": "code",
   "execution_count": 35,
   "id": "e7d08484",
   "metadata": {},
   "outputs": [],
   "source": [
    "algorithm = GeneticAlgorithm(population_size=50)"
   ]
  },
  {
   "cell_type": "code",
   "execution_count": 36,
   "id": "00f0698a",
   "metadata": {},
   "outputs": [
    {
     "name": "stdout",
     "output_type": "stream",
     "text": [
      "Generation #1 - fittest is : 7229559682 with fitness value 3\n",
      "Generation #2 - fittest is : 7113045782 with fitness value 4\n",
      "Generation #3 - fittest is : 3128040789 with fitness value 5\n",
      "Generation #4 - fittest is : 3128050789 with fitness value 6\n",
      "Generation #5 - fittest is : 3128050789 with fitness value 6\n",
      "Generation #6 - fittest is : 6123050789 with fitness value 7\n",
      "Generation #7 - fittest is : 6123050789 with fitness value 7\n",
      "Generation #8 - fittest is : 6123450789 with fitness value 8\n",
      "Generation #9 - fittest is : 6123450789 with fitness value 8\n",
      "Generation #10 - fittest is : 6123450789 with fitness value 8\n",
      "Generation #11 - fittest is : 6123456789 with fitness value 9\n",
      "Generation #12 - fittest is : 6123456789 with fitness value 9\n",
      "Generation #13 - fittest is : 6123456789 with fitness value 9\n",
      "Generation #14 - fittest is : 6123456789 with fitness value 9\n",
      "Generation #15 - fittest is : 3123456789 with fitness value 9\n",
      "Generation #16 - fittest is : 7123456789 with fitness value 9\n",
      "Solution found!\n",
      "0123456789\n"
     ]
    }
   ],
   "source": [
    "algorithm.run()"
   ]
  },
  {
   "cell_type": "markdown",
   "id": "ea335d04",
   "metadata": {},
   "source": [
    "## <font color='darkblue'>GE Imp (Elitism)</font>\n",
    "([course link](https://www.udemy.com/course/ai-and-combinatorial-optimization-with-meta-heuristics/learn/lecture/30552252#overview))"
   ]
  },
  {
   "cell_type": "code",
   "execution_count": 76,
   "id": "985ed122",
   "metadata": {},
   "outputs": [],
   "source": [
    "class GeneticAlgorithmWithElitism:\n",
    "  def __init__(\n",
    "    self, population_size: int=100, crossover_rate: float=0.65,\n",
    "    mutation_rate: float=0.1, elitism_param: int=5):\n",
    "    self._population_size = population_size\n",
    "    self._crossover_rate = crossover_rate\n",
    "    self._mutation_rate = mutation_rate\n",
    "    self._elitism_param = elitism_param\n",
    "    \n",
    "  def run(self):\n",
    "    pop = Population(self._population_size)\n",
    "    generation_counter = 0\n",
    "    \n",
    "    while pop.get_fittest().get_fitness() != MAX_FITNESS:\n",
    "      generation_counter += 1\n",
    "      print(\n",
    "        f'Generation #{generation_counter} - '\n",
    "        f'fittest is : {pop.get_fittest()} '\n",
    "        f'with fitness value {pop.get_fittest().get_fitness()}')\n",
    "      \n",
    "      pop = self.evolve_population(pop)\n",
    "      \n",
    "    print('Solution found!')\n",
    "    print(pop.get_fittest())\n",
    "    \n",
    "  def crossover(self, indv1, indv2):\n",
    "    cross_individual = Individual()\n",
    "    start = randint(CHROMOSOME_LENGTH)\n",
    "    end = randint(start, CHROMOSOME_LENGTH)\n",
    "    \n",
    "    cross_individual.genes = (\n",
    "      indv1.genes[:start] + indv2.genes[start:end] + indv1.genes[end:])\n",
    "    return cross_individual\n",
    "    \n",
    "  def evolve_population(self, population: Population) -> Population:\n",
    "    \"\"\"Evolves given population\"\"\"\n",
    "    next_population = Population(self._population_size)\n",
    "    next_population._individuals.extend(\n",
    "      population.get_fittest_elitism(self._elitism_param))\n",
    "    \n",
    "    # Crossover (Tournament selection)\n",
    "    for i in range(self._elitism_param, next_population.get_size()):\n",
    "      first = self.random_selection(population)\n",
    "      second = self.random_selection(population)\n",
    "      next_population.save_individual(\n",
    "        i, self.crossover(first, second))\n",
    "      \n",
    "    # Mutation\n",
    "    for individual in next_population.iter_individuals():\n",
    "      self.mutate(individual)\n",
    "      \n",
    "    return next_population\n",
    "  \n",
    "  def mutate(self, individual):\n",
    "    for index in range(CHROMOSOME_LENGTH):\n",
    "      if uniform(0, 1) < self._mutation_rate:\n",
    "        individual.genes[index] = randint(CHROMOSOME_LENGTH)\n",
    "  \n",
    "  def random_selection(self, actual_population) -> Individual:\n",
    "    \"\"\"Does tournament selection.\"\"\"\n",
    "    new_population = Population(TOURNAMENT_SIZE)\n",
    "    \n",
    "    for i in range(TOURNAMENT_SIZE):\n",
    "      random_index = randint(actual_population.get_size())\n",
    "      new_population.save_individual(\n",
    "        i, actual_population.get_individual(random_index))\n",
    "      \n",
    "    return new_population.get_fittest()"
   ]
  },
  {
   "cell_type": "code",
   "execution_count": 77,
   "id": "a012e680",
   "metadata": {},
   "outputs": [],
   "source": [
    "algorithm = GeneticAlgorithmWithElitism(population_size=50)"
   ]
  },
  {
   "cell_type": "code",
   "execution_count": 78,
   "id": "ca0aa6cd",
   "metadata": {},
   "outputs": [
    {
     "name": "stdout",
     "output_type": "stream",
     "text": [
      "Generation #1 - fittest is : 5658352689 with fitness value 3\n",
      "Generation #2 - fittest is : 0621476446 with fitness value 4\n",
      "Generation #3 - fittest is : 5620458689 with fitness value 5\n",
      "Generation #4 - fittest is : 9025456889 with fitness value 6\n",
      "Generation #5 - fittest is : 5620456689 with fitness value 6\n",
      "Generation #6 - fittest is : 0220456889 with fitness value 7\n",
      "Generation #7 - fittest is : 9823456889 with fitness value 7\n",
      "Generation #8 - fittest is : 9123456789 with fitness value 9\n",
      "Solution found!\n",
      "0123456789\n"
     ]
    }
   ],
   "source": [
    "algorithm.run()"
   ]
  }
 ],
 "metadata": {
  "kernelspec": {
   "display_name": "Python 3 (ipykernel)",
   "language": "python",
   "name": "python3"
  },
  "language_info": {
   "codemirror_mode": {
    "name": "ipython",
    "version": 3
   },
   "file_extension": ".py",
   "mimetype": "text/x-python",
   "name": "python",
   "nbconvert_exporter": "python",
   "pygments_lexer": "ipython3",
   "version": "3.8.10"
  }
 },
 "nbformat": 4,
 "nbformat_minor": 5
}
