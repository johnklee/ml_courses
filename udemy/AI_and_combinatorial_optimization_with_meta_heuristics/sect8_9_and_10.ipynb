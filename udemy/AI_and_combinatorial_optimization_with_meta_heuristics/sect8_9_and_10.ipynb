{
 "cells": [
  {
   "cell_type": "markdown",
   "id": "d4073b9c",
   "metadata": {},
   "source": [
    "## <font color='darkblue'>What are the meta-heuristic approaches</font>\n",
    "([course link](https://www.udemy.com/course/ai-and-combinatorial-optimization-with-meta-heuristics/learn/lecture/30477144?start=0#overview))\n",
    "* There are several algorithms and **optimization problems** that are NP-hard or **NP-complete**\n",
    "* These problems usually have a **huge search space** - so there are ways to many possible states to consider one by one\n",
    "  * [Travelling Salesman Problem](https://en.wikipedia.org/wiki/Travelling_salesman_problem)\n",
    "  \n",
    "Sol heuristics are problem specific approximate solutions\n",
    "> The term heuristic is used for algorithms which find solutions among all possible ones but they don't guarantee that the best will be found"
   ]
  },
  {
   "cell_type": "markdown",
   "id": "cc02ce71",
   "metadata": {},
   "source": [
    "### <font color='darkgreen'>Meta-Heuristics</font>\n",
    "* The same is true for meta-heuristics as well regarding heuristics\n",
    "* We just want to get a good guess of the solution but we would like to get it fast (similar to heuristics). However, **THEST ALGORITHMS ARE PROBLEM INDEPENDENT !!!** which is different from heuristics.\n",
    "* We know nothing about the underlying problem we want to solve.\n",
    "* Meta-Heuristics Approximate solutions\n",
    "  * Generic Algorithm\n",
    "  * Simulate annealing\n",
    "  * Tabu search\n",
    "  * Swarm optimization"
   ]
  },
  {
   "cell_type": "markdown",
   "id": "91b80aa4",
   "metadata": {},
   "source": [
    "## <font color='darkblue'>Simulated Annealing</font>\n",
    "([course link](https://www.udemy.com/course/ai-and-combinatorial-optimization-with-meta-heuristics/learn/lecture/30460588#overview))\n",
    "* What's the motivation behind [<b><font color='darkblue'>simulated annealing</font></b>](https://en.wikipedia.org/wiki/Simulated_annealing)?\n",
    "* The problem with hill climbing algorithm is that it tends to <b>converge to the local optimum</b> (instead of global optimum)\n",
    "* <b><font color='darkblue'>simulated annealing</font></b> tries to avoid local optimum and finding the global optimum instead\n",
    "* It mimics the **annealing process** to solve an optimization problem.\n",
    "* Lots of applications uses simulated annealing - travelling salesman problem or training neural nets.\n",
    "\n",
    "![wiki image](https://upload.wikimedia.org/wikipedia/commons/d/d5/Hill_Climbing_with_Simulated_Annealing.gif)\n",
    "> Simulated annealing searching for a maximum. The objective here is to get to the highest point. In this example, it is not enough to use a simple hill climb algorithm, as there are many local maxima. By cooling the temperature slowly the global maximum is found."
   ]
  },
  {
   "cell_type": "markdown",
   "id": "5c80e842",
   "metadata": {},
   "source": [
    "### <font color='darkgreen'>Algorithm Implementation</font>\n",
    "([course link1](https://www.udemy.com/course/ai-and-combinatorial-optimization-with-meta-heuristics/learn/lecture/30588226#overview), [link2](https://www.udemy.com/course/ai-and-combinatorial-optimization-with-meta-heuristics/learn/lecture/30588228#overview), [link3](https://www.udemy.com/course/ai-and-combinatorial-optimization-with-meta-heuristics/learn/lecture/30602820#overview))"
   ]
  },
  {
   "cell_type": "code",
   "execution_count": 3,
   "id": "986a32af",
   "metadata": {},
   "outputs": [],
   "source": [
    "# Cost function\n",
    "def f(x: float) -> float:\n",
    "  return (x - 0.3) * (x - 0.3) * (x - 0.3) - 5 * x + x * x - 2"
   ]
  },
  {
   "cell_type": "code",
   "execution_count": 24,
   "id": "e5609120",
   "metadata": {},
   "outputs": [],
   "source": [
    "import random\n",
    "import numpy as np\n",
    "\n",
    "class SimulatedAnnealing:\n",
    "  def __init__(self, \n",
    "              cost_func: callable,\n",
    "              min_coordinate: float, max_coordinate: float,\n",
    "              min_temp: float, max_temp: float,\n",
    "              cooling_rate: float=0.02):\n",
    "    self._cost_func = cost_func\n",
    "    self._min_coordinate = min_coordinate\n",
    "    self._max_coordinate = max_coordinate\n",
    "    self._min_temp = min_temp\n",
    "    self._max_temp = max_temp\n",
    "    self._cooling_rate = cooling_rate\n",
    "    self._actual_state = 0\n",
    "    self._actual_energy = self._cost_func(self._actual_state)\n",
    "    self._next_state = 0\n",
    "    self._best_state = self._actual_state\n",
    "    self._best_energy = self._actual_energy\n",
    "    \n",
    "  def run(self):\n",
    "    temp = self._max_temp\n",
    "    while temp > self._min_temp:\n",
    "      new_state = self.generate_next_state()\n",
    "      new_energy = self._cost_func(new_state)\n",
    "      \n",
    "      if new_energy > self._best_energy:\n",
    "        self._actual_energy = new_energy\n",
    "        self._best_state = self._actual_state = new_state\n",
    "        self._best_energy = new_energy\n",
    "        continue\n",
    "        \n",
    "      if random.random() < self.accept_bad_move_prob(new_energy, self._actual_energy, temp):\n",
    "        self._actual_energy = new_energy\n",
    "        self._actual_state = new_state\n",
    "\n",
    "      # Decrease the temperature\n",
    "      temp = temp * (1 - self._cooling_rate)\n",
    "      \n",
    "      # print(f'Current state={self._actual_state} with energy={self._actual_energy}')\n",
    "      \n",
    "    print(f'Best state={self._best_state} with energy={self._best_energy}')\n",
    "        \n",
    "  def accept_bad_move_prob(self, new_energy, actual_energy, temp):\n",
    "    return np.exp((actual_energy - new_energy) / temp)\n",
    "      \n",
    "  def generate_next_state(self):\n",
    "    return (\n",
    "      random.random() * (\n",
    "        self._max_coordinate - self._min_coordinate)\n",
    "      + self._min_coordinate)"
   ]
  },
  {
   "cell_type": "code",
   "execution_count": 25,
   "id": "af6ce2d4",
   "metadata": {},
   "outputs": [
    {
     "name": "stdout",
     "output_type": "stream",
     "text": [
      "Best state=-1.2909738589326203 with energy=2.0944132360103787\n"
     ]
    }
   ],
   "source": [
    "sa_alg = SimulatedAnnealing(\n",
    "  cost_func=f, min_coordinate=-2, max_coordinate=2, min_temp=1, max_temp=100)\n",
    "\n",
    "sa_alg.run()"
   ]
  }
 ],
 "metadata": {
  "kernelspec": {
   "display_name": "Python 3 (ipykernel)",
   "language": "python",
   "name": "python3"
  },
  "language_info": {
   "codemirror_mode": {
    "name": "ipython",
    "version": 3
   },
   "file_extension": ".py",
   "mimetype": "text/x-python",
   "name": "python",
   "nbconvert_exporter": "python",
   "pygments_lexer": "ipython3",
   "version": "3.8.10"
  }
 },
 "nbformat": 4,
 "nbformat_minor": 5
}
