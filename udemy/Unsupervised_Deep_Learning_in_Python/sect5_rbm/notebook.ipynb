{
 "cells": [
  {
   "cell_type": "markdown",
   "id": "02bc5d22",
   "metadata": {},
   "source": [
    "## <font color='darkblue'>Basic Outline for RBMs</font>\n",
    "([course link](https://www.udemy.com/course/unsupervised-deep-learning-in-python/learn/lecture/11935988#overview))"
   ]
  },
  {
   "cell_type": "markdown",
   "id": "9b9dfe57",
   "metadata": {},
   "source": [
    "### <font color='darkgreen'>Uses of RBMs</font>\n",
    "* The same as autoencoders.\n",
    "* Finding latent features\n",
    "* Greedy layer-wise pretraining\n",
    "* Big difference: theory behind RBMs goes deep, theory behind autoencoders is essentially nil."
   ]
  },
  {
   "cell_type": "markdown",
   "id": "40ceae72",
   "metadata": {},
   "source": [
    "### <font color='darkgreen'>Recall: Autoencoders et al.</font>\n",
    "* Goal is to find compact, latent representation of the data\n",
    "* In fact, all of the algorithms we studied in this courses are uesd for this purpose!\n",
    "* They (PCA, t-SNE, Autoencoders) simply had different theoretical motivations\n",
    "* Basic principle is the same:\n",
    "  * Your data is redundant and noisy\n",
    "  * Remove the redundancy and the noise"
   ]
  },
  {
   "cell_type": "markdown",
   "id": "880734c4",
   "metadata": {},
   "source": [
    "## <font color='darkblue'>Introduction of RBMs</font>\n",
    "([course link](https://www.udemy.com/course/unsupervised-deep-learning-in-python/learn/lecture/11840246#overview))"
   ]
  },
  {
   "cell_type": "markdown",
   "id": "fd788f5d",
   "metadata": {},
   "source": [
    "## <font color='darkblue'>Motivation Behind RBMs</font>\n",
    "([course link](https://www.udemy.com/course/unsupervised-deep-learning-in-python/learn/lecture/11840250#overview))"
   ]
  },
  {
   "cell_type": "markdown",
   "id": "3073284f",
   "metadata": {},
   "source": [
    "## <font color='darkblue'>Intractability</font>\n",
    "([course link](https://www.udemy.com/course/unsupervised-deep-learning-in-python/learn/lecture/11840254#overview))"
   ]
  },
  {
   "cell_type": "markdown",
   "id": "0c3c5c38",
   "metadata": {},
   "source": [
    "## <font color='darkblue'>Neural Network Equations</font>\n",
    "([course link](https://www.udemy.com/course/unsupervised-deep-learning-in-python/learn/lecture/11840258#overview))\n",
    "* How does our probability model leads us to the neural network equations we showed earlier?\n",
    "* Remarkable that statistical mechanics leads us back to the equations we already know and love\n",
    "* No wonder that research in this area was strong!"
   ]
  },
  {
   "cell_type": "markdown",
   "id": "6d2d6a26",
   "metadata": {},
   "source": [
    "## <font color='darkblue'>How to train an RBM (part1)</font>\n",
    "([course link](https://www.udemy.com/course/unsupervised-deep-learning-in-python/learn/lecture/11840260#overview))"
   ]
  },
  {
   "cell_type": "markdown",
   "id": "e57c3d2a",
   "metadata": {},
   "source": [
    "## <font color='darkblue'>How to train an RBM (part2)</font>\n",
    "([course link](https://www.udemy.com/course/unsupervised-deep-learning-in-python/learn/lecture/11840262#overview))"
   ]
  },
  {
   "cell_type": "markdown",
   "id": "77bfa815",
   "metadata": {},
   "source": [
    "## <font color='darkblue'>How to train an RBM - Free Engergy (part3)</font>\n",
    "([course link](https://www.udemy.com/course/unsupervised-deep-learning-in-python/learn/lecture/11840264#overview))"
   ]
  },
  {
   "cell_type": "markdown",
   "id": "ca17ecab",
   "metadata": {},
   "source": [
    "## <font color='darkblue'>RBM Greedy Layer-Wise Pretraining</font>\n",
    "([course link](https://www.udemy.com/course/unsupervised-deep-learning-in-python/learn/lecture/11936148#overview))\n",
    "* RBMs can be used in the same way as autoencoders to improve supervised learning in a deep neural network\n",
    "* By overcoming the [vanishing gradient problem](https://en.wikipedia.org/wiki/Vanishing_gradient_problem)"
   ]
  },
  {
   "cell_type": "markdown",
   "id": "10b163cf",
   "metadata": {},
   "source": [
    "## <font color='darkblue'>RBM in Code (Tensorflow)</font>\n",
    "([course link](https://www.udemy.com/course/unsupervised-deep-learning-in-python/learn/lecture/7339486#overview))\n",
    "* [rbm_tf.py](https://github.com/SLPeoples/Unsupervised-Deep-Learning/blob/master/04-Restricted-Boltzmann/CourseContent/rbm_tf.py)\n",
    "* [autoencoder_tf.py](https://github.com/lazyprogrammer/machine_learning_examples/blob/master/unsupervised_class2/autoencoder_tf.py)\n",
    "* [util.py](https://github.com/lazyprogrammer/machine_learning_examples/blob/master/unsupervised_class3/util.py)"
   ]
  },
  {
   "cell_type": "markdown",
   "id": "0fd4dcc2",
   "metadata": {},
   "source": [
    "## <font color='darkblue'>Supplement</font>\n",
    "* [Medium - Sampling and Monte Carlo (03)： Markov Chain Monte Carlo (MCMC) Method](https://medium.com/%E6%95%B8%E5%AD%B8-%E4%BA%BA%E5%B7%A5%E6%99%BA%E6%85%A7%E8%88%87%E8%9F%92%E8%9B%87/%E6%8A%BD%E6%A8%A3%E8%88%87%E8%92%99%E5%9C%B0%E5%8D%A1%E7%BE%85-%E4%B8%89-%E9%A6%AC%E5%8F%AF%E5%A4%AB%E9%8F%88%E8%92%99%E5%9C%B0%E5%8D%A1%E7%BE%85%E6%96%B9%E6%B3%95-1513fe720ca7)\n",
    "* [Scikit-learn: Restricted Boltzmann Machine features for digit classification](https://scikit-learn.org/stable/auto_examples/neural_networks/plot_rbm_logistic_classification.html)"
   ]
  }
 ],
 "metadata": {
  "kernelspec": {
   "display_name": "Python 3 (ipykernel)",
   "language": "python",
   "name": "python3"
  },
  "language_info": {
   "codemirror_mode": {
    "name": "ipython",
    "version": 3
   },
   "file_extension": ".py",
   "mimetype": "text/x-python",
   "name": "python",
   "nbconvert_exporter": "python",
   "pygments_lexer": "ipython3",
   "version": "3.8.10"
  }
 },
 "nbformat": 4,
 "nbformat_minor": 5
}
