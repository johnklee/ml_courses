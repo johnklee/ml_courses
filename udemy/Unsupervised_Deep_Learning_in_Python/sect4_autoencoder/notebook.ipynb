{
 "cells": [
  {
   "cell_type": "markdown",
   "id": "819d914e",
   "metadata": {},
   "source": [
    "## <font color='darkblue'>Autoencoders</font>\n",
    "([course link](https://www.udemy.com/course/unsupervised-deep-learning-in-python/learn/lecture/5106570#overview)) An autoencoder is a neural network that learns to compress and reconstruct data. It consists of an encoder, a decoder, and a loss function. <b>The encoder takes as input a dataset of data and outputs a [latent representation](https://en.wikipedia.org/wiki/Latent_space) of that data</b>. The decoder then takes the latent representation as input and outputs a reconstruction of the original data. The loss function measures the difference between the original data and the reconstruction, and the autoencoder learns to minimize this loss over time."
   ]
  },
  {
   "cell_type": "markdown",
   "id": "5ee42cfc",
   "metadata": {},
   "source": [
    "## <font color='darkblue'>Denosing Autoencoders</font>\n",
    "([course link](https://www.udemy.com/course/unsupervised-deep-learning-in-python/learn/lecture/5106626#overview))"
   ]
  },
  {
   "cell_type": "markdown",
   "id": "251d4a95",
   "metadata": {},
   "source": [
    "## <font color='darkblue'>Stacked Autoencoders</font>\n",
    "([course link](https://www.udemy.com/course/unsupervised-deep-learning-in-python/learn/lecture/5106630#overview))"
   ]
  },
  {
   "cell_type": "markdown",
   "id": "53cdb0ee",
   "metadata": {},
   "source": [
    "## <font color='darkblue'>Autoencoders in Code</font>\n",
    "([course link](https://www.udemy.com/course/unsupervised-deep-learning-in-python/learn/lecture/7342180#overview))\n",
    "* [`autoencoder_tf.py`](https://github.com/lazyprogrammer/machine_learning_examples/blob/master/unsupervised_class3/autoencoder_tf.py)"
   ]
  },
  {
   "cell_type": "code",
   "execution_count": 1,
   "id": "8e210323",
   "metadata": {},
   "outputs": [
    {
     "name": "stderr",
     "output_type": "stream",
     "text": [
      "2023-03-05 07:02:04.936811: I tensorflow/core/platform/cpu_feature_guard.cc:193] This TensorFlow binary is optimized with oneAPI Deep Neural Network Library (oneDNN) to use the following CPU instructions in performance-critical operations:  AVX2 FMA\n",
      "To enable them in other operations, rebuild TensorFlow with the appropriate compiler flags.\n",
      "2023-03-05 07:02:05.102713: W tensorflow/compiler/xla/stream_executor/platform/default/dso_loader.cc:64] Could not load dynamic library 'libcudart.so.11.0'; dlerror: libcudart.so.11.0: cannot open shared object file: No such file or directory\n",
      "2023-03-05 07:02:05.102743: I tensorflow/compiler/xla/stream_executor/cuda/cudart_stub.cc:29] Ignore above cudart dlerror if you do not have a GPU set up on your machine.\n",
      "2023-03-05 07:02:06.093363: W tensorflow/compiler/xla/stream_executor/platform/default/dso_loader.cc:64] Could not load dynamic library 'libnvinfer.so.7'; dlerror: libnvinfer.so.7: cannot open shared object file: No such file or directory\n",
      "2023-03-05 07:02:06.093506: W tensorflow/compiler/xla/stream_executor/platform/default/dso_loader.cc:64] Could not load dynamic library 'libnvinfer_plugin.so.7'; dlerror: libnvinfer_plugin.so.7: cannot open shared object file: No such file or directory\n",
      "2023-03-05 07:02:06.093520: W tensorflow/compiler/tf2tensorrt/utils/py_utils.cc:38] TF-TRT Warning: Cannot dlopen some TensorRT libraries. If you would like to use Nvidia GPU with TensorRT, please make sure the missing libraries mentioned above are installed properly.\n"
     ]
    },
    {
     "name": "stdout",
     "output_type": "stream",
     "text": [
      "X_train.shape=(60000, 784)\n",
      "X_test.shape=(10000, 784)\n",
      "tf version=2.11.0\n"
     ]
    }
   ],
   "source": [
    "import tensorflow as tf\n",
    "from tensorflow.keras.datasets import mnist\n",
    "import numpy as np\n",
    "\n",
    "(X_train, _), (X_test, _) = mnist.load_data()\n",
    "X_train = X_train.astype('float32') / 255.\n",
    "X_test = X_test.astype('float32') / 255.\n",
    "X_train = X_train.reshape((len(X_train), np.prod(X_train.shape[1:])))\n",
    "X_test = X_test.reshape((len(X_test), np.prod(X_test.shape[1:])))\n",
    "print(f'X_train.shape={X_train.shape}')\n",
    "print(f'X_test.shape={X_test.shape}')\n",
    "print(f'tf version={tf.__version__}')"
   ]
  },
  {
   "cell_type": "code",
   "execution_count": 18,
   "id": "384c3cbf",
   "metadata": {},
   "outputs": [
    {
     "name": "stdout",
     "output_type": "stream",
     "text": [
      "Epoch 1/30\n",
      "938/938 [==============================] - 6s 5ms/step - loss: 0.1255 - val_loss: 0.0810\n",
      "Epoch 2/30\n",
      "938/938 [==============================] - 5s 5ms/step - loss: 0.0755 - val_loss: 0.0711\n",
      "Epoch 3/30\n",
      "938/938 [==============================] - 5s 5ms/step - loss: 0.0699 - val_loss: 0.0683\n",
      "Epoch 4/30\n",
      "938/938 [==============================] - 5s 5ms/step - loss: 0.0680 - val_loss: 0.0671\n",
      "Epoch 5/30\n",
      "938/938 [==============================] - 5s 5ms/step - loss: 0.0669 - val_loss: 0.0663\n",
      "Epoch 6/30\n",
      "938/938 [==============================] - 5s 5ms/step - loss: 0.0663 - val_loss: 0.0658\n",
      "Epoch 7/30\n",
      "938/938 [==============================] - 5s 5ms/step - loss: 0.0659 - val_loss: 0.0656\n",
      "Epoch 8/30\n",
      "938/938 [==============================] - 5s 5ms/step - loss: 0.0656 - val_loss: 0.0653\n",
      "Epoch 9/30\n",
      "938/938 [==============================] - 5s 5ms/step - loss: 0.0654 - val_loss: 0.0651\n",
      "Epoch 10/30\n",
      "938/938 [==============================] - 5s 5ms/step - loss: 0.0652 - val_loss: 0.0651\n",
      "Epoch 11/30\n",
      "938/938 [==============================] - 5s 5ms/step - loss: 0.0651 - val_loss: 0.0648\n",
      "Epoch 12/30\n",
      "938/938 [==============================] - 5s 6ms/step - loss: 0.0650 - val_loss: 0.0648\n",
      "Epoch 13/30\n",
      "938/938 [==============================] - 5s 5ms/step - loss: 0.0649 - val_loss: 0.0647\n",
      "Epoch 14/30\n",
      "938/938 [==============================] - 5s 5ms/step - loss: 0.0648 - val_loss: 0.0646\n",
      "Epoch 15/30\n",
      "938/938 [==============================] - 5s 5ms/step - loss: 0.0648 - val_loss: 0.0646\n",
      "Epoch 16/30\n",
      "938/938 [==============================] - 5s 5ms/step - loss: 0.0647 - val_loss: 0.0645\n",
      "Epoch 17/30\n",
      "938/938 [==============================] - 5s 5ms/step - loss: 0.0647 - val_loss: 0.0646\n",
      "Epoch 18/30\n",
      "938/938 [==============================] - 5s 5ms/step - loss: 0.0646 - val_loss: 0.0646\n",
      "Epoch 19/30\n",
      "938/938 [==============================] - 5s 5ms/step - loss: 0.0646 - val_loss: 0.0645\n",
      "Epoch 20/30\n",
      "938/938 [==============================] - 5s 5ms/step - loss: 0.0645 - val_loss: 0.0645\n",
      "Epoch 21/30\n",
      "938/938 [==============================] - 5s 5ms/step - loss: 0.0645 - val_loss: 0.0645\n",
      "Epoch 22/30\n",
      "938/938 [==============================] - 5s 6ms/step - loss: 0.0645 - val_loss: 0.0646\n",
      "Epoch 23/30\n",
      "938/938 [==============================] - 5s 5ms/step - loss: 0.0645 - val_loss: 0.0644\n",
      "Epoch 24/30\n",
      "938/938 [==============================] - 5s 5ms/step - loss: 0.0645 - val_loss: 0.0644\n",
      "Epoch 25/30\n",
      "938/938 [==============================] - 5s 5ms/step - loss: 0.0644 - val_loss: 0.0644\n",
      "Epoch 26/30\n",
      "938/938 [==============================] - 6s 6ms/step - loss: 0.0644 - val_loss: 0.0643\n",
      "Epoch 27/30\n",
      "938/938 [==============================] - 6s 6ms/step - loss: 0.0644 - val_loss: 0.0643\n",
      "Epoch 28/30\n",
      "938/938 [==============================] - 5s 6ms/step - loss: 0.0644 - val_loss: 0.0644\n",
      "Epoch 29/30\n",
      "938/938 [==============================] - 5s 5ms/step - loss: 0.0644 - val_loss: 0.0643\n",
      "Epoch 30/30\n",
      "938/938 [==============================] - 5s 5ms/step - loss: 0.0644 - val_loss: 0.0644\n"
     ]
    }
   ],
   "source": [
    "import autoencoder_tf\n",
    "\n",
    "model = autoencoder_tf.Autoencoder(784, 200)\n",
    "history = model.fit(X_train, X_test, epochs=30)"
   ]
  },
  {
   "cell_type": "code",
   "execution_count": 20,
   "id": "744b38bd",
   "metadata": {},
   "outputs": [
    {
     "name": "stdout",
     "output_type": "stream",
     "text": [
      "dict_keys(['loss', 'val_loss'])\n"
     ]
    },
    {
     "data": {
      "image/png": "[encoded data removed]",
      "text/plain": [
       "<Figure size 640x480 with 1 Axes>"
      ]
     },
     "metadata": {},
     "output_type": "display_data"
    }
   ],
   "source": [
    "import matplotlib.pyplot as plt\n",
    "\n",
    "# list all data in history\n",
    "print(history.history.keys())\n",
    "\n",
    "# summarize history for loss\n",
    "plt.plot(history.history['loss'])\n",
    "plt.plot(history.history['val_loss'])\n",
    "plt.title('model loss')\n",
    "plt.ylabel('loss')\n",
    "plt.xlabel('epoch')\n",
    "plt.legend(['train', 'test'], loc='upper left')\n",
    "plt.show()"
   ]
  },
  {
   "cell_type": "markdown",
   "id": "8931da44",
   "metadata": {},
   "source": [
    "After 30 epochs, the autoencoder seems to reach a stable train/validation loss value of about 0.09. We can try to visualize the reconstructed inputs and the encoded representations. We will use Matplotlib."
   ]
  },
  {
   "cell_type": "code",
   "execution_count": 16,
   "id": "e89d4e77",
   "metadata": {},
   "outputs": [
    {
     "name": "stdout",
     "output_type": "stream",
     "text": [
      "313/313 [==============================] - 0s 1ms/step\n",
      "313/313 [==============================] - 0s 1ms/step\n"
     ]
    }
   ],
   "source": [
    "# Encode and decode some digits\n",
    "# Note that we take them from the *test* set\n",
    "encoded_imgs = model.encoder.predict(X_test)\n",
    "decoded_imgs = model.decoder.predict(encoded_imgs)"
   ]
  },
  {
   "cell_type": "code",
   "execution_count": 17,
   "id": "22a18da2",
   "metadata": {},
   "outputs": [
    {
     "data": {
      "image/png": "[encoded data removed]",
      "text/plain": [
       "<Figure size 2000x400 with 20 Axes>"
      ]
     },
     "metadata": {},
     "output_type": "display_data"
    }
   ],
   "source": [
    "# Use Matplotlib (don't ask)\n",
    "import matplotlib.pyplot as plt\n",
    "\n",
    "n = 10  # How many digits we will display\n",
    "plt.figure(figsize=(20, 4))\n",
    "for i in range(n):\n",
    "    # Display original\n",
    "    ax = plt.subplot(2, n, i + 1)\n",
    "    plt.imshow(X_test[i].reshape(28, 28))\n",
    "    plt.gray()\n",
    "    ax.get_xaxis().set_visible(False)\n",
    "    ax.get_yaxis().set_visible(False)\n",
    "\n",
    "    # Display reconstruction\n",
    "    ax = plt.subplot(2, n, i + 1 + n)\n",
    "    plt.imshow(decoded_imgs[i].reshape(28, 28))\n",
    "    plt.gray()\n",
    "    ax.get_xaxis().set_visible(False)\n",
    "    ax.get_yaxis().set_visible(False)\n",
    "    \n",
    "plt.show()"
   ]
  },
  {
   "cell_type": "markdown",
   "id": "d6a1fe68",
   "metadata": {},
   "source": [
    "Here's what we get. The top row is the original digits, and the bottom row is the reconstructed digits. We are losing quite a bit of detail with this basic approach."
   ]
  },
  {
   "cell_type": "markdown",
   "id": "608da100",
   "metadata": {},
   "source": [
    "## <font color='darkblue'>Cross Entropy vs KL-Diverence</font>\n",
    "([course link](https://www.udemy.com/course/unsupervised-deep-learning-in-python/learn/lecture/5359144#questions))"
   ]
  },
  {
   "cell_type": "markdown",
   "id": "4c5ea76f",
   "metadata": {},
   "source": [
    "## <font color='darkblue'>Supplement</font>\n",
    "* [Building Autoencoders in Keras](https://blog.keras.io/building-autoencoders-in-keras.html)\n",
    "* [Display Deep Learning Model Training History in Keras](https://machinelearningmastery.com/display-deep-learning-model-training-history-in-keras/)"
   ]
  }
 ],
 "metadata": {
  "kernelspec": {
   "display_name": "Python 3 (ipykernel)",
   "language": "python",
   "name": "python3"
  },
  "language_info": {
   "codemirror_mode": {
    "name": "ipython",
    "version": 3
   },
   "file_extension": ".py",
   "mimetype": "text/x-python",
   "name": "python",
   "nbconvert_exporter": "python",
   "pygments_lexer": "ipython3",
   "version": "3.10.9"
  }
 },
 "nbformat": 4,
 "nbformat_minor": 5
}
